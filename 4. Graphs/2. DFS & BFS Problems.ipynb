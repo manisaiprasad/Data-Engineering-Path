{
 "cells": [
  {
   "cell_type": "markdown",
   "metadata": {},
   "source": [
    "#### 1. Implement BFS and DFS and use a graph of at least 10 nodes and at least 15 edges to demonstrate.\n"
   ]
  },
  {
   "cell_type": "code",
   "execution_count": 1,
   "metadata": {},
   "outputs": [
    {
     "name": "stdout",
     "output_type": "stream",
     "text": [
      "networkx version: 2.4\n"
     ]
    }
   ],
   "source": [
    "#Import the required packages\n",
    "\n",
    "import networkx as nx\n",
    "import numpy as np\n",
    "import matplotlib.pyplot as plt\n",
    "\n",
    "%matplotlib inline\n",
    "\n",
    "print(f\"networkx version: {nx.__version__}\")"
   ]
  },
  {
   "cell_type": "code",
   "execution_count": 24,
   "metadata": {},
   "outputs": [
    {
     "data": {
      "image/png": "[encoded data removed]",
      "text/plain": [
       "<Figure size 432x288 with 1 Axes>"
      ]
     },
     "metadata": {},
     "output_type": "display_data"
    }
   ],
   "source": [
    "# Creating a Graph\n",
    "G = nx.Graph()\n",
    "# Adding nodes to graph\n",
    "G.add_node(1)\n",
    "G.add_node(2)\n",
    "G.add_node(3)\n",
    "G.add_node(4)\n",
    "G.add_node(5)\n",
    "G.add_node(6)\n",
    "G.add_node(7)\n",
    "G.add_node(8)\n",
    "G.add_node(9)\n",
    "G.add_node(10)\n",
    "G.add_node(11)\n",
    "G.add_node(12)\n",
    "G.add_node(13)\n",
    "# Adding 15 weighted edges to graph\n",
    "G.add_edge(1, 2, weight=2)\n",
    "G.add_edge(2, 3, weight=2)\n",
    "G.add_edge(11, 9, weight=3)\n",
    "G.add_edge(11, 12, weight=3)\n",
    "G.add_edge(3, 4, weight=2)\n",
    "G.add_edge(1, 3, weight=2)\n",
    "G.add_edge(2, 4, weight=2)\n",
    "G.add_edge(3, 5, weight=2)\n",
    "G.add_edge(5, 6, weight=2)\n",
    "G.add_edge(6, 7, weight=2)\n",
    "G.add_edge(2, 6, weight=5)\n",
    "G.add_edge(8, 6, weight=5)\n",
    "G.add_edge(8, 9, weight=5)\n",
    "G.add_edge(9, 10, weight=2)#12\n",
    "G.add_edge(13, 11, weight=5)\n",
    "\n",
    "np.random.seed(450)\n",
    "nx.draw(G, with_labels=True, font_weight='bold')"
   ]
  },
  {
   "cell_type": "code",
   "execution_count": 3,
   "metadata": {},
   "outputs": [
    {
     "data": {
      "text/plain": [
       "[[{'weight': 2, 'id': 2}, {'weight': 2, 'id': 3}],\n",
       " [{'weight': 2, 'id': 1},\n",
       "  {'weight': 2, 'id': 3},\n",
       "  {'weight': 2, 'id': 4},\n",
       "  {'weight': 5, 'id': 6}],\n",
       " [{'weight': 2, 'id': 2},\n",
       "  {'weight': 2, 'id': 4},\n",
       "  {'weight': 2, 'id': 1},\n",
       "  {'weight': 2, 'id': 5}],\n",
       " [{'weight': 2, 'id': 3}, {'weight': 2, 'id': 2}],\n",
       " [{'weight': 2, 'id': 3}, {'weight': 2, 'id': 6}],\n",
       " [{'weight': 2, 'id': 5},\n",
       "  {'weight': 2, 'id': 7},\n",
       "  {'weight': 5, 'id': 2},\n",
       "  {'weight': 5, 'id': 8}],\n",
       " [{'weight': 2, 'id': 6}],\n",
       " [{'weight': 5, 'id': 6}, {'weight': 5, 'id': 9}],\n",
       " [{'weight': 3, 'id': 11}, {'weight': 5, 'id': 8}, {'weight': 2, 'id': 10}],\n",
       " [{'weight': 2, 'id': 9}],\n",
       " [{'weight': 3, 'id': 9}, {'weight': 3, 'id': 12}, {'weight': 5, 'id': 13}],\n",
       " [{'weight': 3, 'id': 11}],\n",
       " [{'weight': 5, 'id': 11}]]"
      ]
     },
     "execution_count": 3,
     "metadata": {},
     "output_type": "execute_result"
    }
   ],
   "source": [
    "#Adjacency data of the graph\n",
    "adj_data = nx.adjacency_data(G)['adjacency']\n",
    "adj_data"
   ]
  },
  {
   "cell_type": "code",
   "execution_count": 4,
   "metadata": {},
   "outputs": [],
   "source": [
    "# Adjacency list representation of graph without weights for search\n",
    "def graph_to_adj_list(adj_data):\n",
    "    # Using a Python dictionary to act as an adjacency list\n",
    "    adj_list = {}\n",
    "    key = 1\n",
    "    for line in adj_data:\n",
    "        values = [str(l['id']) for l in line]\n",
    "        adj_list[str(key)] = values\n",
    "        key += 1\n",
    "    return adj_list"
   ]
  },
  {
   "cell_type": "code",
   "execution_count": 5,
   "metadata": {},
   "outputs": [
    {
     "data": {
      "text/plain": [
       "{'1': ['2', '3'],\n",
       " '2': ['1', '3', '4', '6'],\n",
       " '3': ['2', '4', '1', '5'],\n",
       " '4': ['3', '2'],\n",
       " '5': ['3', '6'],\n",
       " '6': ['5', '7', '2', '8'],\n",
       " '7': ['6'],\n",
       " '8': ['6', '9'],\n",
       " '9': ['11', '8', '10'],\n",
       " '10': ['9'],\n",
       " '11': ['9', '12', '13'],\n",
       " '12': ['11'],\n",
       " '13': ['11']}"
      ]
     },
     "execution_count": 5,
     "metadata": {},
     "output_type": "execute_result"
    }
   ],
   "source": [
    "# We need Adjacency list representation of graph to search and operate on graph\n",
    "adj_list = graph_to_adj_list(adj_data)\n",
    "adj_list"
   ]
  },
  {
   "cell_type": "code",
   "execution_count": 6,
   "metadata": {},
   "outputs": [
    {
     "name": "stdout",
     "output_type": "stream",
     "text": [
      "[1, 2, 3, 4, 6, 5, 7, 8, 9, 11, 10, 12, 13]\n"
     ]
    }
   ],
   "source": [
    "# Implementing BFS function\n",
    "def bfs(visited, graph, node):\n",
    "    # array to return with traverse order\n",
    "    array = []\n",
    "    node = str(node)\n",
    "    \n",
    "    visited.append(node)\n",
    "    queue.append(node)\n",
    "\n",
    "    while queue:\n",
    "        s = queue.pop(0) \n",
    "#         print (s, end = \" \") \n",
    "        array.append(int(s))\n",
    "\n",
    "        for neighbour in graph[s]:\n",
    "            if neighbour not in visited:\n",
    "                visited.append(neighbour)\n",
    "                queue.append(neighbour)\n",
    "    return array\n",
    "                \n",
    "# List to keep track of visited nodes.\n",
    "visited = []\n",
    "# Initialize a queue\n",
    "queue = []\n",
    "# calling bfs funtion\n",
    "print(bfs(visited, adj_list,1))"
   ]
  },
  {
   "cell_type": "code",
   "execution_count": 7,
   "metadata": {},
   "outputs": [
    {
     "name": "stdout",
     "output_type": "stream",
     "text": [
      "1 2 3 4 5 6 7 8 9 11 12 13 10 "
     ]
    }
   ],
   "source": [
    "# Implementing DFS function\n",
    "def dfs(visited, graph, node):\n",
    "    node = str(node)\n",
    "    if node not in visited:\n",
    "        print(node, end = \" \")\n",
    "        visited.add(node)\n",
    "        for neighbour in graph[node]:\n",
    "            dfs(visited, graph, neighbour)\n",
    "            \n",
    "# Set to keep track of visited nodes.\n",
    "visited = set()\n",
    "# calling dfs funtion\n",
    "dfs(visited, adj_list, 1)"
   ]
  },
  {
   "cell_type": "markdown",
   "metadata": {},
   "source": [
    "#### 2. Implement a code that uses BFS or DFS to find connected components in a graph. Also, find the length of largest and second largest connected component. Use a graph that has at least 4 components to demonstrate your code.\n"
   ]
  },
  {
   "cell_type": "code",
   "execution_count": 8,
   "metadata": {},
   "outputs": [],
   "source": [
    "# Graph building function\n",
    "import random\n",
    "def build_graph(nodes, edges):\n",
    "    G = nx.Graph()\n",
    "    G.add_nodes_from(nodes) # Add nodes from an iterable data structure\n",
    "    G.add_edges_from(edges)\n",
    "    return G"
   ]
  },
  {
   "cell_type": "code",
   "execution_count": 9,
   "metadata": {},
   "outputs": [
    {
     "data": {
      "text/plain": [
       "networkx.classes.graph.Graph"
      ]
     },
     "execution_count": 9,
     "metadata": {},
     "output_type": "execute_result"
    }
   ],
   "source": [
    "# creating the nodes for graph \n",
    "nodes = [1, 2, 3, 4, 5, 6, 7, 8, 9, 10, 11, 12, 13, 14] #14 nodes\n",
    "# creating the edges list\n",
    "edges = [(1,2),(3,5),(2,6),(7,8),(8,9),(11,7),(9,11),(3,10),(4,12),(5,13),(13,3),(14,13)] # 4 connected componentes\n",
    "# building graph with nodes and edges by Graph building function\n",
    "Graph2 = build_graph(nodes, edges)\n",
    "type(Graph2)"
   ]
  },
  {
   "cell_type": "code",
   "execution_count": 10,
   "metadata": {},
   "outputs": [
    {
     "data": {
      "image/png": "[encoded data removed]",
      "text/plain": [
       "<Figure size 432x288 with 1 Axes>"
      ]
     },
     "metadata": {},
     "output_type": "display_data"
    }
   ],
   "source": [
    "#showing the graph with multiple components\n",
    "nx.draw(Graph2, with_labels=True, font_weight='bold')"
   ]
  },
  {
   "cell_type": "code",
   "execution_count": 11,
   "metadata": {},
   "outputs": [],
   "source": [
    "#Adjacency data of graph\n",
    "adj_data = nx.adjacency_data(Graph2)['adjacency']\n",
    "\n",
    "# Adjacency list representation of graph to search and operate on graph\n",
    "adj_list = graph_to_adj_list(adj_data)"
   ]
  },
  {
   "cell_type": "code",
   "execution_count": 12,
   "metadata": {},
   "outputs": [],
   "source": [
    "# Set to keep track of visited nodes.\n",
    "vistedComponentsNode = set()\n",
    "# A dictionary to keep the components\n",
    "components = {}"
   ]
  },
  {
   "cell_type": "code",
   "execution_count": 13,
   "metadata": {},
   "outputs": [],
   "source": [
    "for node in nodes:\n",
    "    # We will add the visted nodes in vistedComponentsNode \n",
    "    # If a node is not present in the vistedComponentsNode set then\n",
    "    # we will find the connected component using bfs and add all it's nodes to the set \n",
    "    if node not in vistedComponentsNode:\n",
    "        # List to keep track of component visited nodes.\n",
    "        visited = []\n",
    "        # Initialize a queue\n",
    "        queue = []\n",
    "        # we are using bfs to find the all nodes of the connected component\n",
    "        # calling bfs funtion\n",
    "        component = bfs(visited, adj_list,node)\n",
    "        # adding the connected component to dictionary with its length\n",
    "        components[len(component)] = component\n",
    "        #adding all the values of the component to the set\n",
    "        vistedComponentsNode = vistedComponentsNode.union(set(component))\n",
    "#         print(vistedComponentsNode)\n",
    "        \n",
    "# print(vistedComponentsNode)\n",
    "# components"
   ]
  },
  {
   "cell_type": "code",
   "execution_count": 14,
   "metadata": {},
   "outputs": [],
   "source": [
    "#finding the largest and second largest\n",
    "counts = list(components.keys())\n",
    "largest = max(counts)\n",
    "counts.remove(largest)\n",
    "secondLargest = max(counts)\n",
    "# using nx.connected_components to find the max length component\n",
    "# largest_cc = max(nx.connected_components(Graph2), key=len)\n",
    "# largest_cc\n",
    "# arr = [len(c) for c in sorted(nx.connected_components(Graph2), key=len, reverse=True)]\n",
    "# arr"
   ]
  },
  {
   "cell_type": "code",
   "execution_count": 15,
   "metadata": {},
   "outputs": [
    {
     "name": "stdout",
     "output_type": "stream",
     "text": [
      "Number of connected components in the graph is 4 \n",
      "\n",
      "Length of the largest component is 5 \n",
      " and the component is [3, 5, 10, 13, 14] \n",
      "\n",
      "Length of the second largest component is 4 \n",
      " and the component is [7, 8, 11, 9] \n",
      "\n"
     ]
    }
   ],
   "source": [
    "print(f\"Number of connected components in the graph is {len(components)} \\n\")\n",
    "print(f\"Length of the largest component is {largest} \\n and the component is {components[largest]} \\n\")\n",
    "print(f\"Length of the second largest component is {secondLargest} \\n and the component is {components[secondLargest]} \\n\")"
   ]
  },
  {
   "cell_type": "markdown",
   "metadata": {},
   "source": [
    "#### 3. Implement Dijkstras algorithm and demonstrate in the above graph to find the diameter of the graph. Diameter of the graph is the longest path among the shortest paths between any two vertices. Draw the graph and highlight the diameter in the graph. \n"
   ]
  },
  {
   "cell_type": "code",
   "execution_count": 16,
   "metadata": {},
   "outputs": [
    {
     "data": {
      "image/png": "[encoded data removed]",
      "text/plain": [
       "<Figure size 432x288 with 1 Axes>"
      ]
     },
     "metadata": {},
     "output_type": "display_data"
    }
   ],
   "source": [
    "# Showing the weighted graph\n",
    "pos = nx.spring_layout(G, scale=3)\n",
    "nx.draw(G, pos,with_labels=True, font_weight='bold')\n",
    "edge_labels = nx.get_edge_attributes(G,'r')\n",
    "nx.draw_networkx_edge_labels(G, pos, labels = edge_labels)\n",
    "plt.show()"
   ]
  },
  {
   "cell_type": "code",
   "execution_count": 17,
   "metadata": {},
   "outputs": [
    {
     "data": {
      "text/plain": [
       "[[{'weight': 2, 'id': 2}, {'weight': 2, 'id': 3}],\n",
       " [{'weight': 2, 'id': 1},\n",
       "  {'weight': 2, 'id': 3},\n",
       "  {'weight': 2, 'id': 4},\n",
       "  {'weight': 5, 'id': 6}],\n",
       " [{'weight': 2, 'id': 2},\n",
       "  {'weight': 2, 'id': 4},\n",
       "  {'weight': 2, 'id': 1},\n",
       "  {'weight': 2, 'id': 5}],\n",
       " [{'weight': 2, 'id': 3}, {'weight': 2, 'id': 2}],\n",
       " [{'weight': 2, 'id': 3}, {'weight': 2, 'id': 6}],\n",
       " [{'weight': 2, 'id': 5},\n",
       "  {'weight': 2, 'id': 7},\n",
       "  {'weight': 5, 'id': 2},\n",
       "  {'weight': 5, 'id': 8}],\n",
       " [{'weight': 2, 'id': 6}],\n",
       " [{'weight': 5, 'id': 6}, {'weight': 5, 'id': 9}],\n",
       " [{'weight': 3, 'id': 11}, {'weight': 5, 'id': 8}, {'weight': 2, 'id': 10}],\n",
       " [{'weight': 2, 'id': 9}],\n",
       " [{'weight': 3, 'id': 9}, {'weight': 3, 'id': 12}, {'weight': 5, 'id': 13}],\n",
       " [{'weight': 3, 'id': 11}],\n",
       " [{'weight': 5, 'id': 11}]]"
      ]
     },
     "execution_count": 17,
     "metadata": {},
     "output_type": "execute_result"
    }
   ],
   "source": [
    "#Adjacency data of the graph\n",
    "adj_data = nx.adjacency_data(G)['adjacency']\n",
    "adj_data"
   ]
  },
  {
   "cell_type": "code",
   "execution_count": 18,
   "metadata": {},
   "outputs": [],
   "source": [
    "# Adjacency list representation of graph G\n",
    "def graph_to_adj_list(adj_data):\n",
    "  # Using a Python dictionary to act as an adjacency list\n",
    "    adj_list = {}\n",
    "    key = 1\n",
    "    for line in adj_data:\n",
    "        newDict = {}\n",
    "        for l in line:\n",
    "            newDict[l['id']] = l['weight']\n",
    "        adj_list[key] = newDict\n",
    "        key += 1\n",
    "    return adj_list"
   ]
  },
  {
   "cell_type": "code",
   "execution_count": 19,
   "metadata": {},
   "outputs": [
    {
     "data": {
      "text/plain": [
       "{1: {2: 2, 3: 2},\n",
       " 2: {1: 2, 3: 2, 4: 2, 6: 5},\n",
       " 3: {2: 2, 4: 2, 1: 2, 5: 2},\n",
       " 4: {3: 2, 2: 2},\n",
       " 5: {3: 2, 6: 2},\n",
       " 6: {5: 2, 7: 2, 2: 5, 8: 5},\n",
       " 7: {6: 2},\n",
       " 8: {6: 5, 9: 5},\n",
       " 9: {11: 3, 8: 5, 10: 2},\n",
       " 10: {9: 2},\n",
       " 11: {9: 3, 12: 3, 13: 5},\n",
       " 12: {11: 3},\n",
       " 13: {11: 5}}"
      ]
     },
     "execution_count": 19,
     "metadata": {},
     "output_type": "execute_result"
    }
   ],
   "source": [
    "# We need Adjacency list representation of graph with weights\n",
    "adj_list = graph_to_adj_list(adj_data)\n",
    "adj_list"
   ]
  },
  {
   "cell_type": "code",
   "execution_count": 20,
   "metadata": {},
   "outputs": [],
   "source": [
    "import sys\n",
    "# Implementing dijkstra algorithm\n",
    "def dijkstra(graph,start,end,visited=[],distances={},predecessors={}):\n",
    "    \"\"\"Find the shortest path btw start & end nodes in a graph\"\"\"\n",
    "    # detect if first time through, set current distance to zero\n",
    "    if not visited: distances[start]=0\n",
    "    \n",
    "    # if we've found our end node, find the path to it, and return\n",
    "    if start==end:\n",
    "        path=[]\n",
    "        path_distances = []\n",
    "        while end != None:\n",
    "            path.append(end)\n",
    "            path_distances.append(distances[end])\n",
    "            end=predecessors.get(end,None)\n",
    "        return distances[start], path[::-1], path_distances[::-1]\n",
    "    \n",
    "    # process neighbors as per algorithm, keep track of predecessors\n",
    "    for neighbor in graph[start]:\n",
    "        if neighbor not in visited:\n",
    "            neighbordist = distances.get(neighbor,float('inf'))\n",
    "            tentativedist = distances[start] + graph[start][neighbor]\n",
    "            if tentativedist < neighbordist:\n",
    "                distances[neighbor] = tentativedist\n",
    "                predecessors[neighbor]=start\n",
    "    \n",
    "    # neighbors processed, now mark the current node as visited \n",
    "    visited.append(start)\n",
    "    \n",
    "    # finds the closest unvisited node to the start \n",
    "    unvisiteds = dict((k, distances.get(k,float('inf'))) for k in graph if k not in visited)\n",
    "    closestnode = min(unvisiteds, key=unvisiteds.get)\n",
    "    # now take the closest node and recurse, making it current \n",
    "    return dijkstra(graph,closestnode,end,visited,distances,predecessors)\n"
   ]
  },
  {
   "cell_type": "code",
   "execution_count": 21,
   "metadata": {},
   "outputs": [
    {
     "name": "stdout",
     "output_type": "stream",
     "text": [
      "Diameter:  24\n",
      "\n",
      "Path:  [1, 3, 5, 6, 8, 9, 11, 13]\n",
      "\n"
     ]
    }
   ],
   "source": [
    "# Creating minDistances dictionary\n",
    "minDistances = {}\n",
    "# nodes of the graph\n",
    "keys =list(adj_list.keys())\n",
    "# traversing through every vertices\n",
    "for key in keys:\n",
    "    for key2 in keys:\n",
    "        try:\n",
    "            #Calling the dijkstra every vertices\n",
    "            length, path, distances = dijkstra(adj_list,1,key2)\n",
    "            #Storing the lenght and path of the vertices in minDistances dictionary\n",
    "            minDistances[length] = path\n",
    "        except:\n",
    "            continue\n",
    "#Diameter of the graph is the longest path among the shortest paths between any two vertices\n",
    "diameter = max(minDistances)\n",
    "print(\"Diameter: \",diameter,end=\"\\n\\n\")\n",
    "path = minDistances[diameter]\n",
    "print(\"Path: \",path,end=\"\\n\\n\")"
   ]
  },
  {
   "cell_type": "code",
   "execution_count": 22,
   "metadata": {},
   "outputs": [
    {
     "data": {
      "image/png": "[encoded data removed]",
      "text/plain": [
       "<Figure size 432x288 with 1 Axes>"
      ]
     },
     "metadata": {},
     "output_type": "display_data"
    }
   ],
   "source": [
    "# Showing the graph diameter the Diameter is calculated based on the weighted graph\n",
    "nx.draw(G,pos,node_color='k')\n",
    "# draw path in red\n",
    "path_edges = list(zip(path,path[1:]))\n",
    "nx.draw_networkx_edges(G,pos,edgelist=path_edges,edge_color='r',width=2)\n",
    "# nx.draw_networkx_edge_labels(G, pos, labels = edge_labels)\n",
    "plt.axis('equal')\n",
    "plt.show()"
   ]
  },
  {
   "cell_type": "code",
   "execution_count": null,
   "metadata": {},
   "outputs": [],
   "source": []
  }
 ],
 "metadata": {
  "kernelspec": {
   "display_name": "Python 3",
   "language": "python",
   "name": "python3"
  },
  "language_info": {
   "codemirror_mode": {
    "name": "ipython",
    "version": 3
   },
   "file_extension": ".py",
   "mimetype": "text/x-python",
   "name": "python",
   "nbconvert_exporter": "python",
   "pygments_lexer": "ipython3",
   "version": "3.7.6"
  }
 },
 "nbformat": 4,
 "nbformat_minor": 4
}
