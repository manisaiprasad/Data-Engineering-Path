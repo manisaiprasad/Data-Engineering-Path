{
 "cells": [
  {
   "cell_type": "markdown",
   "metadata": {},
   "source": [
    "## Task 1\n",
    "\n",
    "Write a Python program to print the alphabet pattern 'G'. \n",
    "\n",
    "Hint : Using print statements is sufficient.\n"
   ]
  },
  {
   "cell_type": "code",
   "execution_count": 1,
   "metadata": {},
   "outputs": [
    {
     "name": "stdout",
     "output_type": "stream",
     "text": [
      " ***\n",
      "*   *\n",
      "*\n",
      "* ***\n",
      "*   *\n",
      "*   *\n",
      " ***\n"
     ]
    }
   ],
   "source": [
    "# We can use multiple print statements\n",
    "\n",
    "print(\" ***\")\n",
    "print(\"*   *\")\n",
    "print(\"*\")\n",
    "print(\"* ***\")\n",
    "print(\"*   *\")\n",
    "print(\"*   *\")\n",
    "print(\" ***\")"
   ]
  },
  {
   "cell_type": "code",
   "execution_count": 2,
   "metadata": {},
   "outputs": [
    {
     "name": "stdout",
     "output_type": "stream",
     "text": [
      " ***\n",
      "*   *\n",
      "*\n",
      "* ***\n",
      "*   *\n",
      "*   *\n",
      " ***\n"
     ]
    }
   ],
   "source": [
    "# or In a single print statement\n",
    "print(\" ***\\n*   *\\n*\\n* ***\\n*   *\\n*   *\\n ***\")"
   ]
  },
  {
   "cell_type": "markdown",
   "metadata": {},
   "source": [
    "## Task 2\n",
    "\n",
    "Write a Python program to check whether an alphabet is a vowel or consonant.\n",
    "\n",
    "Note : Use only one if-else statement\n"
   ]
  },
  {
   "cell_type": "code",
   "execution_count": 3,
   "metadata": {},
   "outputs": [
    {
     "name": "stdout",
     "output_type": "stream",
     "text": [
      "Enter a letter: a\n",
      "Vowel\n"
     ]
    }
   ],
   "source": [
    "def vowelOrConsonant(alphabet):\n",
    "    if alphabet == 'a' or alphabet == 'e' or alphabet == 'i' or alphabet == 'o' or alphabet == 'u':\n",
    "        return \"Vowel\"\n",
    "    else:\n",
    "        return \"Consonant\"\n",
    "\n",
    "alphabet = input(\"Enter a letter: \")\n",
    "print(vowelOrConsonant(alphabet))"
   ]
  },
  {
   "cell_type": "markdown",
   "metadata": {},
   "source": [
    "## Task 3\n",
    "\n",
    "Write a Python program to convert month names to a number of days."
   ]
  },
  {
   "cell_type": "code",
   "execution_count": 4,
   "metadata": {},
   "outputs": [
    {
     "name": "stdout",
     "output_type": "stream",
     "text": [
      "Enter Month Name: june\n",
      "30\n"
     ]
    }
   ],
   "source": [
    "def numberOfDays(month):\n",
    "    # if else statements to check the given month \n",
    "    if month == \"february\":\n",
    "        return \"28\"\n",
    "    elif month in [\"april\", \"june\", \"september\", \"november\"]:\n",
    "        return \"30\"\n",
    "    elif month in [\"january\", \"march\", \"may\", \"july\", \"august\", \"october\", \"december\"]:\n",
    "        return \"31\"\n",
    "    else:\n",
    "        print(\"No such month exists\")\n",
    "        \n",
    "month = input(\"Enter Month Name: \")\n",
    "print(numberOfDays(month))\n"
   ]
  },
  {
   "cell_type": "markdown",
   "metadata": {},
   "source": [
    "## Task 4\n",
    "Write a Python program that takes three integers as input and prints minimum among those three values.\n"
   ]
  },
  {
   "cell_type": "code",
   "execution_count": 5,
   "metadata": {},
   "outputs": [
    {
     "name": "stdout",
     "output_type": "stream",
     "text": [
      "Enter first number: 3\n",
      "Enter second number: 2\n",
      "Enter third number: 5\n",
      "2\n"
     ]
    }
   ],
   "source": [
    "first_num = int(input(\"Enter first number: \"))\n",
    "second_num = int(input(\"Enter second number: \"))\n",
    "third_num = int(input(\"Enter third number: \"))\n",
    "\n",
    "if first_num < second_num:\n",
    "    if first_num < third_num:\n",
    "        print(first_num)     \n",
    "    else:\n",
    "        print(third_num)\n",
    "else:\n",
    "    if second_num < third_num:\n",
    "        print(second_num)\n",
    "    else:\n",
    "        print(third_num)"
   ]
  },
  {
   "cell_type": "markdown",
   "metadata": {},
   "source": [
    "## Task 5\n",
    "Write a python program that takes string as input and check whether the given string is palindrome or not.\n",
    "\n",
    "Note: Use an user defined function.\n"
   ]
  },
  {
   "cell_type": "code",
   "execution_count": 6,
   "metadata": {},
   "outputs": [
    {
     "name": "stdout",
     "output_type": "stream",
     "text": [
      "Enter a string: madam\n",
      "palindrome\n"
     ]
    }
   ],
   "source": [
    "def palindromeOrNot(string):\n",
    "    # We can use slice that steps backwards, -1 gives us a reverse string and compare that with original string\n",
    "    if string == string[::-1]:\n",
    "        return \"palindrome\"\n",
    "    return \"not palindrome\"\n",
    "\n",
    "string = input(\"Enter a string: \")\n",
    "print(palindromeOrNot(string))"
   ]
  },
  {
   "cell_type": "markdown",
   "metadata": {},
   "source": [
    "## Task 6\n",
    "Write a Python program that prints the given pattern. \n",
    "\n",
    "Note : Use for loop."
   ]
  },
  {
   "cell_type": "code",
   "execution_count": 7,
   "metadata": {},
   "outputs": [
    {
     "name": "stdout",
     "output_type": "stream",
     "text": [
      "*****\n",
      "****\n",
      "***\n",
      "**\n",
      "*\n",
      "**\n",
      "***\n",
      "****\n",
      "*****\n"
     ]
    }
   ],
   "source": [
    "n = 5\n",
    "for i in range (n,1,-1):\n",
    "    for j in range (i):\n",
    "        print(\"*\", end=\"\")\n",
    "    print()\n",
    "\n",
    "for i in range (1,n+1):\n",
    "    for j in range (i):\n",
    "        print(\"*\", end=\"\")\n",
    "    print()"
   ]
  },
  {
   "cell_type": "markdown",
   "metadata": {},
   "source": [
    "## Task 7\n",
    "Write a python code that will print a diamond of height H, where H is taken from the user as input. Note that, N>=3 and add a check for the same in your code. \n",
    "\n",
    "Note : use user defined functions."
   ]
  },
  {
   "cell_type": "code",
   "execution_count": 9,
   "metadata": {},
   "outputs": [
    {
     "name": "stdout",
     "output_type": "stream",
     "text": [
      "Enter the height of the diamond: 2\n",
      "Enter valid input\n"
     ]
    }
   ],
   "source": [
    "def printDiamond(h):\n",
    "    if h >=3:\n",
    "        lower = int(h/2)\n",
    "        upper = h- lower\n",
    "        # print upper Diamond\n",
    "        for i in range(upper):\n",
    "            for j in range(upper-i):\n",
    "                print(' ', end='') # printing space required and staying in same line\n",
    "\n",
    "            for j in range(2*i+1):\n",
    "                if j==0 or j==2*i:\n",
    "                    print('*',end='')\n",
    "                else:\n",
    "                    print(' ', end='')\n",
    "            print()\n",
    "\n",
    "        # lower upper Diamond\n",
    "        for i in range(lower,0, -1):\n",
    "            if lower == 1:\n",
    "                print(\" \",end=\"\")\n",
    "\n",
    "            for j in range(1,h-i):\n",
    "                print(\" \", end=\"\")\n",
    "            for j in range(1, 2*i):\n",
    "                if j==1 or j==2*i-1:\n",
    "                    print(\"*\", end=\"\")\n",
    "                else:\n",
    "                    print(\" \", end=\"\")\n",
    "            print()\n",
    "    else:\n",
    "        print(\"Enter valid input\")\n",
    "#test case 1       \n",
    "h = int(input('Enter the height of the diamond: '))\n",
    "printDiamond(h)\n"
   ]
  },
  {
   "cell_type": "code",
   "execution_count": 10,
   "metadata": {},
   "outputs": [
    {
     "name": "stdout",
     "output_type": "stream",
     "text": [
      "Enter the height of the diamond: 4\n",
      "  *\n",
      " * *\n",
      " * *\n",
      "  *\n"
     ]
    }
   ],
   "source": [
    "# test case 2\n",
    "h = int(input('Enter the height of the diamond: '))\n",
    "printDiamond(h)"
   ]
  },
  {
   "cell_type": "code",
   "execution_count": 11,
   "metadata": {},
   "outputs": [
    {
     "name": "stdout",
     "output_type": "stream",
     "text": [
      "Enter the height of the diamond: 5\n",
      "   *\n",
      "  * *\n",
      " *   *\n",
      "  * *\n",
      "   *\n"
     ]
    }
   ],
   "source": [
    "#Test case 3\n",
    "h = int(input('Enter the height of the diamond: '))\n",
    "printDiamond(h)"
   ]
  },
  {
   "cell_type": "markdown",
   "metadata": {},
   "source": [
    "## Task 8\n",
    "Write a Python program that takes a positive input integer n and prints fibonacci numbers less than or equal to n.\n",
    "\n",
    "Note : use a while loop"
   ]
  },
  {
   "cell_type": "code",
   "execution_count": 12,
   "metadata": {},
   "outputs": [
    {
     "name": "stdout",
     "output_type": "stream",
     "text": [
      "Enter a number: 40\n",
      "0\n",
      "1\n",
      "1\n",
      "2\n",
      "3\n",
      "5\n",
      "8\n",
      "13\n",
      "21\n",
      "34\n"
     ]
    }
   ],
   "source": [
    "n = int(input(\"Enter a number: \"))\n",
    "first, second = 0, 1\n",
    "print(first)\n",
    "while second <= n:\n",
    "    print(second)\n",
    "    nextValue = first + second\n",
    "    # update values\n",
    "    first = second\n",
    "    second = nextValue"
   ]
  },
  {
   "cell_type": "code",
   "execution_count": null,
   "metadata": {},
   "outputs": [],
   "source": []
  }
 ],
 "metadata": {
  "kernelspec": {
   "display_name": "Python 3",
   "language": "python",
   "name": "python3"
  },
  "language_info": {
   "codemirror_mode": {
    "name": "ipython",
    "version": 3
   },
   "file_extension": ".py",
   "mimetype": "text/x-python",
   "name": "python",
   "nbconvert_exporter": "python",
   "pygments_lexer": "ipython3",
   "version": "3.7.6"
  }
 },
 "nbformat": 4,
 "nbformat_minor": 4
}
