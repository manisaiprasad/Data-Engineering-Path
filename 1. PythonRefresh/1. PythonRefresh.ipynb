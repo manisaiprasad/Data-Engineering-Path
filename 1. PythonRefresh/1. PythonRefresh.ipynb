{
 "cells": [
  {
   "cell_type": "markdown",
   "metadata": {},
   "source": [
    "## Task 1\n",
    "Write a python program to print multiplication of two numbers."
   ]
  },
  {
   "cell_type": "code",
   "execution_count": 1,
   "metadata": {},
   "outputs": [
    {
     "name": "stdout",
     "output_type": "stream",
     "text": [
      "Enter number1: 3\n",
      "Enter number2: 4\n",
      "12\n"
     ]
    }
   ],
   "source": [
    "# multiply function takes two numbers as arguments and returns the multiplication of numbers\n",
    "\n",
    "def multiply(number1, number2):\n",
    "    return number1 * number2\n",
    "\n",
    "number1 = int(input(\"Enter number1: \"))\n",
    "number2 = int(input(\"Enter number2: \"))\n",
    "print(multiply(number1,number2))"
   ]
  },
  {
   "cell_type": "markdown",
   "metadata": {},
   "source": [
    "## Task 2\n",
    "Write a python program to find the area of circle."
   ]
  },
  {
   "cell_type": "code",
   "execution_count": 2,
   "metadata": {},
   "outputs": [
    {
     "name": "stdout",
     "output_type": "stream",
     "text": [
      "Enter diameter: 5\n",
      "19.625\n"
     ]
    }
   ],
   "source": [
    "def findArea(diameter):\n",
    "    PI = 3.14\n",
    "    radius = diameter/2\n",
    "    return PI * (radius*radius);\n",
    "\n",
    "#takes input from the user and typecast to int \n",
    "diameter = int(input(\"Enter diameter: \"))\n",
    "print(findArea(diameter))"
   ]
  },
  {
   "cell_type": "markdown",
   "metadata": {},
   "source": [
    "## Task 3\n",
    "Write a python program whether the given number is even or odd."
   ]
  },
  {
   "cell_type": "code",
   "execution_count": 3,
   "metadata": {},
   "outputs": [
    {
     "name": "stdout",
     "output_type": "stream",
     "text": [
      "Enter a number: 65\n",
      "Odd\n"
     ]
    }
   ],
   "source": [
    "def evenOrOdd(number):\n",
    "    if number % 2 == 0:\n",
    "        return \"Even\"\n",
    "    return \"Odd\"\n",
    "\n",
    "number = int(input(\"Enter a number: \"))\n",
    "print(evenOrOdd(number))"
   ]
  },
  {
   "cell_type": "markdown",
   "metadata": {},
   "source": [
    "## Task 4\n",
    "Write a python program to print length of a given string."
   ]
  },
  {
   "cell_type": "code",
   "execution_count": 4,
   "metadata": {},
   "outputs": [
    {
     "name": "stdout",
     "output_type": "stream",
     "text": [
      "Enter the string: Hello\n",
      "5\n"
     ]
    }
   ],
   "source": [
    "# We can use built in len() method to find the string length\n",
    "string = input(\"Enter the string: \")\n",
    "print(len(string))"
   ]
  },
  {
   "cell_type": "code",
   "execution_count": 5,
   "metadata": {},
   "outputs": [
    {
     "name": "stdout",
     "output_type": "stream",
     "text": [
      "Enter the string: Hello\n",
      "5\n"
     ]
    }
   ],
   "source": [
    "# or can use a counter and traverse through the string\n",
    "def lengthOfString(string):\n",
    "    counter = 0\n",
    "    for c in string: \n",
    "        counter+=1\n",
    "        \n",
    "    return counter\n",
    "\n",
    "string = input(\"Enter the string: \")\n",
    "print(lengthOfString(string))"
   ]
  },
  {
   "cell_type": "markdown",
   "metadata": {},
   "source": [
    "## Task 5\n",
    "Write a python program to print all odd numbers till given input integer."
   ]
  },
  {
   "cell_type": "code",
   "execution_count": 6,
   "metadata": {},
   "outputs": [
    {
     "name": "stdout",
     "output_type": "stream",
     "text": [
      "Enter a number: 17\n",
      "1\n",
      "3\n",
      "5\n",
      "7\n",
      "9\n",
      "11\n",
      "13\n",
      "15\n",
      "17\n"
     ]
    }
   ],
   "source": [
    "def printOdd(number):\n",
    "    for i in range(1,number+1,2):\n",
    "        print(i)\n",
    "\n",
    "number = int(input(\"Enter a number: \"))\n",
    "printOdd(number)"
   ]
  },
  {
   "cell_type": "markdown",
   "metadata": {},
   "source": [
    "## Task 6\n",
    "Write a python program to print all odd numbers till given input integer."
   ]
  },
  {
   "cell_type": "code",
   "execution_count": 7,
   "metadata": {},
   "outputs": [
    {
     "name": "stdout",
     "output_type": "stream",
     "text": [
      "['Welcome', 'all', 'in', 'Data', 'Science!']\n"
     ]
    }
   ],
   "source": [
    "string = \"Welcome all in Data Science!\" \n",
    "# Use built in split split method on string \n",
    "tokens = string.split()\n",
    "print(tokens)"
   ]
  },
  {
   "cell_type": "markdown",
   "metadata": {},
   "source": [
    "## Task 7\n",
    "Add the parentheses to following expression so that it evauates to 0\n",
    "\n",
    "* Expression 8-3*2-1+1"
   ]
  },
  {
   "cell_type": "code",
   "execution_count": 8,
   "metadata": {},
   "outputs": [
    {
     "data": {
      "text/plain": [
       "0"
      ]
     },
     "execution_count": 8,
     "metadata": {},
     "output_type": "execute_result"
    }
   ],
   "source": [
    "8-3*2-(1+1)"
   ]
  },
  {
   "cell_type": "markdown",
   "metadata": {},
   "source": [
    "## Task 8 \n",
    "Sort the following ist in alphabetical order.\n",
    "\n",
    "fruits = ['mango','papaya','banana','apple']"
   ]
  },
  {
   "cell_type": "code",
   "execution_count": 9,
   "metadata": {},
   "outputs": [
    {
     "name": "stdout",
     "output_type": "stream",
     "text": [
      "['apple', 'banana', 'mango', 'papaya']\n"
     ]
    }
   ],
   "source": [
    "fruits = ['mango','papaya','banana','apple']\n",
    "fruits.sort()\n",
    "print(fruits)"
   ]
  },
  {
   "cell_type": "markdown",
   "metadata": {},
   "source": [
    "## Task 9\n",
    "Which index would select the value 'blue' from the given list.\n",
    "\n",
    "> Colors = ['red','green','blue','white']\n",
    "\n",
    "Answer: Index 2 will select the value 'blue' from the list"
   ]
  },
  {
   "cell_type": "code",
   "execution_count": 10,
   "metadata": {},
   "outputs": [
    {
     "name": "stdout",
     "output_type": "stream",
     "text": [
      "blue\n"
     ]
    }
   ],
   "source": [
    "Colors = ['red','green','blue','white']\n",
    "print(Colors[2])"
   ]
  },
  {
   "cell_type": "markdown",
   "metadata": {},
   "source": [
    "## Task 10\n",
    "Count the occurrences of the letter \"a\" in the given list.\n",
    "\n",
    "list = [\"d\",\"a\",\"t\",\"a\",\"c\",\"a\",\"m\",\"p\"]"
   ]
  },
  {
   "cell_type": "code",
   "execution_count": 11,
   "metadata": {},
   "outputs": [
    {
     "name": "stdout",
     "output_type": "stream",
     "text": [
      "3\n"
     ]
    }
   ],
   "source": [
    "def numOfOccurrences(list, letter):\n",
    "    #intialize a occurrences dictionary \n",
    "    occurrences = {}\n",
    "    for char in list:\n",
    "        # if a character present in the dictionary then increase the value count\n",
    "        if char in occurrences:\n",
    "            occurrences[char] += 1\n",
    "        else:\n",
    "            occurrences[char] = 1 #add character to dictionary\n",
    "    return occurrences[letter] \n",
    "\n",
    "list = [\"d\",\"a\",\"t\",\"a\",\"c\",\"a\",\"m\",\"p\"]\n",
    "\n",
    "print(numOfOccurrences(list,\"a\"))\n"
   ]
  },
  {
   "cell_type": "markdown",
   "metadata": {},
   "source": [
    "## Task 11\n",
    "How do you assign a tuple of length 1 to a variable a?"
   ]
  },
  {
   "cell_type": "code",
   "execution_count": 12,
   "metadata": {},
   "outputs": [
    {
     "name": "stdout",
     "output_type": "stream",
     "text": [
      "5\n"
     ]
    }
   ],
   "source": [
    "tuple_value = (5)\n",
    "# unpacking tuple of length 1 to variable a\n",
    "a = tuple_value\n",
    "print(a)"
   ]
  },
  {
   "cell_type": "markdown",
   "metadata": {},
   "source": [
    "## Task 12\n",
    "Write the python code that prints out the Captain Kirk's email address from the employee dictionary below:\n",
    "\n",
    "employee = {\n",
    "\n",
    "    \"id\":1701,\n",
    "    \n",
    "    \"name\":\"James T Krik\",\n",
    "    \n",
    "    \"email\":\"jtkirk@starfleet.com\",\n",
    "    \n",
    "    \"position\":\"captain\"\n",
    "}"
   ]
  },
  {
   "cell_type": "code",
   "execution_count": 13,
   "metadata": {},
   "outputs": [
    {
     "name": "stdout",
     "output_type": "stream",
     "text": [
      "jtkirk@starfleet.com\n"
     ]
    }
   ],
   "source": [
    "employee = {\n",
    "    \"id\":1701,\n",
    "    \"name\":\"James T Krik\",\n",
    "    \"email\":\"jtkirk@starfleet.com\",\n",
    "    \"position\":\"captain\"\n",
    "}\n",
    "\n",
    "print(employee[\"email\"])"
   ]
  },
  {
   "cell_type": "markdown",
   "metadata": {},
   "source": [
    "## Task 13\n",
    "Write a Python program which accepts the user's first and last name and print them in reverse order with a space in between them."
   ]
  },
  {
   "cell_type": "code",
   "execution_count": 2,
   "metadata": {},
   "outputs": [
    {
     "name": "stdout",
     "output_type": "stream",
     "text": [
      "Enter First Name: Mani\n",
      "Enter Last Name: Sai\n",
      "iaS inaM\n"
     ]
    }
   ],
   "source": [
    "firstName = input(\"Enter First Name: \")\n",
    "lastName = input(\"Enter Last Name: \")\n",
    "# We can use slice that steps backwards, -1\n",
    "print(lastName[::-1]+\" \"+firstName[::-1])"
   ]
  },
  {
   "cell_type": "code",
   "execution_count": null,
   "metadata": {},
   "outputs": [],
   "source": []
  }
 ],
 "metadata": {
  "kernelspec": {
   "display_name": "Python 3",
   "language": "python",
   "name": "python3"
  },
  "language_info": {
   "codemirror_mode": {
    "name": "ipython",
    "version": 3
   },
   "file_extension": ".py",
   "mimetype": "text/x-python",
   "name": "python",
   "nbconvert_exporter": "python",
   "pygments_lexer": "ipython3",
   "version": "3.7.6"
  }
 },
 "nbformat": 4,
 "nbformat_minor": 4
}
