{
 "cells": [
  {
   "cell_type": "markdown",
   "metadata": {},
   "source": [
    "1. Implement insertion sort, quick sort, bubble sort, merge sort. Test with arrays of sizes 10, 100, 1000, 10000. Use same array for all sorting algorithms and print time taken by each of them. \n"
   ]
  },
  {
   "cell_type": "code",
   "execution_count": 1,
   "metadata": {},
   "outputs": [],
   "source": [
    "#importing time module to measure time taken by each sorting algorithm\n",
    "import time\n",
    "\n",
    "# Implementing Insertion sort\n",
    "def insertionSort(array):\n",
    "    #copying array to use same array for other sorting algorithms\n",
    "    sorted_array = array.copy()\n",
    "    \n",
    "    # storing start time in begin\n",
    "    begin = time.time()\n",
    "    \n",
    "    # Traverse through 1 to length of array\n",
    "    for i in range(1,len(sorted_array)):\n",
    "        key = sorted_array[i]\n",
    "        # Move elements of array, that are greater than key, to one position aheadof their current position\n",
    "        j = i-1\n",
    "        while j >=0 and key < sorted_array[j] :\n",
    "                sorted_array[j+1] = sorted_array[j]\n",
    "                j -= 1\n",
    "        sorted_array[j+1] = key\n",
    "    \n",
    "    # storing end time in end\n",
    "    end = time.time()\n",
    "    #finding total time \n",
    "    total_time = end - begin\n",
    "    \n",
    "    # retuning the sorted array and time taken\n",
    "    return sorted_array, total_time\n"
   ]
  },
  {
   "cell_type": "code",
   "execution_count": 2,
   "metadata": {},
   "outputs": [],
   "source": [
    "# Implementing Quick sort\n",
    "def quickSort(array):\n",
    "    #copying array to use same array for other sorting algorithms\n",
    "    sorted_array = array.copy()\n",
    "    \n",
    "    # storing start time in begin\n",
    "    begin = time.time()\n",
    "    \n",
    "    #performing sort using quickSortHelper function by passing the List, Starting index and Ending index \n",
    "    quickSortHelper(sorted_array,0,len(sorted_array)-1)\n",
    "    \n",
    "    # storing end time in end\n",
    "    end = time.time()\n",
    "    #finding total time \n",
    "    total_time = end - begin\n",
    "    \n",
    "    # retuning the sorted array and time taken\n",
    "    return sorted_array, total_time\n",
    "\n",
    "# This Implementation takes last element as pivot, places the pivot element at its correct position in sorted array\n",
    "def partition(arr,low,high): \n",
    "    i = ( low-1 )    # index of smaller element \n",
    "    pivot = arr[high]# pivot \n",
    "\n",
    "    for j in range(low , high): \n",
    "\n",
    "        # If current element is smaller than or equal to pivot \n",
    "        if arr[j] <= pivot: \n",
    "            # increment index of smaller element \n",
    "            i = i+1\n",
    "            arr[i],arr[j] = arr[j],arr[i] \n",
    "\n",
    "    arr[i+1],arr[high] = arr[high],arr[i+1] \n",
    "    return ( i+1 ) \n",
    "\n",
    "# The helper function that implements QuickSort \n",
    "# low is Starting index and high is Ending index \n",
    "def quickSortHelper(arr,low,high): \n",
    "    if low < high: \n",
    "\n",
    "        # pi is partitioning index, arr[p] is now at right place \n",
    "        pi = partition(arr,low,high) \n",
    "        \n",
    "        # Separately sort elements before partition and after partition \n",
    "        quickSortHelper(arr, low, pi-1) \n",
    "        quickSortHelper(arr, pi+1, high) "
   ]
  },
  {
   "cell_type": "code",
   "execution_count": 3,
   "metadata": {},
   "outputs": [],
   "source": [
    "# Implementing Bubble sort\n",
    "def bubbleSort(array):\n",
    "    \n",
    "    #copying array to use same array for other sorting algorithms\n",
    "    sorted_array = array.copy()\n",
    "    # storing start time in begin\n",
    "    begin = time.time()\n",
    "    \n",
    "    #length of the array\n",
    "    length = len(sorted_array)\n",
    "    \n",
    "    # Traverse through all array elements\n",
    "    for i in range(length-1):\n",
    "        for j in range(0, length-i-1):\n",
    "  \n",
    "            # traverse the array from 0 to n-i-1 and Swap if the element found is greater than the next element\n",
    "            if sorted_array[j] > sorted_array[j + 1] :\n",
    "                sorted_array[j], sorted_array[j + 1] = sorted_array[j + 1], sorted_array[j]\n",
    "                \n",
    "    # storing end time in end\n",
    "    end = time.time()\n",
    "    #finding total time \n",
    "    total_time = end - begin\n",
    "    \n",
    "    # retuning the sorted array and time taken\n",
    "    return sorted_array, total_time"
   ]
  },
  {
   "cell_type": "code",
   "execution_count": 4,
   "metadata": {},
   "outputs": [],
   "source": [
    "# Implementing Merge sort\n",
    "\n",
    "def mergeSort(array):\n",
    "    \n",
    "    #copying array to use same array for other sorting algorithms\n",
    "    sorted_array = array.copy()\n",
    "    \n",
    "    # storing start time in begin\n",
    "    begin = time.time()\n",
    "    \n",
    "    #performing sort using quickSortHelper function by passing the List\n",
    "    mergeSortHelper(sorted_array)\n",
    "    \n",
    "    # storing end time in end\n",
    "    end = time.time()\n",
    "    #finding total time \n",
    "    total_time = end - begin\n",
    "    \n",
    "    # retuning the sorted array and time taken\n",
    "    return sorted_array, total_time\n",
    "\n",
    "# The helper function that implements Merge Sort \n",
    "def mergeSortHelper(array):\n",
    "    if len(array) > 1:\n",
    " \n",
    "         # Finding the mid of the array\n",
    "        mid = len(array)//2\n",
    " \n",
    "        # Dividing the array elements\n",
    "        L = array[:mid]\n",
    " \n",
    "        # into 2 halves\n",
    "        R = array[mid:]\n",
    " \n",
    "        # Sorting the first half\n",
    "        mergeSort(L)\n",
    " \n",
    "        # Sorting the second half\n",
    "        mergeSort(R)\n",
    "        \n",
    "        i = j = k = 0\n",
    "        # Copy data to temp arrays L[] and R[]\n",
    "        while i < len(L) and j < len(R):\n",
    "            if L[i] < R[j]:\n",
    "                array[k] = L[i]\n",
    "                i += 1\n",
    "            else:\n",
    "                array[k] = R[j]\n",
    "                j += 1\n",
    "            k += 1\n",
    " \n",
    "        # Checking if any element was left\n",
    "        while i < len(L):\n",
    "            array[k] = L[i]\n",
    "            i += 1\n",
    "            k += 1\n",
    " \n",
    "        while j < len(R):\n",
    "            array[k] = R[j]\n",
    "            j += 1\n",
    "            k += 1"
   ]
  },
  {
   "cell_type": "code",
   "execution_count": 5,
   "metadata": {},
   "outputs": [
    {
     "name": "stdout",
     "output_type": "stream",
     "text": [
      "Test case with array of size: 10\n",
      "Time taken for Insertion Sort is: 8.106231689453125e-06\n",
      "Time taken for Quick Sort is: 1.1682510375976562e-05\n",
      "Time taken for Bubble Sort is: 1.1682510375976562e-05\n",
      "Time taken for Merge Sort is: 3.0994415283203125e-05\n",
      "Insertion Sort is the fastest, completed with 8.106231689453125e-06\n",
      "\n",
      "Test case with array of size: 100\n",
      "Time taken for Insertion Sort is: 0.00032901763916015625\n",
      "Time taken for Quick Sort is: 0.00020933151245117188\n",
      "Time taken for Bubble Sort is: 0.0007481575012207031\n",
      "Time taken for Merge Sort is: 0.0003998279571533203\n",
      "Quick Sort is the fastest, completed with 0.00020933151245117188\n",
      "\n",
      "Test case with array of size: 1000\n",
      "Time taken for Insertion Sort is: 0.03821587562561035\n",
      "Time taken for Quick Sort is: 0.010175943374633789\n",
      "Time taken for Bubble Sort is: 0.08388972282409668\n",
      "Time taken for Merge Sort is: 0.004058122634887695\n",
      "Merge Sort is the fastest, completed with 0.004058122634887695\n",
      "\n",
      "Test case with array of size: 10000\n",
      "Time taken for Insertion Sort is: 3.655600070953369\n",
      "Time taken for Quick Sort is: 0.880486011505127\n",
      "Time taken for Bubble Sort is: 8.074923992156982\n",
      "Time taken for Merge Sort is: 0.05063199996948242\n",
      "Merge Sort is the fastest, completed with 0.05063199996948242\n",
      "\n"
     ]
    }
   ],
   "source": [
    "import random\n",
    "\n",
    "#creating and returning a random array of given size\n",
    "def create_array(length):\n",
    "    return [random.randint(1,10) for i in range(length)]\n",
    "\n",
    "#calulating time for sorting algorithms to each test case \n",
    "def testCases(cases):\n",
    "    #looping through each test case\n",
    "    for case in cases:\n",
    "        \n",
    "        # the fastest algorithm for test case\n",
    "        fastest = {}\n",
    "        \n",
    "        print(f\"Test case with array of size: {case}\")\n",
    "        # creating a random array of size test case\n",
    "        test = create_array(case)\n",
    "        \n",
    "        #testing insertion sort and printing time taken to perform the sort\n",
    "        testResult, testTime = insertionSort(test)\n",
    "        print(f\"Time taken for Insertion Sort is: {testTime}\")\n",
    "        fastest[testTime] = \"Insertion Sort\"\n",
    "        \n",
    "        #testing quick sort and printing time taken to perform the sort\n",
    "        testResult, testTime = quickSort(test)\n",
    "        print(f\"Time taken for Quick Sort is: {testTime}\")\n",
    "        fastest[testTime] = \"Quick Sort\"\n",
    "\n",
    "        #testing bubble sort and printing time taken to perform the sort\n",
    "        testResult, testTime = bubbleSort(test)\n",
    "        print(f\"Time taken for Bubble Sort is: {testTime}\")\n",
    "        fastest[testTime] = \"Bubble Sort\"\n",
    "        \n",
    "         #testing bubble sort and printing time taken to perform the sort\n",
    "        testResult, testTime = mergeSort(test)\n",
    "        print(f\"Time taken for Merge Sort is: {testTime}\")\n",
    "        fastest[testTime] = \"Merge Sort\"\n",
    "        \n",
    "        #displaying fastest sorting algorithm for test case\n",
    "        keys=list(fastest.keys())\n",
    "        print(f\"{fastest[min(keys)]} is the fastest, completed with {min(keys)}\")\n",
    "        \n",
    "        print(\"\")\n",
    "\n",
    "#We have given the test sizes in a list        \n",
    "cases = [10,100,1000,10000]\n",
    "\n",
    "testCases(cases)\n"
   ]
  },
  {
   "cell_type": "markdown",
   "metadata": {},
   "source": [
    "2. Read the dataset given. Clean the dataset to consider only the tweet texts. \n",
    "\n",
    "    Convert all characters to small case. Remove special characters and punctuations. \n",
    "    \n",
    "    Implement binary search for searching a word (The user will input the word to search) from a preprocessed text file. \n",
    "    You are free to choose the required data structures."
   ]
  },
  {
   "cell_type": "code",
   "execution_count": 6,
   "metadata": {},
   "outputs": [
    {
     "name": "stdout",
     "output_type": "stream",
     "text": [
      "586266687948881921|Thu Apr 09 20:37:25 +0000 2015|Drugs need careful monitoring for expiry dates, pharmacists say http://www.cbc.ca/news/health/drugs-need-careful-monitoring-for-expiry-dates-pharmacists-say-1.3026749?cmp=rss\n",
      "586266687017771008|Thu Apr 09 20:37:25 +0000 2015|Sabra hummus recalled in U.S. http://www.cbc.ca/news/health/sabra-hummus-recalled-in-u-s-1.3026865?cmp=rss\n"
     ]
    }
   ],
   "source": [
    "# reading file data\n",
    "with open(\"cbchealth.txt\",\"r\") as f:\n",
    "    file_data = f.read()\n",
    "#cleaning the dataset\n",
    "\n",
    "# spiting by line seperator to form a list\n",
    "lines = file_data.split(\"\\n\")\n",
    "#data before cleaning\n",
    "print(lines[0])\n",
    "print(lines[1])"
   ]
  },
  {
   "cell_type": "code",
   "execution_count": 7,
   "metadata": {},
   "outputs": [
    {
     "name": "stdout",
     "output_type": "stream",
     "text": [
      "drugs need careful monitoring for expiry dates pharmacists say \n",
      "sabra hummus recalled in us \n"
     ]
    }
   ],
   "source": [
    "# storing tweets in a list\n",
    "tweets = []\n",
    "#looping through lines\n",
    "for line in lines:\n",
    "    #spliting by '|' \n",
    "    tokens = line.split('|')\n",
    "    if len(tokens)>2:\n",
    "        #finding index of link staring with http\n",
    "        index = tokens[2].find(\"http\")\n",
    "        # index 2 of token will contain the tweet with link, so slice we the tweet with starting index for link.\n",
    "        tweet = tokens[2][:index]\n",
    "        #removing special characters and punctuations\n",
    "        for char in tweet:\n",
    "            #we use isalnum method to findout which are the characters\n",
    "            if char.isalnum():\n",
    "                continue\n",
    "            #If its not a alpha or nummeric character we will remove that by replacing with empty character\n",
    "            else:\n",
    "                if char != \" \":\n",
    "                    tweet = tweet.replace(char,\"\")\n",
    "        tweets.append(tweet.lower()) #Converting all characters to small case.\n",
    "#Tweets after cleaning the data      \n",
    "print(tweets[0])\n",
    "print(tweets[1])"
   ]
  },
  {
   "cell_type": "code",
   "execution_count": 8,
   "metadata": {},
   "outputs": [],
   "source": [
    "#creating a word list\n",
    "allWords = []\n",
    "# we can use a hash map data strcuture or dictionary in python to store the tweets index that are related to a word\n",
    "wordToTweets = {}\n",
    "for i in range(len(tweets)):\n",
    "    #spliting into words\n",
    "    words = tweets[i].split(\" \")\n",
    "    for word in words:\n",
    "        if len(word)==0:\n",
    "            continue\n",
    "        # Adding word to word list\n",
    "        allWords.append(word)\n",
    "        # Mapping words to tweet index\n",
    "        if word in wordToTweets:\n",
    "            wordToTweets[word].append(i)\n",
    "        else:\n",
    "            wordToTweets[word] = [i]\n",
    "# print(allWords)\n",
    "# print(wordToTweets)"
   ]
  },
  {
   "cell_type": "code",
   "execution_count": 9,
   "metadata": {},
   "outputs": [
    {
     "name": "stdout",
     "output_type": "stream",
     "text": [
      "['1', '10', '100', '1000', '10000', '10000amonth', '100k', '101', '1017', '109', '10m', '11', '119', '11m', '11yearold', '12', '1200', '122', '1229', '122m', '1238', '125000', '125m', '128k', '12yearolds', '13', '131', '13b', '13m', '14', '142b', '15', '150', '1552', '157k', '15k', '16', '16000', '1658km', '167', '17', '176', '17k', '17m', '18', '18000', '1800s', '1870s', '18884168333', '19', '190m', '1923', '19497', '1950sera', '1990', '1996', '1m', '1million', '1st', '1stperson', '1time', '1yearold', '2', '20', '200', '2000', '20000', '200000', '2008', '200m', '201', '2011', '2012', '2013', '2014', '2015', '202000', '2030', '2050', '20k', '20m', '21', '211b', '215', '218m', '21day', '21year', '21yearolds', '22', '220', '228b', '2296', '22b', '23', '23andme', '23m', '24', '24d', '25', '250', '2500', '25000', '250m', '25m', '27', '278000', '27b', '2day', '2decadeold', '2m', '2nd', '2night', '2shot', '2x', '2yearold', '3', '30', '300', '3000', '300000', '300k', '3069', '30k', '30m', '315m', '32000', '328k', '345', '34hour', '35', '3500', '35b', '36', '37', '370000', '382', '399', '39yearold', '3d', '3dprinted', '3m', '3parent', '3person', '3rd', '3yearsold', '4', '40', '400', '400km', '40s', '41', '43m', '45', '4500', '4500who', '450k', '45b', '46', '467', '47', '4877', '48stop', '4960', '4th', '4x', '5', '50', '5000', '500000', '500m', '5050', '510', '515', '52', '55', '550000', '5second', '5th', '5year', '5yearolds', '6', '60', '603', '60k', '60th', '61', '620000', '64000', '65', '66', '68', '680', '69', '6loc7atl', '6month', '6step', '6th', '6tune', '7', '70', '71', '73', '75', '7558', '7588', '75tonne', '765m', '77', '790k', '7pm', '7year', '8', '80', '800', '8000', '8001000', '800m', '805m', '815', '82', '83', '8300', '837', '837am', '84', '85', '86', '8830p', '8th', '9', '90', '90000', '905', '90yearold', '91', '911', '92', '93', '94yearold', '95', '96', '972009', '976', '9926', '9936', '9am', '9b', '9m', '9month', '9yrold', 'a', 'abandoned', 'abbotsford', 'abilities', 'ability', 'able', 'abnormality', 'aboriginal', 'aboriginals', 'abortion', 'abortions', 'about', 'absolutely', 'abstain', 'abstinence', 'abt', 'abu', 'abuse', 'abused', 'abusing', 'abusive', 'academy', 'acadia', 'accelerated', 'accelerates', 'accepted', 'accepting', 'access', 'accessed', 'accessibility', 'accessible', 'accident', 'accommodate', 'accord', 'according', 'accounts', 'accurate', 'accused', 'acetaminophen', 'aches', 'achievement', 'achoose', 'ackman', 'acl', 'acne', 'acps', 'acquaintances', 'acquired', 'acquiring', 'acquitted', 'acres', 'across', 'act', 'acting', 'action', 'active', 'activism', 'activist', 'activists', 'activity', 'activitytrackers', 'actor', 'actors', 'actos', 'actress', 'actually', 'acute', 'ad', 'adapt', 'add', 'added', 'addict', 'addicted', 'addiction', 'addictions', 'addictive', 'addicts', 'additional', 'address', 'adds', 'adequate', 'adhd', 'adhopiacbc', 'administered', 'administration', 'admissions', 'admits', 'adolescent', 'adolescents', 'adoptees', 'adriearsenault', 'adrienne', 'ads', 'adult', 'adulthood', 'adults', 'advanced', 'advances', 'advent', 'adverse', 'advertise', 'advertising', 'advice', 'advise', 'advised', 'advises', 'advising', 'advisory', 'advocacy', 'advocate', 'advocates', 'aecl', 'aerobic', 'affect', 'affected', 'affecting', 'affective', 'affects', 'affordability', 'affordable', 'afghan', 'afghanistan', 'afri', 'africa', 'african', 'africans', 'africas', 'after', 'again', 'against', 'age', 'agebased', 'agency', 'agencys', 'agenda', 'agent', 'agers', 'ages', 'aggression', 'aging', 'ago', 'agree', 'agreeing', 'agreement', 'agrees', 'ahead', 'ahiflower', 'ahs', 'aid', 'aide', 'aids', 'ailing', 'aim', 'aimed', 'aims', 'air', 'airborne', 'aircanada', 'aircraft', 'airdrie', 'airline', 'airlines', 'airport', 'airports', 'airway', 'aisle', 'alan', 'alarm', 'alarmed', 'alarming', 'alarmingly', 'alberta', 'albertans', 'albertas', 'alcohol', 'alcoholabuse', 'alcoholic', 'alcoholics', 'alcoholism', 'alcoholrelated', 'alcohols', 'alert', 'alerts', 'alesse', 'alex', 'alexander', 'alienating', 'alison', 'alissa', 'alive', 'alkaline', 'all', 'allegation', 'allegations', 'allege', 'allegedly', 'allergan', 'allergic', 'allergies', 'allergists', 'allergy', 'allergyprovoking', 'alleviated', 'allisonsbrain', 'allow', 'allowable', 'allowed', 'allows', 'almond', 'almonds', 'almost', 'alone', 'aloud', 'als', 'also', 'alta', 'alter', 'altered', 'alternative', 'alternatives', 'altitude', 'always', 'alzheimers', 'am', 'amazed', 'amazing', 'amber', 'ambrose', 'ambulance', 'american', 'americanheart', 'americans', 'americas', 'amid', 'amnesiac', 'amoeba', 'among', 'amount', 'amp', 'amputation', 'amputations', 'amputee', 'amsterdam', 'amusement', 'an', 'analyses', 'analysis', 'analyze', 'anaphylactic', 'anaphylaxis', 'ancaster', 'ancient', 'and', 'android', 'andy', 'anemia', 'aneurysm', 'angel', 'angelina', 'angers', 'angry', 'animal', 'animals', 'animated', 'ankle', 'annalsofim', 'anne', 'announce', 'announced', 'announcement', 'announces', 'annoyance', 'annoying', 'annual', 'anny', 'anonymity', 'anonymous', 'anorexia', 'anorexic', 'another', 'answer', 'answered', 'answers', 'anthrax', 'antibacterial', 'antibiotic', 'antibioticresistant', 'antibiotics', 'antibully', 'antibullying', 'anticancer', 'anticavity', 'antidepressant', 'antidepressants', 'antidote', 'antidrug', 'antiebola', 'antihpv', 'antiinfluenza', 'antimarijuana', 'antioxidant', 'antioxidants', 'antipot', 'antipsychotic', 'antiradiation', 'antismoking', 'antisuicide', 'antivaccination', 'antivaccine', 'antivaxxer', 'antivaxxers', 'antivirals', 'anxiety', 'any', 'anyone', 'anything', 'anytime', 'apart', 'apartment', 'apnea', 'apology', 'apotex', 'app', 'appeal', 'appealed', 'appeals', 'appear', 'appears', 'applause', 'apple', 'apples', 'application', 'applications', 'applied', 'applies', 'apply', 'appointment', 'apprehended', 'approach', 'approaches', 'approv', 'approval', 'approvals', 'approve', 'approved', 'approves', 'apps', 'apr', 'april', 'apropriate', 'aquabounty', 'ar', 'arabia', 'arabian', 'arabias', 'arctic', 'are', 'area', 'areas', 'arent', 'argues', 'argument', 'arguments', 'aricept', 'armchair', 'arms', 'army', 'around', 'arrest', 'arrested', 'arrests', 'arrive', 'arrived', 'arrives', 'arsenault', 'arthritis', 'arthroscopic', 'artificial', 'artinspired', 'artist', 'artists', 'as', 'asbestos', 'ashoka', 'ashya', 'asian', 'ask', 'asked', 'asking', 'asks', 'asleep', 'aspirin', 'aspirins', 'assailed', 'assault', 'assaulting', 'assaults', 'assembly', 'assess', 'assessed', 'assessment', 'assistance', 'assistant', 'assistants', 'assisted', 'assisteddeath', 'assistedsuicide', 'association', 'assumed', 'assumptions', 'assurance', 'asthma', 'asthmatic', 'astronaut', 'astronauts', 'at', 'athlete', 'athletes', 'atkins', 'atlanta', 'atlantic', 'atmosphere', 'atop', 'attached', 'attack', 'attacked', 'attacker', 'attacks', 'atte', 'attempt', 'attendants', 'attended', 'attends', 'attention', 'attitude', 'attitudes', 'attorney', 'attract', 'attracted', 'attributes', 'audio', 'audit', 'auditor', 'audits', 'august', 'australia', 'australian', 'austria', 'austrian', 'author', 'authorities', 'authority', 'authorized', 'authors', 'autism', 'autistic', 'automatic', 'available', 'avastin', 'average', 'averages', 'avian', 'avoid', 'avoidable', 'avoided', 'avoiding', 'awaiting', 'awaits', 'awake', 'awaken', 'award', 'awarded', 'awards', 'awardwinning', 'aware', 'awareness', 'away', 'awol', 'b', 'b12', 'baba', 'babies', 'baby', 'babys', 'back', 'backed', 'background', 'backlash', 'backs', 'backsaving', 'backtoschool', 'backyard', 'bacon', 'bacteria', 'bacterial', 'bad', 'baddeck', 'badger', 'bahamas', 'baiecomeau', 'bake', 'baked', 'balance', 'balk', 'ballots', 'balls', 'ban', 'band', 'banff', 'bank', 'banks', 'banned', 'banning', 'bans', 'bar', 'barcode', 'bare', 'bariatric', 'barred', 'barrier', 'barriers', 'bars', 'base', 'based', 'basic', 'basis', 'bat', 'batch', 'bathroom', 'bathurst', 'bats', 'battle', 'battleground', 'battles', 'battling', 'bay', 'bayer', 'bbq', 'bc', 'bcs', 'be', 'beaches', 'beam', 'bear', 'beard', 'beardy', 'beat', 'beaten', 'beating', 'beats', 'beautiful', 'became', 'because', 'become', 'becomes', 'becoming', 'bed', 'bedbug', 'bedbugs', 'bedding', 'bedridden', 'bedroom', 'beds', 'bedsharing', 'bedside', 'bedsores', 'bedtime', 'bedtimes', 'beef', 'beeftenderizing', 'been', 'beer', 'before', 'befuddled', 'began', 'begin', 'begins', 'behaviour', 'behavioural', 'behind', 'being', 'beirut', 'belgian', 'belgium', 'belief', 'believed', 'bella', 'belly', 'below', 'belt', 'belvd', 'benefit', 'benefits', 'bennett', 'benson', 'berlin', 'bernadette', 'bernard', 'berry', 'best', 'beth', 'better', 'between', 'beware', 'beyond', 'bias', 'bid', 'big', 'bigfatsurprise', 'bigger', 'biggest', 'bike', 'bilingualism', 'bill', 'billed', 'billion', 'billions', 'bills', 'binge', 'binging', 'biodegradable', 'biohazard', 'biological', 'biologists', 'biology', 'bionic', 'bioprinters', 'biopsies', 'biopsy', 'biosafety', 'bird', 'birth', 'birthday', 'births', 'bisexual', 'bisphenol', 'bit', 'bite', 'bites', 'bitterly', 'black', 'blame', 'blamed', 'blames', 'blankets', 'blast', 'bleed', 'blesida', 'bless', 'blind', 'blindness', 'blizzard', 'blockades', 'blocked', 'blocking', 'blocks', 'blog', 'blogger', 'blood', 'blow', 'blows', 'blue', 'blues', 'board', 'boards', 'bob', 'bodies', 'body', 'bodychecking', 'bodyweight', 'bogus', 'boil', 'boilwater', 'bomb', 'bond', 'bone', 'bones', 'bonus', 'bonuses', 'book', 'boomers', 'booming', 'boost', 'boosts', 'booths', 'booze', 'border', 'borders', 'born', 'boss', 'bosses', 'boston', 'botched', 'both', 'botoxmaker', 'bottle', 'bottled', 'bottles', 'botulism', 'bouctouche', 'bought', 'bowel', 'box', 'boxes', 'boy', 'boys', 'bpa', 'bra', 'bracelet', 'braces', 'brad', 'braille', 'brain', 'braindead', 'braineating', 'braininjured', 'brains', 'braintraining', 'brainwave', 'brakes', 'brampton', 'brand', 'branded', 'brandon', 'brantly', 'brave', 'brca', 'breach', 'breaches', 'bread', 'breadgies', 'breadmaking', 'break', 'breakfast', 'breaks', 'breakthrough', 'breakthroughs', 'breast', 'breastfeeding', 'breath', 'breathe', 'bremond', 'breton', 'brewed', 'brian', 'briefing', 'bright', 'brightens', 'brilliant', 'bring', 'bringing', 'brings', 'brink', 'britain', 'british', 'briton', 'britons', 'broach', 'broadcast', 'broke', 'broken', 'broker', 'brother', 'brothers', 'brought', 'brown', 'brunswick', 'brunswickers', 'brutal', 'brutally', 'bryan', 'bubble', 'buck', 'bucket', 'buckinghams', 'buddy', 'budget', 'bug', 'bugs', 'build', 'building', 'builds', 'built', 'bulimia', 'bullet', 'bullied', 'bullous', 'bullying', 'bum', 'bumped', 'bumps', 'bundle', 'burden', 'bureau', 'burger', 'burgers', 'burial', 'burn', 'burning', 'burns', 'burst', 'burying', 'bus', 'business', 'businesses', 'busting', 'but', 'butrans', 'butter', 'butters', 'buttocks', 'buttons', 'buy', 'buyer', 'buying', 'buys', 'buzz', 'buzzword', 'by', 'bylaw', 'bypass', 'c', 'ca991', 'caesar', 'cafeteria', 'caffeinated', 'caffeine', 'cake', 'calamity', 'calculator', 'calendar', 'calgary', 'calgarys', 'california', 'call', 'called', 'callin', 'calling', 'calls', 'calm', 'calorie', 'calories', 'cals', 'calusa', 'cambodian', 'cambrian', 'cambridge', 'came', 'camel', 'camels', 'camera', 'cameraman', 'camhnew', 'camp', 'campaign', 'campaigns', 'campgrounds', 'camping', 'campus', 'can', 'canada', 'canadacocacola', 'canadarm', 'canadas', 'canadian', 'canadiandeveloped', 'canadianled', 'canadianmade', 'canadians', 'canadianus', 'cancellation', 'cancelled', 'cancer', 'cancerbereft', 'cancerfree', 'cancerkilling', 'cancers', 'cancerstricken', 'cancerzapping', 'candies', 'candy', 'candyholics', 'cane', 'cannabinoid', 'cannot', 'cans', 'cant', 'canyon', 'cap', 'capacity', 'capandtrade', 'cape', 'capital', 'capsules', 'car', 'caramel', 'carbon', 'carcinogenic', 'card', 'cardiac', 'cardiologist', 'cardiology', 'cardiovascular', 'cards', 'care', 'career', 'careful', 'caregivers', 'caregiving', 'caribbean', 'caring', 'carl', 'carla', 'carmat', 'carolyndunncbc', 'carry', 'carrying', 'cars', 'carts', 'cas', 'case', 'cases', 'casey', 'cash', 'cast', 'casts', 'casual', 'cat', 'catastrophic', 'catch', 'catches', 'catchup', 'catherine', 'caught', 'caulfieldtim', 'causal', 'cause', 'caused', 'causes', 'causing', 'caution', 'cautious', 'cb', 'cbc', 'cbcaboriginal', 'cbcalerts', 'cbcerica', 'cbcharlsie', 'cbchealth', 'cbcmarketplace', 'cbcnb', 'cbcnews', 'cbcnewsbc', 'cbcnewsca', 'cbcpolitics', 'cbcradio', 'cbcradioq', 'cbcrewi', 'cbcrewired', 'cbcs', 'cbcsteve', 'cbcthenational', 'cbctom', 'cbctwtw', 'cbcwhitecoat', 'cbcwor', 'cbcworl', 'cbcworldatsix', 'cbcworldrepor', 'cbcworldreport', 'ccac', 'ccdr', 'cda', 'cdc', 'cdcgov', 'cdn', 'cdnhealth', 'cdnpol', 'cease', 'ceaseanddesist', 'celebrate', 'celebrity', 'celiac', 'celiacs', 'cell', 'cellphone', 'cells', 'cent', 'center', 'centers', 'central', 'centre', 'centres', 'century', 'ceo', 'cereal', 'cerebral', 'certain', 'cervical', 'cessation', 'cf', 'cfia', 'chain', 'chains', 'chair', 'chairs', 'chalk', 'challenge', 'challenged', 'challenges', 'challenging', 'champ', 'champions', 'chance', 'chances', 'change', 'changed', 'changes', 'changing', 'chapter', 'charge', 'charged', 'charges', 'charitable', 'charity', 'charter', 'charts', 'chat', 'chatyouth', 'chavezs', 'cheaper', 'cheating', 'check', 'checked', 'checking', 'checklists', 'checks', 'checkup', 'cheerios', 'cheese', 'chef', 'chemical', 'chemist', 'chemo', 'chemoresistant', 'chemotherapy', 'cheo', 'chest', 'chew', 'chewing', 'chia', 'chicago', 'chicken', 'chickenpox', 'chickens', 'chief', 'chiellini', 'chikungunya', 'child', 'childabusing', 'childbirth', 'childhealth', 'childhood', 'childlessness', 'children', 'childrens', 'childs', 'childseye', 'chill', 'chimpanzees', 'china', 'chinas', 'chinavancouver', 'chinese', 'chinesecanadians', 'chipewyan', 'chlamydia', 'chocolate', 'choice', 'choices', 'choir', 'choking', 'cholera', 'cholesterol', 'cholesterollowering', 'choose', 'chooses', 'choosingwisely', 'chops', 'chosen', 'chris', 'christiane', 'christine', 'christmas', 'christopher', 'christy', 'chronic', 'chronically', 'cigarellos', 'cigarette', 'cigarettes', 'cihi', 'cihiicis', 'cineplex', 'cinnamon', 'cirillo', 'cit', 'cites', 'cities', 'citronella', 'citronellabased', 'city', 'citybranded', 'citywide', 'civil', 'claim', 'claimed', 'claiming', 'claims', 'clampdown', 'clamping', 'clamps', 'clara', 'clarifies', 'clarity', 'clarks', 'clash', 'class', 'classes', 'classified', 'classroom', 'classrooms', 'claudette', 'cleaned', 'cleaner', 'cleaning', 'cleanses', 'clear', 'cleared', 'clears', 'cleary', 'cleftlip', 'clerk', 'clients', 'climate', 'climbers', 'climbs', 'clinging', 'clinic', 'clinical', 'clinicians', 'clinics', 'clippings', 'clock', 'close', 'closed', 'closely', 'closer', 'closes', 'closet', 'closing', 'closure', 'clot', 'clout', 'clue', 'clues', 'cluster', 'cm', 'cma', 'cmadocs', 'cmagc', 'cmaj', 'cmdrhadfield', 'cne', 'cnib', 'coast', 'coastal', 'coat', 'coca', 'cocacola', 'cocaine', 'cochrane', 'cocktail', 'code', 'codeine', 'codiscoverer', 'coepidemic', 'coffee', 'cofluvoxamine', 'cognition', 'cognitive', 'cohen', 'coke', 'cola', 'cold', 'coli', 'colic', 'colin', 'colitainted', 'collapse', 'collateral', 'colleagues', 'collected', 'collection', 'college', 'colleges', 'colon', 'colonoscopies', 'colorectal', 'colourchanging', 'colouring', 'columbian', 'columnist', 'coma', 'combat', 'combination', 'combining', 'combo', 'come', 'comeback', 'comedians', 'comes', 'comfort', 'coming', 'comment', 'comments', 'commercial', 'commissioner', 'commits', 'committee', 'common', 'commonly', 'communicable', 'communicate', 'communication', 'communities', 'community', 'communitys', 'companies', 'company', 'comparable', 'compared', 'compassion', 'compassionate', 'compatible', 'compensation', 'competition', 'competitive', 'complacency', 'complain', 'complaining', 'complaint', 'complaints', 'complete', 'completed', 'completely', 'completes', 'complex', 'complicated', 'complications', 'compliments', 'comply', 'compound', 'compounding', 'comprehensive', 'compromised', 'compulsion', 'compulsive', 'computer', 'concealing', 'conceived', 'concept', 'concepts', 'concern', 'concerned', 'concerning', 'concerns', 'conclude', 'concludes', 'concussion', 'concussions', 'condemn', 'condemned', 'condescending', 'condition', 'conditions', 'condom', 'condoms', 'condos', 'conference', 'confidence', 'confident', 'confinement', 'confirmed', 'confirms', 'conflict', 'confusion', 'congenital', 'congressional', 'connect', 'connecting', 'connections', 'conniewalker', 'conradcollaco', 'conscience', 'consciousness', 'consent', 'consequences', 'conservation', 'conservatives', 'considerable', 'considerably', 'considered', 'considering', 'considers', 'consistent', 'constant', 'constipation', 'constructive', 'consult', 'consultation', 'consultations', 'consumed', 'consumer', 'consumers', 'contact', 'contacted', 'contactlens', 'contagion', 'contagious', 'contain', 'contained', 'containing', 'containment', 'contaminated', 'contamination', 'contenders', 'content', 'contest', 'context', 'contingency', 'continue', 'continues', 'contraception', 'contract', 'contracted', 'contracting', 'contractions', 'contracts', 'contradictions', 'contribute', 'contributes', 'contro', 'control', 'controversial', 'controversy', 'convenience', 'convenient', 'conversation', 'convert', 'convo', 'convoys', 'cook', 'cooked', 'cookie', 'cooking', 'cool', 'cooler', 'coop', 'coordinator', 'cope', 'copies', 'coping', 'cops', 'cord', 'corinneseminoff', 'corn', 'coronavirus', 'coroner', 'coroners', 'corporate', 'corporately', 'correct', 'corrected', 'cosleeping', 'cosmetics', 'cost', 'costars', 'costco', 'costcos', 'costing', 'costly', 'costs', 'costumes', 'cough', 'could', 'council', 'councillor', 'counsels', 'count', 'counterproductive', 'counters', 'countries', 'country', 'counts', 'couple', 'couples', 'courage', 'course', 'court', 'courtroom', 'courts', 'cousin', 'cousins', 'cover', 'coverage', 'covered', 'cow', 'coworkers', 'cows', 'cphocanada', 'cpl', 'cpr', 'cra', 'crack', 'cracked', 'crackers', 'cracking', 'cracks', 'crafted', 'craig', 'crash', 'crashed', 'crashes', 'crawled', 'crazy', 'cre', 'cream', 'create', 'created', 'creates', 'creating', 'creative', 'credentials', 'credibility', 'credits', 'cremated', 'crews', 'crib', 'crime', 'criminal', 'criminalized', 'criminally', 'criminals', 'crisis', 'criteria', 'critical', 'critically', 'criticism', 'criticisms', 'criticize', 'criticized', 'critics', 'crohns', 'cronut', 'cross', 'crossfit', 'crosshairs', 'crossings', 'crowded', 'crowdfunding', 'crowding', 'crowe', 'crowes', 'crucial', 'cruel', 'cruise', 'crunches', 'cry', 'crying', 'csection', 'ct', 'cuba', 'cuban', 'cubist', 'cues', 'culture', 'cumin', 'cup', 'cups', 'curable', 'curb', 'curbing', 'curbs', 'cure', 'cured', 'cures', 'currans', 'current', 'curriculum', 'curve', 'curved', 'custody', 'custom', 'customers', 'customs', 'cut', 'cuties', 'cuts', 'cutting', 'cvs', 'cyberbullying', 'cycling', 'cyclists', 'cystic', 'czar', 'czechs', 'd', 'd68', 'dad', 'dads', 'daily', 'dairies', 'dairy', 'dalhousie', 'dallaire', 'dallas', 'damage', 'damaged', 'damaging', 'damn', 'dance', 'dancers', 'dancing', 'dandelion', 'danger', 'dangerous', 'dangerously', 'dangers', 'daniel', 'dark', 'darkness', 'dartmouth', 'data', 'database', 'date', 'dated', 'daterape', 'dates', 'daughter', 'daughters', 'david', 'davidjuurlink', 'day', 'daycare', 'daylight', 'days', 'dcpho', 'de', 'dead', 'deadliest', 'deadline', 'deadly', 'deaf', 'deal', 'dealer', 'dealing', 'dealt', 'deat', 'death', 'deaths', 'debate', 'debated', 'debates', 'debt', 'debunked', 'debunks', 'dec', 'decade', 'decades', 'decay', 'decide', 'decides', 'decision', 'decisions', 'declare', 'declared', 'declares', 'declaring', 'decline', 'declining', 'decontaminate', 'decre', 'decriminalize', 'dedicated', 'deemed', 'deep', 'deeply', 'deer', 'defamation', 'defect', 'defects', 'defence', 'defended', 'defenders', 'defends', 'defibrillator', 'defibrillators', 'defibs', 'deficencies', 'deficiency', 'defied', 'defies', 'define', 'defined', 'defrosts', 'defuse', 'defusing', 'defy', 'delay', 'delayed', 'delaying', 'delays', 'deliberate', 'deliver', 'delivered', 'delivering', 'delta', 'demand', 'demands', 'dementia', 'demo', 'demonstrate', 'demotion', 'dengue', 'denial', 'denials', 'denied', 'denier', 'denies', 'density', 'dental', 'dentist', 'dentistry', 'dentists', 'department', 'departure', 'depends', 'deployed', 'deployments', 'depression', 'deprived', 'deputy', 'dermatology', 'dermoskeletics', 'described', 'describes', 'desensitize', 'design', 'designated', 'designed', 'designer', 'designs', 'desirable', 'desire', 'desist', 'desk', 'desperately', 'despicable', 'despite', 'destroys', 'detachment', 'detail', 'details', 'detect', 'detected', 'detection', 'detective', 'detectives', 'detention', 'detergent', 'deterioration', 'determined', 'deterred', 'detox', 'devastating', 'develop', 'developed', 'developing', 'development', 'developmental', 'developmentally', 'develops', 'device', 'devices', 'devin', 'devotes', 'dewailly', 'dhabitoronto', 'diabetes', 'diabetic', 'diabeticfriendly', 'diabetics', 'diagnose', 'diagnosed', 'diagnoses', 'diagnosing', 'diagnosis', 'diagnosisdementia', 'diagnostic', 'dialogue', 'dialysis', 'diane35s', 'diarrhea', 'did', 'didnt', 'die', 'died', 'dies', 'diet', 'dietbased', 'dietician', 'dieting', 'dietitians', 'diets', 'differences', 'different', 'differently', 'difficile', 'difficult', 'digestive', 'digital', 'dignity', 'dilemma', 'diluted', 'dine', 'dionne', 'diplomats', 'directly', 'director', 'directtoconsumer', 'disabilities', 'disability', 'disabled', 'disagrees', 'disappear', 'disappointingly', 'disarmed', 'disaster', 'disasters', 'discharge', 'discharged', 'disciplinary', 'disclosed', 'discloses', 'disclosure', 'disconnect', 'discount', 'discouraged', 'discovered', 'discoveries', 'discovery', 'discriminate', 'discriminates', 'discrimination', 'discuss', 'discussed', 'discusses', 'discussion', 'disease', 'diseases', 'disgrace', 'dish', 'dishes', 'dismantled', 'dismiss', 'dismissal', 'disney', 'disneyland', 'disneylinked', 'disorder', 'disorders', 'dispel', 'dispensed', 'dispenser', 'dispensing', 'disposable', 'disposables', 'disposal', 'disproven', 'dispute', 'disputes', 'disrupting', 'disruptions', 'disrupts', 'disservice', 'distance', 'distract', 'distracted', 'distress', 'distribution', 'districts', 'disturbing', 'ditch', 'divert', 'diverted', 'diverts', 'divided', 'divisive', 'diy', 'djerassi', 'dna', 'dnd', 'do', 'doc', 'docs', 'doctor', 'doctorassisted', 'doctors', 'documentary', 'documents', 'does', 'doesnt', 'dog', 'dogs', 'doing', 'dole', 'dollar', 'dollarama', 'domestic', 'dominate', 'donald', 'donate', 'donated', 'donating', 'donation', 'donations', 'dondoff', 'done', 'donepezil', 'donor', 'donors', 'dont', 'donut', 'doodnaught', 'door', 'doors', 'doping', 'dorset', 'dorsets', 'dosage', 'dose', 'doses', 'dosing', 'double', 'doubled', 'doublegloving', 'doubles', 'doubted', 'doug', 'douglas', 'doula', 'down', 'downplayed', 'downsizing', 'downturn', 'dozens', 'dr', 'draft', 'drafted', 'dragged', 'drain', 'drainage', 'dramatic', 'draws', 'dream', 'drfriedencd', 'drfriedencdc', 'drink', 'drinkers', 'drinking', 'drinks', 'drive', 'driven', 'driverless', 'drivers', 'drives', 'driving', 'drkarlkabasele', 'drmeeradalal', 'drmichaelgardam', 'drop', 'droplets', 'dropped', 'drops', 'drove', 'drown', 'drowning', 'drowsiness', 'drowsy', 'drug', 'drugging', 'drugmaker', 'drugmakers', 'drugrelated', 'drugresistant', 'drugs', 'drugsmarketing', 'drugtesting', 'drunk', 'dry', 'dryden', 'dubai', 'dubious', 'duck', 'due', 'dummies', 'dumont', 'dumped', 'duodenoscope', 'duong', 'during', 'dust', 'duty', 'dye', 'dying', 'dylan', 'e', 'each', 'eagle', 'ear', 'earlier', 'early', 'earlystage', 'earn', 'earnings', 'ears', 'ease', 'eased', 'eases', 'easier', 'easily', 'east', 'eastern', 'easy', 'eat', 'eaten', 'eateries', 'eating', 'eatings', 'eats', 'eau', 'ebola', 'ebolafacts', 'ebolainfected', 'ebolakilling', 'ebolalike', 'ebolalinked', 'ebolaoutbreak', 'ebolarecovered', 'ebolas', 'ebolasapped', 'ebolasickened', 'ebolastricken', 'ebolavictims', 'ecdceu', 'ecdcflu', 'ecigarette', 'ecigarettes', 'eclipse', 'eco', 'ecoli', 'economic', 'economy', 'ecosystem', 'ecstacy', 'ecstasy', 'ecstatic', 'eczema', 'eddie', 'edge', 'edgier', 'edition', 'editor', 'editors', 'edmonton', 'edt', 'education', 'educator', 'educators', 'effect', 'effective', 'effectiveness', 'effects', 'efficient', 'effo', 'effort', 'eg', 'egg', 'eggs', 'eggtimers', 'egypt', 'ehealth', 'eilish', 'elder', 'elderly', 'elders', 'eldest', 'election', 'electrical', 'electrician', 'electronic', 'elementary', 'elevated', 'elevator', 'eli', 'eliminate', 'eliminates', 'ellen', 'elman', 'else', 'elsewhere', 'elusive', 'em', 'email', 'emails', 'emanuel', 'embargo', 'embarrassed', 'embrace', 'embracing', 'embryo', 'embryos', 'emergencies', 'emergency', 'emerging', 'emerson', 'emery', 'emerys', 'emotion', 'emphasize', 'emphysema', 'employees', 'employers', 'empowering', 'empty', 'enables', 'encourage', 'encouraged', 'encouraging', 'end', 'ending', 'endoflife', 'endoflifecare', 'endorsement', 'endorses', 'endoscopes', 'endoscopy', 'ends', 'endurance', 'endures', 'enemy', 'energy', 'enforcing', 'english', 'enhancer', 'enjoy', 'enormous', 'enough', 'enterovirus', 'entertainment', 'entice', 'entrepreneur', 'entry', 'environment', 'enzyme', 'epa', 'epatient', 'epicentre', 'epidemic', 'epidemics', 'epidemiological', 'epigenome', 'epipen', 'epipens', 'equal', 'equally', 'equipment', 'er', 'era', 'eradication', 'eradications', 'erasing', 'erca', 'erection', 'erections', 'eric', 'error', 'errors', 'ers', 'escape', 'esme28', 'especially', 'essay', 'essentialoils', 'establish', 'esther', 'estimate', 'estimated', 'estrogen', 'et', 'ethical', 'ethicist', 'ethicists', 'ethics', 'ethnicity', 'eu', 'euro', 'europe', 'european', 'euthanasia', 'euthanize', 'eve', 'even', 'evening', 'event', 'ever', 'every', 'everybody', 'everywhere', 'eviction', 'evidence', 'exam', 'examine', 'examined', 'examiner', 'examiners', 'examines', 'example', 'exams', 'exasperated', 'exceed', 'exceeds', 'excellence', 'exceptions', 'excess', 'excessive', 'exchange', 'excluded', 'excruciating', 'executive', 'executives', 'exemployees', 'exemption', 'exercise', 'exercisers', 'exercises', 'exfoliation', 'exhaust', 'exhaustion', 'exist', 'exit', 'exjunior', 'exoskeleton', 'expand', 'expanded', 'expanding', 'expands', 'expect', 'expectancy', 'expectant', 'expected', 'expecting', 'expenses', 'experience', 'experiences', 'experiencing', 'experiment', 'experimental', 'experiments', 'expert', 'experts', 'expired', 'expires', 'expiry', 'explain', 'explains', 'exploding', 'explore', 'explored', 'explosions', 'exports', 'exposed', 'exposes', 'exposure', 'exsoldier', 'exstaff', 'extend', 'extended', 'extends', 'extra', 'extreme', 'extremely', 'eye', 'eyeballs', 'eyeing', 'eyes', 'ezekiel', 'f', 'f1', 'fabrics', 'face', 'facebook', 'faces', 'facial', 'facials', 'facilities', 'facility', 'facing', 'fact', 'factor', 'factories', 'factors', 'facts', 'fad', 'fades', 'fail', 'failed', 'failing', 'failings', 'fails', 'failure', 'fair', 'fairy', 'fake', 'faked', 'faking', 'fall', 'falling', 'falls', 'fallswindsor', 'falsely', 'fame', 'famed', 'families', 'family', 'familys', 'famous', 'fan', 'fancy', 'fans', 'faq', 'far', 'farazlis', 'fare', 'farm', 'farmers', 'farmland', 'farms', 'farrar', 'fascinating', 'fasd', 'fast', 'faster', 'fastfood', 'fasting', 'fasttrack', 'fasttracked', 'fat', 'fatal', 'fatalities', 'fatca', 'father', 'fatherdaughter', 'fathers', 'fatigue', 'fats', 'fatshaming', 'fatter', 'faulty', 'favoured', 'favourite', 'faxed', 'fda', 'fdas', 'fear', 'feared', 'fears', 'feature', 'features', 'fecal', 'federal', 'federally', 'federation', 'feds', 'feel', 'feeling', 'feels', 'fees', 'fell', 'female', 'fentanyl', 'fentanylrelated', 'ferguson', 'fern', 'fertility', 'fertilization', 'festival', 'festivals', 'fetal', 'fetus', 'fever', 'feverreducing', 'few', 'fewer', 'fibroid', 'fibrosis', 'field', 'fight', 'fighting', 'fights', 'figure', 'figured', 'file', 'filed', 'files', 'filipina', 'fill', 'filled', 'filling', 'fills', 'film', 'filmed', 'films', 'final', 'finalist', 'finally', 'financial', 'find', 'findings', 'finds', 'fine', 'fined', 'fines', 'finger', 'fingerpointing', 'fingerreader', 'fire', 'firefighters', 'fires', 'firing', 'firm', 'firms', 'first', 'fish', 'fisher', 'fist', 'fit', 'fitness', 'fitzpatrickm', 'five', 'fivesecond', 'fix', 'fixed', 'fixes', 'fk', 'flag', 'flagged', 'flagging', 'flame', 'flaming', 'flashes', 'flat', 'flavour', 'flavoured', 'flawed', 'flaws', 'flea', 'fled', 'flemming', 'flesheating', 'fletcher', 'flight', 'flights', 'flood', 'flooding', 'florida', 'flourishing', 'flowers', 'flu', 'fluoridation', 'fluoride', 'flurelated', 'fly', 'flyers', 'foam', 'focus', 'focuses', 'follow', 'followed', 'following', 'follows', 'folly', 'font', 'food', 'foods', 'fool', 'fooled', 'foot', 'football', 'footprint', 'for', 'force', 'forced', 'forces', 'forcing', 'ford', 'fords', 'forecast', 'forehead', 'foreign', 'forensic', 'forensics', 'foreshadow', 'forests', 'forever', 'forge', 'forgeries', 'forget', 'form', 'former', 'formula', 'fort', 'forum', 'forward', 'found', 'foundation', 'foundations', 'four', 'fox', 'foxs', 'foxy', 'fr', 'fracking', 'fracture', 'fragment', 'frail', 'france', 'frances', 'francis', 'franciss', 'fraser', 'fraud', 'fraudulent', 'fredericton', 'frederictons', 'free', 'freedom', 'freeze', 'freezer', 'french', 'frequent', 'fresh', 'freya28', 'fri', 'friday', 'frieden', 'friendly', 'friendship', 'friendships', 'fries', 'frigid', 'from', 'front', 'frontman', 'frozen', 'fruit', 'frustrated', 'frustrates', 'frustrating', 'fuelled', 'fuels', 'fukushima', 'full', 'fullday', 'fullterm', 'fulltime', 'function', 'fund', 'funding', 'fundraiser', 'fundraising', 'funds', 'funeral', 'fungus', 'funny', 'furious', 'furniture', 'further', 'future', 'gabbygiffords', 'gadgets', 'gaffe', 'gain', 'gains', 'gairdner', 'gait', 'gal', 'gala', 'gamblers', 'game', 'gameboy', 'gamechanger', 'games', 'gaming', 'gap', 'gaps', 'garbage', 'gardasil', 'garden', 'gardens', 'garlic', 'garments', 'gas', 'gastrointestinal', 'gates', 'gather', 'gathering', 'gatherings', 'gatineau', 'gave', 'gay', 'gear', 'gel', 'gelinas', 'gender', 'gene', 'general', 'generated', 'generic', 'generics', 'genes', 'genetic', 'genetically', 'geneticist', 'genetics', 'genetictesting', 'geneva', 'genital', 'genome', 'gentamicin', 'gently', 'geoffrey', 'geographic', 'george', 'geriatricians', 'germ', 'german', 'germanwings', 'germany', 'germs', 'get', 'gets', 'getting', 'ghana', 'ghanouj', 'giant', 'gibson', 'gift', 'gillian', 'giorgio', 'girl', 'girls', 'give', 'given', 'gives', 'giving', 'glasgow', 'glass', 'glasses', 'glaxo', 'glaxosmithkline', 'glenn', 'glimpses', 'global', 'globally', 'globalmedics', 'glove', 'gloves', 'glowing', 'glucosamine', 'glucose', 'gluten', 'glutenfree', 'glyphosate', 'gmo', 'gmofree', 'gmos', 'go', 'goal', 'goals', 'god', 'goes', 'gofundme', 'going', 'gold', 'golden', 'gone', 'gonorrhea', 'good', 'goods', 'google', 'gordie', 'gorgonzola', 'gory', 'gossip', 'got', 'governing', 'government', 'governor', 'govt', 'gowns', 'gps', 'grab', 'grace', 'graco', 'grade', 'graders', 'grades', 'graft', 'grams', 'grand', 'grandin', 'granny', 'grant', 'granted', 'grants', 'grassy', 'grave', 'gravely', 'great', 'greater', 'greatly', 'greek', 'green', 'greener', 'greet', 'grew', 'grey', 'grieving', 'grime', 'grocery', 'groom', 'ground', 'grounds', 'group', 'groups', 'grow', 'growers', 'growing', 'grown', 'growop', 'grows', 'growth', 'gruelling', 'grumpy', 'gsk', 'gt', 'gt10', 'gtas', 'gtevidence', 'guard', 'guelph', 'guests', 'guidance', 'guide', 'guideline', 'guidelines', 'guillainbarre', 'guilty', 'guinea', 'guineas', 'gum', 'gummies', 'gun', 'gurney', 'gut', 'guyana', 'gym', 'gyms', 'gynecologist', 'gyno', 'h1n1', 'h3n2', 'h5n1', 'h5n8', 'h7n9', 'habit', 'habits', 'hack', 'had', 'hadfield', 'haertlg', 'hailed', 'hair', 'hajj', 'half', 'halfempty', 'halifax', 'hall', 'halloween', 'hallucinogen', 'halt', 'halted', 'ham', 'hamilton', 'hamiltons', 'hamonts', 'hand', 'handcuffs', 'handle', 'handling', 'hands', 'handshakes', 'handson', 'hangover', 'hangs', 'hannahthibedeau', 'hantavirus', 'hantavirusrelated', 'happen', 'happens', 'happiest', 'happiness', 'happy', 'hard', 'harder', 'harding', 'hardtoread', 'haris', 'harley', 'harm', 'harmful', 'harming', 'harmless', 'harms', 'harper', 'harris', 'harrowing', 'harvests', 'has', 'hashtagging', 'hasnt', 'hassan', 'hastings', 'hate', 'have', 'havent', 'having', 'hawaii', 'hazard', 'hazardous', 'hazards', 'haze', 'hdl', 'he', 'head', 'headbanging', 'headbangings', 'headed', 'heading', 'heads', 'heal', 'healing', 'health', 'healthcanada', 'healthcare', 'healthcuts', 'healthier', 'healthkit', 'healthmap', 'healthy', 'healthydebate', 'hear', 'heard', 'hearing', 'hears', 'heart', 'heartbleed', 'heartburn', 'hearthealthy', 'hearts', 'heat', 'heated', 'heatherwilhelm', 'heats', 'heavier', 'heavily', 'heavy', 'heck', 'hed', 'heed', 'heel', 'hefty', 'heightens', 'heinz', 'held', 'helenbranswell', 'hell', 'helmet', 'helmets', 'help', 'helped', 'helpers', 'helping', 'helps', 'hemophilia', 'henry', 'hep', 'hepatitis', 'her', 'herbal', 'herbicide', 'herd', 'here', 'heres', 'hero', 'heroes', 'heroin', 'heroins', 'herpes', 'herself', 'hes', 'hesitant', 'hi', 'hibernate', 'hickox', 'hidden', 'hide', 'hiding', 'hierarchy', 'high', 'highcalorie', 'highchair', 'highdose', 'higher', 'highest', 'highfunctioning', 'highlight', 'highlights', 'highly', 'highrisk', 'highsodium', 'hightech', 'hikes', 'hill', 'hills', 'him', 'himself', 'hindrance', 'hip', 'hippocrates', 'hirers', 'hirsute', 'his', 'historic', 'history', 'hit', 'hitchcock', 'hits', 'hitting', 'hiv', 'hivaids', 'hivpositiv', 'hivpositive', 'hivprevention', 'hivr4p', 'hoarder', 'hobby', 'hockey', 'hockeys', 'hodgkins', 'hogweed', 'hold', 'holding', 'holds', 'hole', 'holiday', 'holidays', 'home', 'homecare', 'homefront', 'homegrown', 'homeless', 'homeopathic', 'homeopathy', 'homes', 'hometown', 'homework', 'homicide', 'honour', 'honoured', 'honrobnicho', 'hookah', 'hope', 'hoped', 'hopes', 'hoping', 'horizon', 'hormone', 'hormones', 'horrible', 'horrific', 'horrified', 'hortons', 'hoskins', 'hospital', 'hospitalization', 'hospitalizations', 'hospitalized', 'hospitals', 'host', 'hot', 'hotbeds', 'hotel', 'hotline', 'hotspot', 'hotspots', 'hour', 'hours', 'hourweek', 'house', 'households', 'housetohouse', 'houseworks', 'housing', 'how', 'howe', 'howes', 'howto', 'hpv', 'hq', 'hscwinnipeg', 'ht', 'htt', 'huge', 'hughes', 'human', 'humanitarian', 'humanity', 'humans', 'hummus', 'hums', 'hundreds', 'hunger', 'hungry', 'hunt', 'hunters', 'hunting', 'huntingtons', 'hurt', 'hurts', 'husband', 'husbands', 'hw', 'hydrated', 'hydration', 'hype', 'hyperactivity', 'hypertension', 'hôteldieu', 'i', 'ibogaine', 'ibuprofen', 'ice', 'icesontario', 'icu', 'icymi', 'id', 'idea', 'ideal', 'ideas', 'identical', 'identified', 'if', 'ifv', 'ignorance', 'ignore', 'ignored', 'ignores', 'iii', 'iiis', 'ikea', 'ill', 'illegal', 'illegally', 'illinois', 'illness', 'illnesses', 'im', 'image', 'imagery', 'images', 'imitrex', 'immediate', 'immediately', 'immune', 'immunity', 'immunization', 'immunizations', 'immunizeca', 'immunocompromised', 'imovane', 'impa', 'impact', 'impacts', 'impaired', 'impairment', 'imperative', 'implant', 'implanted', 'implants', 'implement', 'important', 'imports', 'imposes', 'imposing', 'impossible', 'impotent', 'impress', 'imprisoned', 'improperly', 'improve', 'improved', 'improvements', 'improves', 'improving', 'in', 'inability', 'inactivity', 'inc', 'incense', 'incentive', 'incentives', 'incessant', 'inches', 'incident', 'incidental', 'include', 'includes', 'including', 'income', 'incomebased', 'incompetence', 'inconvenience', 'incorporates', 'incorrect', 'increase', 'increased', 'increases', 'increasing', 'increasingly', 'incredible', 'incubator', 'incurable', 'independence', 'independent', 'index', 'india', 'indian', 'indiana', 'indicate', 'indicates', 'indifferent', 'indigenous', 'individuals', 'indoor', 'indoors', 'inducing', 'industry', 'inefficient', 'inequality', 'inevitable', 'inexpensive', 'infancy', 'infant', 'infants', 'infect', 'infected', 'infecting', 'infection', 'infections', 'infectious', 'infects', 'infertile', 'infertility', 'inflammatory', 'inflatable', 'inflatables', 'influence', 'influenced', 'info', 'infograph', 'infographic', 'information', 'informs', 'infrastructure', 'infrequent', 'infusion', 'ingestion', 'ingredients', 'inhuman', 'initial', 'initiative', 'injectable', 'injected', 'injection', 'injections', 'injectors', 'injured', 'injuries', 'injury', 'inmates', 'innate', 'inner', 'innerget', 'innovative', 'input', 'inquest', 'inquiry', 'insects', 'insecurity', 'inserting', 'inside', 'insight', 'insights', 'insite', 'inspected', 'inspection', 'inspections', 'inspectors', 'inspiration', 'inspire', 'inspired', 'inspires', 'inspiring', 'installs', 'instead', 'institute', 'institutional', 'institutions', 'instruction', 'instructor', 'instrument', 'insufficient', 'insulation', 'insulin', 'insurance', 'insurers', 'insurgency', 'intake', 'intellectual', 'intense', 'intensely', 'intensive', 'intentional', 'interaction', 'interests', 'interim', 'interior', 'internal', 'international', 'internet', 'interns', 'interrupted', 'intervene', 'intervention', 'interview', 'intestinal', 'intimacy', 'into', 'introduce', 'introduced', 'intv', 'inuit', 'inuvik', 'invasive', 'inventor', 'invents', 'investigated', 'investigates', 'investigating', 'investigation', 'invited', 'involuntary', 'involved', 'ioannacbc', 'ipad', 'iphone', 'ipods', 'iq', 'iqaluit', 'iran', 'ireland', 'irish', 'iron', 'irrational', 'irritation', 'irwin', 'is', 'island', 'islands', 'isnt', 'isolate', 'isolated', 'isolating', 'isolation', 'isotope', 'isotopes', 'issue', 'issued', 'issues', 'issuing', 'it', 'italian', 'its', 'iud', 'iv', 'iver', 'ivers', 'ivf', 'ivory', 'iwk', 'j', 'jagatic', 'jail', 'jam', 'jamacurrent', 'james', 'jampj', 'jan', 'janeway', 'january', 'japan', 'japans', 'jatetro', 'jaw', 'jean', 'jeddah', 'jeff', 'jennifer', 'jennifergardy', 'jenny', 'jensen', 'jensens', 'jeremy', 'jerry', 'jet', 'jewish', 'jfindc', 'jim', 'jjs', 'job', 'jobless', 'jobs', 'joe', 'joep', 'john', 'johns', 'johnson', 'join', 'joined', 'joke', 'jolie', 'jolies', 'joliette', 'jones', 'josephine', 'joshi', 'journal', 'journalist', 'journey', 'jrnl', 'judge', 'juice', 'juliaoftoronto', 'julie', 'julieireton', 'julieiretons', 'july', 'jump', 'jumped', 'jumps', 'june', 'junior', 'junk', 'junkfood', 'jury', 'just', 'justice', 'justified', 'justin', 'jvnl', 'jyangstar', 'kaci', 'kakabeka', 'kalydeco', 'kanavapes', 'kang', 'karenpaulscbc', 'karibu', 'kasems', 'kashi', 'kasroussy', 'kates', 'keep', 'keeping', 'keeps', 'kegel', 'kellogg', 'kelly', 'kelowna', 'ken', 'kendall', 'kennedys', 'kent', 'kenya', 'kept', 'kerri', 'keurig', 'key', 'keyhole', 'khan', 'kicked', 'kicks', 'kidfriendly', 'kidney', 'kidneys', 'kidneyzapping', 'kids', 'kieraevebutler', 'kill', 'killed', 'killer', 'killing', 'kills', 'kim', 'kimbrunhube', 'kimbrunhuber', 'kimbrunhubers', 'kimoon', 'kind', 'king', 'kingston', 'kipnes', 'kira', 'kirkland', 'kiss', 'kit', 'kits', 'klm', 'kmiecic', 'knee', 'kneejerk', 'knees', 'knife', 'knock', 'know', 'knowledge', 'known', 'knows', 'kobinger', 'konradsca', 'kooneelusie', 'koreas', 'kotelko', 'krokodil', 'lab', 'label', 'labelling', 'labels', 'labgrown', 'labiaplasty', 'laboratory', 'labour', 'labrador', 'labs', 'lack', 'lacking', 'lacks', 'lacmégantic', 'ladies', 'lag', 'lagged', 'lagos', 'lair', 'lakehead', 'lakeshore', 'lamb', 'lament', 'lanaudière', 'lancet', 'landmines', 'lands', 'langes', 'language', 'lap', 'laparoscopic', 'lapses', 'laptop', 'large', 'largest', 'las', 'lasker', 'last', 'late', 'latent', 'later', 'latest', 'latestage', 'lauds', 'laughters', 'launch', 'launched', 'launches', 'launching', 'laundry', 'law', 'lawmaker', 'lawmakers', 'lawrence', 'lawrences', 'laws', 'lawsuit', 'lawsuits', 'lawyer', 'lawyers', 'lax', 'lay', 'lazy', 'lb', 'lbs', 'lead', 'leader', 'leaders', 'leadership', 'leading', 'leads', 'league', 'leagues', 'leanwashing', 'leap', 'learn', 'learning', 'learns', 'least', 'leave', 'leaves', 'leaving', 'lebanon', 'lebrons', 'lecture', 'led', 'ledez', 'lee', 'leeb', 'leech', 'left', 'leg', 'legal', 'legalize', 'legalized', 'legally', 'legionnaires', 'legions', 'legislation', 'legislature', 'lego', 'legs', 'length', 'lens', 'lenswearers', 'leone', 'leones', 'lerhe', 'less', 'lessens', 'lesson', 'lessons', 'let', 'lethal', 'lethbridge', 'lets', 'letter', 'letters', 'letting', 'leukemia', 'level', 'levelled', 'levels', 'lewiss', 'lgbt', 'liberals', 'liberation', 'liberia', 'liberian', 'liberias', 'library', 'lice', 'licence', 'licences', 'license', 'licensing', 'lie', 'lies', 'life', 'lifeline', 'lifes', 'lifespan', 'lifestyle', 'lifestyles', 'lifesupport', 'lifetime', 'lifted', 'lifts', 'light', 'lights', 'like', 'likelihood', 'likely', 'liken', 'lilly', 'limbo', 'limbs', 'limit', 'limitation', 'limitations', 'limited', 'limits', 'lin', 'line', 'lines', 'linger', 'link', 'linked', 'links', 'lionel', 'lions', 'lip', 'liposarcoma', 'liquid', 'lisa', 'lisleverte', 'list', 'listen', 'listening', 'listeria', 'listeriosis', 'lists', 'literacy', 'little', 'live', 'lived', 'liver', 'lives', 'livestreamed', 'livestrong', 'livetweeted', 'living', 'lo', 'lobbies', 'lobby', 'local', 'locally', 'lock', 'lockdown', 'locker', 'logistical', 'logo', 'london', 'loneliness', 'lonely', 'long', 'longer', 'longest', 'longevity', 'longsought', 'longterm', 'longtime', 'look', 'looking', 'looks', 'looms', 'loopholes', 'lose', 'loses', 'losing', 'loss', 'lost', 'lot', 'lotteries', 'lottery', 'lou', 'loud', 'louise', 'louisiana', 'lounge', 'lounges', 'lousiana', 'love', 'loved', 'low', 'lowcarb', 'lowdose', 'lowe', 'lower', 'lowercalorie', 'lowered', 'lowering', 'lowers', 'lowincome', 'lowmercury', 'lows', 'loyalty', 'lt25', 'lt5', 'luck', 'lucky', 'luis', 'lululemon', 'lump', 'lunar', 'lunch', 'lung', 'lungs', 'lupus', 'lurch', 'lure', 'luxury', 'lyme', 'lymedisease', 'lymphoma', 'lyndsayd', 'm', 'mac', 'macaroni', 'macdonald', 'macedonia', 'machine', 'machines', 'mackay', 'macleansmag', 'maclellan', 'macneil', 'mad', 'madagascar', 'made', 'madeincanada', 'madi', 'magazines', 'magic', 'magnetic', 'magnets', 'magnitude', 'mai', 'mail', 'mailorder', 'main', 'maine', 'mainland', 'mainstream', 'major', 'majority', 'makayla', 'makaylas', 'make', 'maker', 'makers', 'makes', 'making', 'malaria', 'malaysian', 'male', 'mali', 'malis', 'mall', 'mallock', 'malls', 'malnutrition', 'malpractice', 'mammogram', 'mammograms', 'mammography', 'man', 'managed', 'management', 'managing', 'manan', 'mandate', 'mandatory', 'manitoba', 'manitobas', 'mann', 'manner', 'mans', 'manual', 'manufacturer', 'manufacturing', 'many', 'map', 'maple', 'mapped', 'mapping', 'marathon', 'marburg', 'marc', 'march', 'marchese', 'marcscottemery', 'margaret', 'marijuana', 'marijuanaprescribing', 'marijuanas', 'marines', 'mark', 'marker', 'market', 'marketing', 'marketplace', 'markets', 'marks', 'marlboro', 'marriage', 'married', 'marrow', 'mart', 'martin', 'marylynn', 'marys', 'mask', 'masks', 'mass', 'massive', 'massively', 'mastectomy', 'masters', 'mat', 'match', 'maternal', 'maternity', 'matter', 'matters', 'mattresses', 'maximum', 'may', 'maybe', 'mayoral', 'mayors', 'mblaser', 'mc', 'mccarthy', 'mcdonald', 'mcdonalds', 'mcgill', 'mcmaster', 'mcmurray', 'md', 'mdassisted', 'mdr', 'mds', 'me', 'meal', 'meals', 'mealtime', 'mean', 'meaning', 'means', 'measles', 'measlesfree', 'measure', 'measured', 'measurement', 'measures', 'meat', 'meccas', 'mechanical', 'mechanically', 'med', 'medevac', 'media', 'medic', 'medical', 'medically', 'medicare', 'medication', 'medications', 'medicentres', 'medicinal', 'medicine', 'medicines', 'medieval', 'mediterranean', 'meds', 'medtronic', 'meet', 'meeting', 'meets', 'megaton', 'melanoma', 'melatonin', 'melinda', 'melody', 'melt', 'member', 'members', 'memish', 'memories', 'memory', 'men', 'menchenton', 'meningitis', 'menopause', 'mens', 'menstrual', 'mental', 'mentalhealth', 'mentally', 'menthol', 'mention', 'mentor', 'mentors', 'menu', 'menus', 'mer', 'merck', 'mercks', 'mercury', 'merge', 'mers', 'merscov', 'mess', 'message', 'messages', 'met', 'metabolism', 'metal', 'metalonmetal', 'metals', 'methadone', 'method', 'metro', 'mexican', 'mexico', 'mh17', 'mhjd85', 'mice', 'michael', 'michaels', 'michigan', 'microbial', 'microbicides', 'microbiologist', 'microbiology', 'microscope', 'microscopic', 'mid2015', 'middle', 'middleaged', 'mideast', 'midlife', 'midprocess', 'midst', 'midwifeled', 'midwifery', 'midwives', 'might', 'migraine', 'migraines', 'mikmaq', 'mild', 'miles', 'milestone', 'military', 'milk', 'million', 'milliondollar', 'millions', 'min', 'mind', 'mindcontrolled', 'mindsets', 'minefield', 'mineral', 'miners', 'minimally', 'minimed', 'minimize', 'minimum', 'minister', 'ministers', 'minnesota', 'minor', 'minors', 'minute', 'minutes', 'miracle', 'miraculous', 'miramichi', 'mirror', 'misbranded', 'misconceptions', 'misdiagnosed', 'mishandling', 'misinformation', 'misleading', 'mismatch', 'misogynistic', 'miss', 'missed', 'misses', 'missing', 'mission', 'missionary', 'missions', 'mistake', 'mistakenly', 'mistakes', 'misunderstanding', 'misunderstood', 'misuse', 'mit', 'mix', 'mixed', 'mixedrace', 'mixup', 'mlas', 'mlechung', 'mobile', 'mocked', 'mockingjay', 'mode', 'model', 'modeled', 'models', 'moderate', 'moderation', 'modern', 'modifications', 'modified', 'molaisons', 'mom', 'moment', 'momentum', 'moms', 'moncton', 'monctons', 'monday', 'money', 'mongering', 'monitored', 'monitoring', 'monkeys', 'mono', 'monoxide', 'monrovia', 'monsanto', 'monster', 'montfort', 'month', 'months', 'montreal', 'montreals', 'monument', 'moods', 'moon', 'moose', 'moral', 'morcellation', 'more', 'morgentaler', 'morning', 'morningafter', 'morphine', 'mortality', 'mos', 'mosquito', 'mosquitoborne', 'mosquitoes', 'most', 'mostly', 'mostused', 'mother', 'motherless', 'mothers', 'motion', 'motioncapture', 'motor', 'motorized', 'mould', 'mount', 'mounties', 'mounting', 'mourners', 'mouse', 'moustaches', 'mouth', 'move', 'moved', 'movember', 'movement', 'movements', 'moves', 'movie', 'moving', 'mp', 'mpeveadams', 'mpp', 'mpps', 'mri', 'mris', 'mrsa', 'ms', 'msf', 'msfcanada', 'msfsays', 'msfstopebola', 'mt', 'much', 'muffled', 'muhc', 'mukpo', 'mulcair', 'mulls', 'multiple', 'multitaskingmistakes', 'mum', 'mumps', 'municipalities', 'murder', 'murphyhiggins', 'muscle', 'mushrooms', 'music', 'musics', 'must', 'muster', 'mutated', 'mutation', 'mutilation', 'muzzling', 'my', 'mycanadais', 'myself', 'mysteries', 'mysterious', 'mystery', 'myth', 'myths', 'n', 'nackawic', 'nafta', 'naloxone', 'name', 'namerica', 'names', 'naming', 'nancy', 'nannies', 'nanoparticles', 'naomi', 'narcotic', 'narcoticprescribing', 'narcotics', 'narrowed', 'narrows', 'nasal', 'nasty', 'nathan', 'nation', 'national', 'nationality', 'nationally', 'nations', 'nationwide', 'natural', 'naturalhealth', 'nature', 'navigates', 'navigating', 'nb', 'nbc', 'nbcs', 'ndp', 'ndps', 'near', 'nearby', 'neardeath', 'nearer', 'nearfatal', 'nearly', 'necessary', 'necessity', 'neck', 'need', 'needed', 'needleexchange', 'needles', 'needless', 'needlessly', 'needs', 'negative', 'negativity', 'neglect', 'negotiations', 'neighbour', 'neighbourhood', 'neighbourhoods', 'neil', 'nejm', 'neomagnetic', 'nerve', 'nets', 'network', 'networking', 'neuroscientists', 'neurosurgeons', 'neurotrauma', 'nevaeh', 'never', 'new', 'newborn', 'newborns', 'newest', 'newfoundland', 'newlink', 'newmans', 'news', 'next', 'nextday', 'nezamis', 'nfl', 'nflers', 'nhl', 'niacin', 'niagara', 'nibbling', 'nicaraguans', 'nice', 'nicholas', 'nicholson', 'nickel', 'nicotine', 'nigeria', 'nigerian', 'night', 'nights', 'nightshiftmd', 'nightshiftmds', 'nikhil', 'nile', 'nina', 'ninapha', 'nipple', 'nixed', 'nl', 'nml', 'no', 'nobel', 'nobels', 'nobody', 'noise', 'nonacute', 'noncertified', 'noncows', 'nondisclosure', 'nonessential', 'nonfluoride', 'nono', 'nonseniors', 'nonwhite', 'noon', 'nordion', 'normal', 'norovirus', 'north', 'northern', 'northerners', 'norths', 'northwest', 'nose', 'nosm', 'nosodes', 'nostrils', 'not', 'note', 'notebook', 'notes', 'notice', 'notifying', 'nourish', 'nova', 'novavax', 'novel', 'now', 'nowater', 'ns', 'nuclear', 'number', 'numbers', 'nunavik', 'nunavut', 'nunavuts', 'nurse', 'nurses', 'nursing', 'nurture', 'nutek', 'nutrition', 'nutritional', 'nutritionally', 'nutritionist', 'nutritious', 'nwt', 'nyc', 'nyuniversity', 'o', 'obama', 'obamacare', 'obamas', 'obese', 'obesity', 'obesitys', 'obgyns', 'objective', 'obscenity', 'observed', 'obsession', 'obstacles', 'obstetrician', 'occur', 'occurred', 'ocd', 'october', 'od', 'oda', 'odds', 'oecd', 'oever', 'of', 'off', 'offensive', 'offer', 'offered', 'offering', 'offers', 'office', 'officer', 'officers', 'offices', 'official', 'officials', 'offlabel', 'offspring', 'often', 'ohio', 'ohl', 'ohri', 'oil', 'oilsands', 'ok', 'okd', 'old', 'older', 'olga', 'oliver', 'olympian', 'olympians', 'olympic', 'olympics', 'oma', 'ombudsman', 'omega3', 'on', 'onamppei', 'once', 'oncologist', 'one', 'oneoff', 'ones', 'onesidedness', 'onl', 'online', 'only', 'onscreen', 'onset', 'ont', 'ontario', 'ontarios', 'ontscience', 'oozing', 'open', 'opened', 'opens', 'operate', 'operates', 'operation', 'opiate', 'opioid', 'opioids', 'opportunities', 'opposed', 'opposite', 'opposites', 'opposition', 'optimistic', 'optimization', 'opting', 'option', 'options', 'or', 'oral', 'orange', 'order', 'ordered', 'orders', 'oregon', 'organ', 'organic', 'organics', 'organization', 'organs', 'original', 'originated', 'origins', 'orleans', 'ornge', 'orphan', 'orphans', 'orthorexia', 'osteoporosis', 'other', 'others', 'ottawa', 'ottawas', 'oubreak', 'our', 'out', 'outbr', 'outbreak', 'outbreaks', 'outbursts', 'outdated', 'outdoor', 'outed', 'outlawed', 'outofpocket', 'outreach', 'outside', 'outsize', 'outsourcing', 'outstrips', 'outweigh', 'ovarian', 'ovaries', 'ovary', 'ove', 'over', 'overblown', 'overcapacity', 'overcrowding', 'overdose', 'overdoses', 'overdue', 'overeaters', 'overestimated', 'overhaul', 'overhyped', 'overload', 'overlooked', 'overnight', 'overpaid', 'overprescribing', 'overreach', 'overrun', 'overseas', 'oversight', 'overtake', 'overturned', 'overuse', 'overweight', 'overwhelm', 'overwhelmed', 'overwhelming', 'owe', 'own', 'owners', 'oxford', 'oxycontin', 'oxyelitepro', 'oxygen', 'oz', 'ozs', 'p', 'pace', 'pacemaker', 'pacifier', 'pack', 'package', 'packages', 'packaging', 'packed', 'packs', 'pact', 'padded', 'pages', 'paid', 'pain', 'painful', 'painkiller', 'painkillers', 'painless', 'painted', 'painting', 'paints', 'pairs', 'pakistan', 'pal', 'palliative', 'palsy', 'panacea', 'panamanian', 'panasonic', 'pancreatic', 'pandemic', 'panel', 'panic', 'panned', 'paper', 'paradox', 'paralympics', 'paralysis', 'paralysislike', 'paralyzed', 'paramedic', 'paramedicine', 'paramedics', 'paraplegics', 'parasites', 'parental', 'parenting', 'parents', 'parking', 'parkinsons', 'parkour', 'parks', 'parliament', 'parrott', 'parsonsprompted', 'participants', 'parties', 'partly', 'partner', 'partners', 'parts', 'passage', 'passenger', 'passengers', 'passes', 'past', 'patches', 'patchwork', 'patent', 'patented', 'patenting', 'patents', 'path', 'pathogen', 'pathogens', 'patience', 'patient', 'patients', 'patio', 'patios', 'patrons', 'patterns', 'pause', 'pay', 'paying', 'payment', 'payments', 'payoff', 'payout', 'pays', 'pdakinhealth', 'peace', 'peaceful', 'peaks', 'peanut', 'peanutallergic', 'peanuts', 'pediatric', 'pediatrician', 'pediatricians', 'pedophiles', 'pee', 'peeking', 'peel', 'peer', 'peers', 'pei', 'pelvic', 'pemphigoid', 'pen', 'pendants', 'penis', 'penny', 'pens', 'people', 'peoples', 'pepsi', 'per', 'percent', 'perception', 'perfect', 'perform', 'performance', 'performed', 'performs', 'perhaps', 'perilous', 'period', 'permanently', 'permission', 'permits', 'perpetual', 'perry', 'persist', 'persistent', 'persists', 'person', 'personal', 'personalized', 'personnel', 'personnelle', 'persons', 'perspective', 'persuasive', 'pervasive', 'pesticide', 'pet', 'peter', 'petermansbridge', 'peterpanlive', 'peters', 'petition', 'pets', 'pfizer', 'ph', 'phac', 'phacgc', 'phacs', 'pham', 'pharmacare', 'pharmacies', 'pharmacist', 'pharmacists', 'pharmacy', 'pharmacybrand', 'pharmas', 'pharmasave', 'phase', 'phased', 'philippines', 'philips', 'phone', 'phones', 'phosphine', 'photo', 'photos', 'phthalates', 'physical', 'physician', 'physicians', 'physiology', 'pick', 'picked', 'picks', 'picture', 'piece', 'pig', 'pilgrims', 'pill', 'pills', 'pilot', 'pilots', 'pink', 'pioneer', 'pioneering', 'pitch', 'pitched', 'pizza', 'place', 'placebos', 'placed', 'placentas', 'places', 'placing', 'plague', 'plagued', 'plagueinfected', 'plain', 'plan', 'plane', 'planned', 'planners', 'planning', 'plans', 'plant', 'plants', 'plasma', 'plastic', 'play', 'playbook', 'player', 'players', 'playgrounds', 'playing', 'plays', 'plea', 'pleads', 'pleased', 'pledge', 'pledges', 'plentiful', 'plight', 'plosone', 'plummets', 'pm', 'pms', 'pneumonia', 'pocket', 'pods', 'points', 'poison', 'poisoning', 'poisonings', 'polar', 'pole', 'police', 'policy', 'polio', 'poliofree', 'poliolike', 'political', 'politicalactivity', 'politicians', 'politics', 'poll', 'pollen', 'pollutant', 'pollutants', 'polluted', 'pollution', 'ponders', 'ponds', 'pool', 'poop', 'poor', 'poorer', 'poorest', 'poorly', 'pop', 'popowich', 'popular', 'popularity', 'population', 'populations', 'porn', 'pornography', 'pose', 'posed', 'poses', 'posing', 'positions', 'positive', 'possible', 'possibly', 'post', 'postantibiotic', 'postconcussion', 'posters', 'posthigh', 'posthumous', 'posting', 'postmortem', 'postpartum', 'posts', 'postsecondary', 'postsurgery', 'posture', 'pot', 'potato', 'potent', 'potential', 'potentially', 'pots', 'poultry', 'pound', 'poverty', 'powder', 'powdered', 'power', 'powerful', 'powerhouse', 'pox', 'ppl', 'practice', 'practising', 'practitioners', 'prague', 'praises', 'prebiotic', 'precaution', 'precautions', 'precedentsetting', 'precious', 'precisely', 'precision', 'predict', 'predicted', 'predicting', 'predictive', 'predicts', 'preeclampsia', 'preemie', 'preemies', 'preferred', 'pregnancy', 'pregnant', 'preinvasive', 'prejudice', 'premature', 'prematurely', 'premier', 'premiere', 'premiers', 'premium', 'prenatal', 'prep', 'preparations', 'prepare', 'prepared', 'preparedeness', 'prepares', 'prepping', 'pres', 'preschool', 'preschoolers', 'prescribe', 'prescribed', 'prescribing', 'prescription', 'prescriptions', 'present', 'presented', 'preservative', 'preserved', 'president', 'presidential', 'presidents', 'press', 'pressing', 'pressure', 'pressuring', 'prestigious', 'presume', 'prevalent', 'prevent', 'preventable', 'preventative', 'prevented', 'preventing', 'prevention', 'preventive', 'previously', 'price', 'prices', 'pricing', 'priest', 'primary', 'prime', 'prince', 'printed', 'printer', 'printers', 'printing', 'prior', 'priority', 'prism', 'prison', 'prisoners', 'privacy', 'private', 'privatizing', 'prize', 'prizes', 'pro', 'proanorexia', 'probably', 'probe', 'probed', 'probes', 'probiotics', 'probl', 'problem', 'problems', 'procedure', 'procedures', 'process', 'prochoice', 'produce', 'producing', 'product', 'production', 'productivity', 'products', 'prof', 'profession', 'professionals', 'professor', 'profile', 'profit', 'profs', 'progeria', 'progesterone', 'program', 'programs', 'progress', 'prohibition', 'project', 'projections', 'projects', 'prom', 'promiscuous', 'promise', 'promised', 'promising', 'promote', 'promotes', 'promoting', 'promotion', 'prompt', 'prompting', 'prompts', 'prone', 'proof', 'proper', 'properly', 'property', 'propofol', 'proposal', 'propose', 'proposed', 'proposes', 'proposing', 'pros', 'prosecute', 'prospects', 'prostate', 'prosthetic', 'prostitution', 'protect', 'protected', 'protecting', 'protection', 'protections', 'protective', 'protest', 'protesters', 'protesting', 'protocol', 'proton', 'prototype', 'prove', 'proven', 'provide', 'provider', 'providers', 'provides', 'province', 'provinces', 'provincewide', 'provincial', 'provoke', 'psa', 'psoriasis', 'psstnightshiftmd', 'psychedelics', 'psychiatric', 'psychiatrist', 'psychiatrists', 'psychological', 'psychologist', 'psychologists', 'psychopathic', 'psychopaths', 'ptsd', 'ptsdsuffering', 'puberty', 'public', 'publications', 'publicprivate', 'publics', 'published', 'puff', 'puffers', 'pull', 'pulled', 'pulling', 'pulls', 'pump', 'pumps', 'punchline', 'punishment', 'puppy', 'purchase', 'purged', 'purple', 'push', 'pushed', 'pushes', 'pushing', 'put', 'puts', 'puzzle', 'puzzles', 'q', 'qatar', 'qeii', 'qp', 'quadriplegic', 'quadruple', 'quadrupling', 'quality', 'quantity', 'quarantine', 'quarantined', 'quarantines', 'quarantining', 'quarterbacks', 'que', 'quebec', 'quebecs', 'queens', 'quest', 'question', 'questioned', 'questions', 'queuejumping', 'quickdeploy', 'quickly', 'quiet', 'quirky', 'quit', 'quite', 'quits', 'quitting', 'r', 'r1', 'rabies', 'race', 'racism', 'radiation', 'radical', 'radio', 'radiologists', 'radon', 'rages', 'raid', 'rail', 'rain', 'rainbow', 'raise', 'raised', 'raises', 'raising', 'raitt', 'rallies', 'rally', 'ramadan', 'ramp', 'rampant', 'ramps', 'rank', 'ranked', 'ranking', 'ranks', 'rapamune', 'raped', 'rapid', 'rapidly', 'rare', 'rash', 'rasouli', 'rate', 'rates', 'rather', 'rattles', 'raw', 'rcmp', 're', 'reach', 'reached', 'reaches', 'reaching', 'reaction', 'reactions', 'reactor', 'reacts', 'read', 'readers', 'readiness', 'reads', 'ready', 'real', 'reallife', 'really', 'realtime', 'reap', 'reapply', 'reason', 'reasonably', 'reasons', 'reassigned', 'reassignment', 'reassure', 'reassuring', 'rebagliati', 'rebuilt', 'recall', 'recalled', 'recalls', 'receive', 'received', 'receives', 'receiving', 'recent', 'recession', 'reclassification', 'recognize', 'recognized', 'recommendations', 'recommended', 'recommends', 'reconsidered', 'reconstruct', 'reconstructions', 'reconstructive', 'record', 'recorded', 'recordings', 'records', 'recovering', 'recovers', 'recovery', 'recruited', 'recurrent', 'recycling', 'red', 'redesign', 'reduce', 'reduced', 'reducing', 'reduction', 'reexperience', 'refocus', 'reform', 'reforms', 'refrain', 'refuge', 'refugee', 'refusal', 'refuse', 'refused', 'refuses', 'refusing', 'regain', 'regains', 'regardless', 'regina', 'region', 'regional', 'regions', 'registration', 'registry', 'regret', 'regrets', 'regular', 'regulate', 'regulated', 'regulation', 'regulations', 'regulator', 'regulatory', 'rehab', 'rehospitalized', 'rehtaeh', 'reignites', 'reimbursed', 'rein', 'reject', 'rejected', 'rejects', 'rejoice', 'relapsed', 'related', 'relatives', 'relativesbut', 'release', 'released', 'reliable', 'relief', 'relieved', 'religious', 'remain', 'remainder', 'remaining', 'remains', 'remarkable', 'remarks', 'remedies', 'remedy', 'remedys', 'remembered', 'reminder', 'remote', 'removal', 'remove', 'removes', 'renewed', 'renews', 'renos', 'renowned', 'reopen', 'repairs', 'repealed', 'repeated', 'replacement', 'replacements', 'replay', 'reponse', 'report', 'reportage', 'reported', 'reportedly', 'reporters', 'reporting', 'reports', 'republican', 'request', 'required', 'requires', 'rescheduled', 'rescue', 'rescues', 'research', 'researcher', 'researchers', 'resembles', 'resers', 'reserve', 'reserved', 'reserves', 'reservoirs', 'reset', 'residence', 'residencies', 'residency', 'resident', 'residents', 'residue', 'resilient', 'resist', 'resistance', 'resistant', 'resolutions', 'resonates', 'resources', 'respect', 'respiratory', 'respond', 'responds', 'response', 'responses', 'responsible', 'rest', 'restaurant', 'restaurants', 'resthomes', 'restore', 'restored', 'restores', 'restricted', 'restricting', 'restriction', 'restrictions', 'results', 'resumes', 'resurfaces', 'resurgence', 'resuscitation', 'retardant', 'retention', 'rethink', 'rethinking', 'retinal', 'retire', 'retired', 'retiring', 'retrain', 'retrieval', 'return', 'returned', 'returning', 'returns', 'reunites', 'reveal', 'revealed', 'reveals', 'reverse', 'reverses', 'review', 'reviewed', 'reviews', 'revisited', 'revival', 'revived', 'revolution', 'revolutionize', 'revolutionized', 'rewalk', 'rheumatic', 'rheumatoid', 'ri', 'rich', 'richard', 'richardzussman', 'rickets', 'rid', 'ride', 'rideon', 'rides', 'riding', 'rife', 'rift', 'right', 'rights', 'righttodie', 'rigorously', 'rink', 'rinse', 'ripoff', 'rise', 'rises', 'rishiraj', 'rising', 'risk', 'riskier', 'risks', 'riskseeking', 'risky', 'rita', 'ritalin', 'rival', 'rivard', 'river', 'road', 'roadblock', 'roasted', 'rob', 'robert', 'robin', 'robot', 'robotics', 'robots', 'robyn', 'rock', 'rocks', 'rockslide', 'role', 'rolls', 'romanow', 'romidepsin', 'roméo', 'ron', 'rona', 'room', 'roommates', 'rooms', 'root', 'rose', 'ross', 'rotavirus', 'rouge', 'rough', 'rounding', 'rounds', 'routine', 'routinely', 'roy', 'royal', 'royalcollege', 'rt', 'ruined', 'rule', 'ruled', 'rules', 'ruling', 'run', 'runner', 'runners', 'running', 'runs', 'rural', 'rushes', 'russia', 'russian', 'ruttan', 'rx', 'rylee', 'réunion', 's', 'saanich', 'sabra', 'sacked', 'sad', 'saddles', 'sadness', 'safe', 'safecooking', 'safely', 'safemeduse', 'safer', 'safety', 'safeway', 'safflower', 'said', 'saint', 'salad', 'saladoxford', 'salaried', 'sale', 'sales', 'salespeople', 'salia', 'salim', 'salmon', 'salmonella', 'salons', 'salt', 'salty', 'same', 'sample', 'samples', 'sanaz', 'sanctioned', 'sandwich', 'sanitation', 'sanitizer', 'santa', 'sarah', 'sars', 'sarslike', 'sarsrelated', 'sask', 'saskatchewan', 'saskatoon', 'saskatoons', 'sasks', 'sat', 'satisfied', 'saturated', 'saudi', 'saudia', 'saudiarabia', 'saudis', 'sault', 'saults', 'sausage', 'sauvageau', 'save', 'saved', 'saves', 'savethechildre', 'saving', 'saw', 'say', 'says', 'sbheart', 'scaffolds', 'scale', 'scaled', 'scaleup', 'scaling', 'scan', 'scandal', 'scanner', 'scans', 'scare', 'scared', 'scares', 'scarred', 'scars', 'scary', 'schedules', 'scheme', 'schizophrenia', 'schizophrenic', 'schizphorenia', 'schlesinger', 'school', 'schoolchildren', 'schoolmate', 'schools', 'schuchat', 'schumacher', 'science', 'sciencebased', 'scientific', 'scientist', 'scientists', 'scolded', 'scoliosis', 'scorecard', 'scotia', 'scotland', 'scott', 'scottish', 'scotts', 'scour', 'scrambling', 'screaming', 'screen', 'screened', 'screening', 'screenings', 'screens', 'scroweunicef', 'scrutiny', 'scullion', 'seafood', 'seal', 'sealed', 'search', 'sears', 'season', 'seasonal', 'seat', 'second', 'secondary', 'seconds', 'secret', 'secretary', 'secretly', 'secrets', 'sector', 'security', 'sedation', 'sedative', 'sedentary', 'see', 'seed', 'seeds', 'seeing', 'seek', 'seeks', 'seem', 'seemed', 'seems', 'seen', 'sees', 'seize', 'seizure', 'seizures', 'selenium', 'selfharm', 'selfharming', 'selfie', 'selfimposed', 'selfinflicted', 'selfisolating', 'selfmedication', 'selfmonitoring', 'sell', 'seller', 'selling', 'sells', 'semple', 'senate', 'senator', 'senators', 'send', 'sending', 'sends', 'senegal', 'senior', 'seniors', 'seniorscare', 'sensation', 'sense', 'sensitive', 'sensitivity', 'sensory', 'sent', 'sentence', 'sentenced', 'separate', 'sepsis', 'sept', 'september', 'sequenced', 'sequencing', 'serge', 'serious', 'seriously', 'servants', 'serve', 'service', 'services', 'serving', 'sesame', 'session', 'sessions', 'set', 'setback', 'sets', 'setting', 'settle', 'settlement', 'settles', 'several', 'severe', 'severed', 'severely', 'severity', 'sex', 'sexed', 'sexting', 'sexual', 'sexually', 'sexy', 'sgi', 'sh', 'shadow', 'shadows', 'shakes', 'shaky', 'shaping', 'share', 'shares', 'sharing', 'sharon', 'sharply', 'she', 'sheardowns', 'shed', 'sheds', 'sheets', 'sheik', 'shelf', 'shelter', 'shelves', 'sherbrooke', 'shift', 'shifts', 'shimi', 'shines', 'ship', 'shipment', 'ships', 'shock', 'shocked', 'shocker', 'shocking', 'shockwaves', 'shoes', 'shoot', 'shooting', 'shop', 'shoppers', 'shopping', 'shops', 'short', 'shortage', 'shortages', 'shorter', 'shortterm', 'shot', 'shots', 'should', 'shouldnt', 'shovel', 'shovelling', 'show', 'showdown', 'showed', 'showing', 'shown', 'shows', 'shredding', 'shrink', 'shriver', 'shunned', 'shut', 'shutdown', 'shuts', 'sibling', 'sick', 'sickest', 'sickkids', 'sickness', 'side', 'sideeffect', 'sideeffects', 'siege', 'sierra', 'sierraleone', 'sign', 'signal', 'signalled', 'signals', 'significant', 'signs', 'silence', 'silicone', 'silvas', 'silver', 'similar', 'simple', 'simpler', 'since', 'sinclair', 'sinclairs', 'single', 'sirleaf', 'sister', 'sisters', 'sit', 'site', 'sites', 'sitting', 'six', 'size', 'sized', 'skating', 'ski', 'skilled', 'skills', 'skin', 'skinny', 'skintoskin', 'skip', 'skipping', 'skirts', 'sky', 'skyhigh', 'skype', 'sl', 'slack', 'slackers', 'slacktivism', 'slain', 'slammed', 'slams', 'slapping', 'slash', 'sleep', 'sleeping', 'sleepio', 'slender', 'slight', 'slightly', 'slip', 'slouching', 'slow', 'slowdown', 'slower', 'slowing', 'slowly', 'slum', 'slumberstarved', 'slumping', 'small', 'smaller', 'smallest', 'smallpox', 'smart', 'smartphone', 'smartphones', 'smith', 'smiths', 'smog', 'smoke', 'smokefree', 'smokers', 'smokes', 'smoking', 'smokingrelated', 'smokings', 'snack', 'snacks', 'sneeze', 'sniff', 'sniffed', 'sniffle', 'snooze', 'snow', 'snowboarder', 'so', 'soap', 'soaring', 'soars', 'sober', 'soccer', 'social', 'socializing', 'socialmedia', 'society', 'sociopath', 'soda', 'sodium', 'soft', 'softdrink', 'softeners', 'software', 'sold', 'soldier', 'soldiers', 'solution', 'solutions', 'solve', 'solved', 'some', 'someone', 'something', 'sometimes', 'son', 'sons', 'soon', 'soothe', 'sophiaharriscbc', 'sorrows', 'sorry', 'sought', 'soup', 'source', 'sources', 'sourdough', 'south', 'southern', 'soy', 'spa', 'span', 'spanish', 'spare', 'sparing', 'spark', 'sparked', 'sparks', 'spat', 'spays', 'speak', 'speaks', 'spearheads', 'special', 'specialist', 'specialists', 'specialty', 'specific', 'specs', 'spectacular', 'sped', 'speech', 'speed', 'speeds', 'spencer', 'spend', 'spending', 'spends', 'spent', 'sperm', 'spices', 'spike', 'spinal', 'spine', 'spines', 'spinoff', 'spirit', 'split', 'spokeswoman', 'sponges', 'sponsored', 'spoogles', 'spooked', 'spoon', 'sport', 'sports', 'spot', 'spotlight', 'spots', 'spray', 'sprays', 'spread', 'spreading', 'spreads', 'spree', 'spring', 'springs', 'sprouted', 'spur', 'spurs', 'squandering', 'squeal', 'squid', 'squirrel', 'st', 'stable', 'staff', 'staffers', 'staffing', 'stageplay', 'stages', 'staggering', 'stake', 'stall', 'stalled', 'stampeders', 'stan', 'stance', 'stand', 'standard', 'standards', 'stands', 'stanley', 'star', 'starbucks', 'staring', 'stars', 'start', 'starter', 'starting', 'starts', 'startstop', 'state', 'statement', 'states', 'stather', 'statin', 'statins', 'station', 'statistics', 'stats', 'statscan', 'status', 'stay', 'staycation', 'stayed', 'staying', 'stays', 'std', 'steady', 'steep', 'steeped', 'steers', 'stem', 'stents', 'step', 'stephen', 'stephenbhall', 'stephjenzer', 'stepped', 'stepping', 'steps', 'sterigenics', 'sterilization', 'steroid', 'steroids', 'steven', 'steveubc', 'stevie', 'stewart', 'sti', 'sticking', 'stickley', 'stiff', 'stigma', 'still', 'stir', 'stirred', 'stis', 'stitcher', 'stockpiling', 'stoke', 'stolen', 'stomach', 'stomaches', 'stool', 'stop', 'stopped', 'storage', 'store', 'stores', 'stories', 'storm', 'story', 'storyteller', 'stossel', 'stpierremiquelon', 'straight', 'strain', 'strained', 'strains', 'stranded', 'strangers', 'strangulation', 'strategies', 'strategy', 'stratford', 'streamlines', 'street', 'streets', 'strength', 'strep', 'streptococcus', 'stress', 'stressed', 'stresses', 'stretched', 'stretcher', 'strict', 'stride', 'strike', 'strikes', 'strips', 'stroke', 'strokes', 'strollers', 'strong', 'stronger', 'strongly', 'struck', 'strug', 'struggle', 'struggled', 'struggles', 'struggling', 'stthomas', 'stubbed', 'stuck', 'stud', 'student', 'students', 'studie', 'studied', 'studies', 'study', 'stymied', 'suarez', 'subject', 'sublime', 'submissions', 'subsidy', 'substance', 'substandard', 'substantial', 'substitute', 'subway', 'success', 'successes', 'successful', 'successfully', 'sucks', 'sudbury', 'sue', 'sued', 'sues', 'suffer', 'sufferers', 'suffering', 'suffers', 'sugar', 'sugars', 'sugary', 'suggest', 'suggested', 'suggestions', 'suggests', 'suicide', 'suicideprevention', 'suicides', 'suing', 'suit', 'suitable', 'suits', 'sum', 'summary', 'summer', 'summers', 'summit', 'sunday', 'sunflower', 'sunnybrook', 'sunscreen', 'super', 'superbug', 'superbugs', 'superheroes', 'supermarket', 'superskinny', 'supervised', 'supper', 'supplement', 'supplements', 'supplier', 'supplies', 'supply', 'support', 'supported', 'supporters', 'supporting', 'supports', 'suppresses', 'suppression', 'supreme', 'sure', 'surfaces', 'surge', 'surgeon', 'surgeon1', 'surgeons', 'surgeries', 'surgery', 'surgical', 'surpassed', 'surprise', 'surprises', 'surprising', 'surrey', 'surveillance', 'survey', 'surveyed', 'survival', 'survive', 'survived', 'survives', 'surviving', 'survivor', 'survivors', 'susanamas', 'suspected', 'suspects', 'suspend', 'suspended', 'suspends', 'suspensions', 'sustainably', 'sutent', 'suv', 'swaddling', 'swap', 'sweden', 'swedish', 'sweet', 'sweeteners', 'swim', 'swirl', 'swiss', 'switch', 'switzerland', 'sydney', 'symptomatic', 'symptoms', 'synch', 'syncytial', 'syndrome', 'syphilis', 'syria', 'syrians', 'syrias', 'syrup', 'system', 'systems', 't', 'table', 'tabled', 'tablet', 'tablets', 'tabling', 'tackle', 'tackles', 'tackling', 'tactic', 'tag', 'tailor', 'tainted', 'taiwan', 'take', 'takeda', 'takehome', 'taken', 'takeover', 'takes', 'taking', 'tale', 'talenttech', 'taliban', 'talk', 'talking', 'talks', 'tall', 'taller', 'tamiflu', 'tamiflus', 'tammys', 'tampered', 'tampering', 'tango', 'tanning', 'tap', 'tape', 'target', 'targeted', 'targeting', 'targets', 'tashan', 'task', 'taste', 'tastes', 'tattoo', 'tattooremoval', 'tattoos', 'tax', 'taxis', 'tb', 'te', 'tea', 'teach', 'teacher', 'teachers', 'teaching', 'team', 'teams', 'teamwork', 'tearful', 'tears', 'teaspoon', 'tech', 'technician', 'technique', 'technology', 'teen', 'teenager', 'teens', 'teeth', 'teicholz', 'tekmira', 'telepsychiatry', 'tell', 'telling', 'tells', 'telzir', 'temper', 'temperature', 'temperatures', 'temple', 'templeton', 'temporary', 'temptations', 'ten', 'tend', 'tenderized', 'tenuous', 'tenure', 'terazol', 'term', 'terminal', 'terminally', 'terrible', 'terrifying', 'territories', 'terry', 'tesco', 'test', 'tested', 'testicle', 'testicular', 'testify', 'testifying', 'testing', 'testosterone', 'tests', 'texas', 'text', 'texting', 'texts', 'thailand', 'thalidomide', 'than', 'thankful', 'thanks', 'that', 'thats', 'the', 'thecurrentcbc', 'theft', 'their', 'them', 'theme', 'themselves', 'then', 'theory', 'therapies', 'therapy', 'there', 'theres', 'theresa', 'these', 'they', 'theyre', 'things', 'think', 'thinking', 'thinks', 'thinner', 'third', 'this', 'thistlethwaite', 'thomas', 'thomasmulcair', 'thorny', 'those', 'though', 'thought', 'thousands', 'threat', 'threaten', 'threatened', 'threatens', 'threats', 'three', 'thrift', 'thrilled', 'thrive', 'thrives', 'thriving', 'throat', 'through', 'throwing', 'throws', 'thumbsucking', 'thunder', 'thwarting', 'thx', 'thymus', 'thyroid', 'tibetans', 'tickets', 'ticks', 'tied', 'tighter', 'till', 'tim', 'time', 'timely', 'times', 'tiniest', 'tink', 'tiny', 'tipproof', 'tips', 'tired', 'tissue', 'titanium', 'tkmebola', 'to', 'tobacco', 'tobogganing', 'today', 'toddler', 'toddlers', 'toenail', 'together', 'toilet', 'told', 'toledo', 'toll', 'tom', 'tomorrow', 'ton', 'tongue', 'tonight', 'tons', 'too', 'took', 'tool', 'tools', 'tooth', 'toothpaste', 'top', 'topic', 'tops', 'torcolacci', 'tories', 'torn', 'toronto', 'torontofhc', 'torontos', 'tory', 'total', 'totally', 'tots', 'touch', 'touched', 'touches', 'tough', 'tougher', 'tour', 'tourists', 'tours', 'tout', 'touted', 'touts', 'toward', 'towards', 'town', 'towns', 'toxic', 'toxin', 'toy', 'toys', 'tplfoundation', 'trace', 'traced', 'traces', 'track', 'tracked', 'tracker', 'tracking', 'tracks', 'trade', 'trademark', 'traditional', 'traffic', 'tragedy', 'train', 'trained', 'training', 'trains', 'trampoline', 'trampolines', 'trans', 'transfer', 'transferred', 'transfusion', 'transfusions', 'transgender', 'transit', 'transitions', 'translation', 'transmission', 'transmitted', 'transparency', 'transplant', 'transplanted', 'transplants', 'transport', 'trapped', 'trauma', 'travel', 'traveled', 'travelled', 'traveller', 'travellers', 'travelrelated', 'tre', 'trea', 'treadmills', 'treaments', 'treat', 'treated', 'treating', 'treatment', 'treatments', 'treaty', 'trek', 'trend', 'trends', 'trial', 'trials', 'tribe', 'tribute', 'trichinosis', 'trick', 'tricky', 'triclosan', 'tricorder', 'tried', 'triedandtrue', 'trigger', 'triggering', 'triggers', 'trillion', 'trillium', 'trip', 'triple', 'trismus', 'trix', 'troop', 'troops', 'trouble', 'truckstop', 'trudeau', 'true', 'truly', 'trumps', 'trust', 'truth', 'try', 'trying', 'tryout', 'tub', 'tube', 'tuberculosis', 'tubes', 'tubing', 'tuesday', 'tuktoyaktuk', 'tumour', 'tumours', 'tunisia', 'turbine', 'turbines', 'turkey', 'turn', 'turned', 'turning', 'turnoff', 'turnout', 'turns', 'turpins', 'tv', 'tvs', 'tweens', 'tweet', 'tweets', 'twice', 'twin', 'twins', 'twists', 'twitter', 'two', 'tygacil', 'tylenol', 'type', 'u', 'ubc', 'ubcs', 'ubisoft', 'ucla', 'uganda', 'uk', 'ukraines', 'ultra', 'ultraendurance', 'ultrasound', 'umar', 'umbilical', 'ummedicine', 'un', 'unacceptable', 'unaffordable', 'unapproved', 'unaware', 'unb', 'unbroken', 'uncertain', 'uncertainty', 'unclaimed', 'unclear', 'uncles', 'uncommon', 'unconscionable', 'unconstitutional', 'uncover', 'uncovered', 'uncovers', 'undead', 'under', 'underdogs', 'underestimated', 'undergo', 'undergoes', 'undermines', 'underserved', 'understand', 'understandably', 'understood', 'underwear', 'underwent', 'undetected', 'undiagnosed', 'unethical', 'unexpected', 'unexpectedly', 'unfilled', 'unfit', 'unhappy', 'unhealthy', 'uniceflive', 'uninsured', 'unintended', 'union', 'unique', 'unit', 'universal', 'universities', 'university', 'universitys', 'unknown', 'unlicensed', 'unlikely', 'unlivable', 'unlocked', 'unmoved', 'unnecessary', 'unparalleled', 'unplanned', 'unprecedented', 'unproductive', 'unprofessional', 'unprotected', 'unproven', 'unreasonable', 'unregistered', 'unrelated', 'unreported', 'unruly', 'uns', 'unsafe', 'unsanitary', 'unsuspecting', 'until', 'untold', 'untreated', 'unusual', 'unvaccinated', 'unveil', 'unveiled', 'unveils', 'unwanted', 'uoft', 'up', 'update', 'updated', 'upheld', 'uphill', 'upholds', 'upkeep', 'uploads', 'upper', 'ur', 'urban', 'urge', 'urged', 'urgent', 'urgently', 'urges', 'urinaryincontinence', 'urine', 'url', 'us', 'usbased', 'use', 'used', 'useful', 'users', 'using', 'usual', 'uterine', 'vacation', 'vaccinate', 'vaccinated', 'vaccinating', 'vaccination', 'vaccinations', 'vaccine', 'vaccinefree', 'vaccinerelated', 'vaccines', 'vaginal', 'vaginally', 'vaginas', 'valeant', 'valentines', 'valley', 'values', 'valve', 'vancouver', 'vanessas', 'vani', 'vanier', 'vanity', 'vanstone', 'vaping', 'vapour', 'vapourizing', 'variants', 'varied', 'varies', 'vary', 'vastly', 'veers', 'vega', 'vegan', 'vegans', 'vegas', 'vegetables', 'vegetative', 'veggies', 'vehicle', 'vein', 'venezuela', 'vera', 'verdict', 'verify', 'verifying', 'vermont', 'vertex', 'vertigo', 'very', 'vesicle', 'vet', 'veta', 'veteran', 'veterans', 'vets', 'vgh', 'via', 'viable', 'viagra', 'vials', 'victim', 'victims', 'vid', 'video', 'videos', 'vietnam', 'vietnamese', 'view', 'viewed', 'viewers', 'views', 'villages', 'vinson', 'violations', 'violence', 'violent', 'viral', 'virginia', 'virtual', 'virtuous', 'virus', 'virusfree', 'viruss', 'visa', 'visas', 'vision', 'visit', 'visited', 'visiting', 'visitors', 'visits', 'visually', 'vital', 'vitale', 'vitalité', 'vitamin', 'vitd', 'vitro', 'vodka', 'voices', 'void', 'voluntarily', 'voluntary', 'volunteer', 'volunteers', 'vortex', 'vote', 'voters', 'votes', 'vows', 'vs', 'vtncanada', 'vulnerability', 'vulnerable', 'vyssa', 'w', 'wafrica', 'wage', 'waistlines', 'wait', 'waited', 'waiting', 'waitlists', 'waits', 'wakeup', 'walczaks', 'walk', 'walken', 'walking', 'walks', 'wall', 'walmart', 'wander', 'want', 'wants', 'wanuskewin', 'war', 'ward', 'warehoused', 'warm', 'warms', 'warmweather', 'warn', 'warned', 'warner', 'warning', 'warnings', 'warns', 'warranted', 'warranty', 'wary', 'was', 'wash', 'washing', 'washington', 'wasnt', 'waspsting', 'waste', 'wasted', 'watch', 'watchdog', 'watchers', 'watches', 'watching', 'water', 'watercolours', 'watering', 'waterloo', 'way', 'ways', 'wcba', 'we', 'weak', 'weaknesses', 'weapons', 'wear', 'wearable', 'wearers', 'wearing', 'weather', 'web', 'webcast', 'website', 'websites', 'wed', 'wednesday', 'week', 'weekend', 'weeks', 'weigh', 'weighs', 'weight', 'weightloss', 'wel', 'welcomed', 'welcomes', 'welcoming', 'welfare', 'well', 'wellbeing', 'wellbutrin', 'went', 'were', 'west', 'western', 'wests', 'weve', 'wh', 'whammy', 'what', 'whats', 'whatsoever', 'wheat', 'wheel', 'wheelchair', 'wheelchairs', 'when', 'where', 'whether', 'while', 'whitaker', 'white', 'whitehorse', 'whitehouse', 'who', 'whoeurope', 'whole', 'whooping', 'whos', 'whose', 'whoyouknow', 'why', 'widely', 'widespread', 'widow', 'wife', 'wifes', 'wig', 'wikipedias', 'wild', 'wildfire', 'wildfires', 'will', 'william', 'williams', 'williamss', 'willing', 'win', 'wind', 'windpipe', 'windsor', 'windsoressex', 'wine', 'wink', 'winner', 'winnipeg', 'winnipegarea', 'winnipeggers', 'winnipegs', 'wins', 'winter', 'wipe', 'wipes', 'wireless', 'wishes', 'with', 'withdrawal', 'within', 'without', 'wives', 'wkend', 'woes', 'wolfville', 'woman', 'womans', 'womb', 'wombs', 'women', 'womens', 'won', 'wonder', 'wont', 'wood', 'woodstock', 'word', 'work', 'worker', 'workers', 'workforce', 'working', 'worklife', 'workout', 'workouts', 'workplace', 'workplaces', 'works', 'workshop', 'world', 'worldclass', 'worlds', 'worldwide', 'worried', 'worries', 'worry', 'worrying', 'worse', 'worsen', 'worsened', 'worsening', 'worsens', 'worst', 'worstever', 'would', 'wouldbe', 'wound', 'wounded', 'woundedwarriors', 'wounding', 'wounds', 'wrap', 'wrha', 'write', 'writebol', 'writing', 'wrong', 'wrongdoing', 'wyatt', 'wynne', 'xeloda', 'xl', 'xray', 'xrays', 'yael', 'yasmin', 'yatesey', 'yaz', 'year', 'years', 'yearslong', 'yellowknife', 'yellowknifes', 'yes', 'yesterday', 'yet', 'yield', 'yields', 'ymca', 'yoga', 'yogurt', 'yong', 'yonifreedhoff', 'york', 'yorks', 'you', 'youll', 'young', 'younger', 'your', 'yourself', 'youth', 'youths', 'youtube', 'youve', 'yr', 'yrs', 'yukon', 'yup', 'yusuf', 'zamboni', 'zealand', 'zebrafish', 'zero', 'ziad', 'zithromax', 'zmapp', 'zombies', 'zone', 'zopiclone', 'éric']\n"
     ]
    }
   ],
   "source": [
    "#removing duplicate words by using sets\n",
    "uniqueWords = list(set(allWords))\n",
    "# To perform binary search the data should be sorted. \n",
    "# We can use the quickSort algorithm that we have implemented above\n",
    "sortResult,time_taken =  quickSort(uniqueWords)\n",
    "print(sortResult)"
   ]
  },
  {
   "cell_type": "code",
   "execution_count": 10,
   "metadata": {},
   "outputs": [],
   "source": [
    "#Implementing binary search \n",
    "def binary_search(arr, n):\n",
    "    low = 0\n",
    "    high = len(arr) - 1\n",
    "    mid = 0\n",
    " \n",
    "    while low <= high:\n",
    " \n",
    "        mid = (high + low) // 2\n",
    " \n",
    "        # If n is greater, ignore left half\n",
    "        if arr[mid] < n:\n",
    "            low = mid + 1\n",
    " \n",
    "        # If n is smaller, ignore right half\n",
    "        elif arr[mid] > n:\n",
    "            high = mid - 1\n",
    " \n",
    "        # means n is present at mid\n",
    "        else:\n",
    "            return mid\n",
    " \n",
    "    # If we reach here, then the element was not present\n",
    "    return -1"
   ]
  },
  {
   "cell_type": "code",
   "execution_count": 11,
   "metadata": {},
   "outputs": [
    {
     "name": "stdout",
     "output_type": "stream",
     "text": [
      "Enter a word to search: Farm\n",
      "farm found in sorted list at index: 2505\n",
      "\n",
      "Tweets containing the word: farm\n",
      "avian flu confirmed on turkey farm near woodstock \n",
      "avoid promoting antibiotics in farm animals fda asks \n"
     ]
    }
   ],
   "source": [
    "# main funtion to find the word in tweets\n",
    "def findWord(inputWord):\n",
    "    #calling binary search for finding the word\n",
    "    foundIndex = binary_search(sortResult,inputWord)\n",
    "    #if we find the word we display the tweets where the word can be found \n",
    "    if foundIndex != -1:\n",
    "        print(f\"{inputWord} found in sorted list at index: {foundIndex}\\n\")\n",
    "        #printing the tweet where the word is found\n",
    "        print(f\"Tweets containing the word: {inputWord}\")\n",
    "        tweetIndexs = wordToTweets[inputWord]\n",
    "        for value in tweetIndexs:\n",
    "            print(tweets[value])\n",
    "    else:\n",
    "        print(\"No Word found\")\n",
    "#converting user input into lower, so word can be searched even it's given in the upper case\n",
    "inputWord = input(\"Enter a word to search: \").lower()\n",
    "#case 1\n",
    "findWord(inputWord)"
   ]
  },
  {
   "cell_type": "code",
   "execution_count": 12,
   "metadata": {},
   "outputs": [
    {
     "name": "stdout",
     "output_type": "stream",
     "text": [
      "Enter a word to search: work\n",
      "work found in sorted list at index: 7126\n",
      "\n",
      "Tweets containing the word: work\n",
      "newborn eye drop treatment doesnt work say pediatricians who want law repealed \n",
      "coke a good snack health experts who work with coke say so \n",
      "canadian honoured for work that may yield truly miraculous cures \n",
      "we cant conclude that the drugs work who says as ebola treatment survey begins \n",
      "rt nightshiftmd could donut tax work \n",
      "ebola volunteer work not for everybody canadian doctor says \n",
      "2 apple medical trials to shed light on how healthkit will work \n",
      "christiane farazlis endoscopy work called abusive unconscionable \n",
      "ottawa doctor faces disciplinary hearing over unsanitary work \n",
      "maternal health programs cost billions with little proof strategies work un \n",
      "migraines affect canadians sleep driving and work \n",
      "vaccinations are proven to work melinda gates stephen harper \n",
      "rob fords work calls from rehab a nono experts say \n",
      "china pollution is so bad panasonic pays extra for work there \n",
      "rt cbcerica do cleanses really work  cbctom tests the hype tonight on cbcmarketplace  8830p\n",
      "h5n1 death detective work by who begins in alberta case \n",
      "casual work linked to childlessness by 35 \n",
      "concussion guide for adults focuses on return to work \n",
      "ecigarettes may work as well as nicotine patches \n",
      "saudi coronavirus work stymied at canadian lab \n"
     ]
    }
   ],
   "source": [
    "#case2\n",
    "inputWord = input(\"Enter a word to search: \").lower()\n",
    "findWord(inputWord)"
   ]
  },
  {
   "cell_type": "code",
   "execution_count": 13,
   "metadata": {},
   "outputs": [
    {
     "name": "stdout",
     "output_type": "stream",
     "text": [
      "Enter a word to search: hari\n",
      "No Word found\n"
     ]
    }
   ],
   "source": [
    "#case3\n",
    "inputWord = input(\"Enter a word to search: \").lower()\n",
    "findWord(inputWord)"
   ]
  },
  {
   "cell_type": "markdown",
   "metadata": {},
   "source": [
    "3. you need to create a random array of size 100 (numbers of array should be between 0-10). You need to sort this array according to the frequency of occurance of each number.\n",
    "\n",
    "    You are free to choose any sorting algorithm."
   ]
  },
  {
   "cell_type": "code",
   "execution_count": 14,
   "metadata": {},
   "outputs": [
    {
     "name": "stdout",
     "output_type": "stream",
     "text": [
      "[3, 2, 5, 6, 4, 2, 10, 10, 10, 7, 5, 9, 10, 1, 10, 8, 10, 10, 4, 9, 3, 7, 3, 3, 6, 2, 9, 2, 2, 8, 2, 9, 10, 10, 3, 9, 5, 3, 10, 4, 1, 10, 2, 3, 9, 8, 5, 9, 9, 4, 3, 3, 2, 6, 2, 8, 7, 6, 5, 4, 7, 4, 9, 2, 5, 4, 8, 5, 8, 9, 9, 2, 4, 10, 6, 2, 10, 4, 8, 5, 5, 8, 2, 4, 3, 9, 1, 9, 2, 9, 9, 7, 6, 8, 4, 6, 1, 5, 6, 3]\n"
     ]
    }
   ],
   "source": [
    "#creating a random array of size 100 with numbers between 0-10\n",
    "import random\n",
    "array = [random.randint(1,10) for i in range(100)]\n",
    "print(array)"
   ]
  },
  {
   "cell_type": "code",
   "execution_count": 15,
   "metadata": {},
   "outputs": [],
   "source": [
    "#implementing the sort according to the frequency of occurance of each number\n",
    "def sortByFrequency(sorted_array):\n",
    "    frequency = {}\n",
    "    \n",
    "    # Performing this intial sort by value so that if any values are of equal frequency it will be sorted by value\n",
    "    # Using the quickSort algorithm that we have implemented above\n",
    "    sortedByValue,res_time = quickSort(array)\n",
    "    \n",
    "    # for each array element, insert into the dictionary and count its frequency\n",
    "    for number in sortedByValue:\n",
    "        if number in frequency:\n",
    "            frequency[number] += 1\n",
    "        else:\n",
    "            frequency[number] = 1\n",
    "    print('frequency: ', frequency)\n",
    "\n",
    "    #create a dictionary with frequency as key and numbers as the values\n",
    "    #use lists in dictionary values to store multiple number which can have same frequency\n",
    "    #keys become values and values becomes keys from frequency dictionary\n",
    "    frequencyAsKey = {}\n",
    "    for key, value in frequency.items():\n",
    "        if value in frequencyAsKey:\n",
    "            frequencyAsKey[value].append(key)\n",
    "        else:\n",
    "            frequencyAsKey[value]=[key]\n",
    "    print(\"frequencyAsKey: \",frequencyAsKey,end=\"\\n\\n\")\n",
    "    \n",
    "    #get all keys\n",
    "    keys = list(frequencyAsKey.keys())\n",
    "    # Using the quickSort algorithm that we have implemented above to sort the keys. keys the frequency\n",
    "    keys_sorted,res_time = quickSort(keys)\n",
    "    #reverse the array so it takes the higest frequency first\n",
    "    sortedFrequencyKeys = keys_sorted[::-1]\n",
    "    \n",
    "    #building the sorted by frequency array from the sorted keys\n",
    "    sortedByFrequency = []\n",
    "    for key in sortedFrequencyKeys:\n",
    "        numbers = frequencyAsKey[key]\n",
    "        for number in numbers:\n",
    "            for time in range(key):\n",
    "                sortedByFrequency.append(number)\n",
    "    # returning the final sort By Frequency array\n",
    "    return sortedByFrequency"
   ]
  },
  {
   "cell_type": "code",
   "execution_count": 16,
   "metadata": {},
   "outputs": [
    {
     "name": "stdout",
     "output_type": "stream",
     "text": [
      "Input Array:  [3, 2, 5, 6, 4, 2, 10, 10, 10, 7, 5, 9, 10, 1, 10, 8, 10, 10, 4, 9, 3, 7, 3, 3, 6, 2, 9, 2, 2, 8, 2, 9, 10, 10, 3, 9, 5, 3, 10, 4, 1, 10, 2, 3, 9, 8, 5, 9, 9, 4, 3, 3, 2, 6, 2, 8, 7, 6, 5, 4, 7, 4, 9, 2, 5, 4, 8, 5, 8, 9, 9, 2, 4, 10, 6, 2, 10, 4, 8, 5, 5, 8, 2, 4, 3, 9, 1, 9, 2, 9, 9, 7, 6, 8, 4, 6, 1, 5, 6, 3]\n",
      "\n",
      "frequency:  {1: 4, 2: 14, 3: 11, 4: 11, 5: 10, 6: 8, 7: 5, 8: 9, 9: 15, 10: 13}\n",
      "frequencyAsKey:  {4: [1], 14: [2], 11: [3, 4], 10: [5], 8: [6], 5: [7], 9: [8], 15: [9], 13: [10]}\n",
      "\n",
      "Output Array:  [9, 9, 9, 9, 9, 9, 9, 9, 9, 9, 9, 9, 9, 9, 9, 2, 2, 2, 2, 2, 2, 2, 2, 2, 2, 2, 2, 2, 2, 10, 10, 10, 10, 10, 10, 10, 10, 10, 10, 10, 10, 10, 3, 3, 3, 3, 3, 3, 3, 3, 3, 3, 3, 4, 4, 4, 4, 4, 4, 4, 4, 4, 4, 4, 5, 5, 5, 5, 5, 5, 5, 5, 5, 5, 8, 8, 8, 8, 8, 8, 8, 8, 8, 6, 6, 6, 6, 6, 6, 6, 6, 7, 7, 7, 7, 7, 1, 1, 1, 1]\n"
     ]
    }
   ],
   "source": [
    "print(\"Input Array: \",array,  end=\"\\n\\n\")\n",
    "print(\"Output Array: \",sortByFrequency(array))"
   ]
  },
  {
   "cell_type": "code",
   "execution_count": null,
   "metadata": {},
   "outputs": [],
   "source": []
  }
 ],
 "metadata": {
  "kernelspec": {
   "display_name": "Python 3",
   "language": "python",
   "name": "python3"
  },
  "language_info": {
   "codemirror_mode": {
    "name": "ipython",
    "version": 3
   },
   "file_extension": ".py",
   "mimetype": "text/x-python",
   "name": "python",
   "nbconvert_exporter": "python",
   "pygments_lexer": "ipython3",
   "version": "3.7.6"
  }
 },
 "nbformat": 4,
 "nbformat_minor": 4
}
