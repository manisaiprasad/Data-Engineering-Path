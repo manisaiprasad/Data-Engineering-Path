{
 "cells": [
  {
   "cell_type": "markdown",
   "metadata": {},
   "source": [
    "1. Read an input string from user and check whether it is a palindrome or not using the stack data structure (1 mark)."
   ]
  },
  {
   "cell_type": "code",
   "execution_count": 6,
   "metadata": {},
   "outputs": [
    {
     "name": "stdout",
     "output_type": "stream",
     "text": [
      "Enter a string: madam\n",
      "Palindrome\n"
     ]
    }
   ],
   "source": [
    "#Implementing a simple stack data structure with push and pop methods\n",
    "class Stack:\n",
    "    def __init__(self):\n",
    "        self.stack = []\n",
    "        self.top = -1\n",
    "        \n",
    "    def push(self,value):\n",
    "        self.stack.append(value)\n",
    "        self.top += 1\n",
    "    \n",
    "    def pop(self):\n",
    "        value = self.stack.pop()\n",
    "        self.top -= 1\n",
    "        return value\n",
    "\n",
    "def palindromeOrNot(input1):\n",
    "    # creating a stack object\n",
    "    palStack = Stack()\n",
    "    \n",
    "    # adding every value into stack using the push method\n",
    "    for val in input1:\n",
    "        palStack.push(val)\n",
    "        \n",
    "    # with pop method we will check the element added at last so it gives a reverse string and compare it with input string\n",
    "    for val in input1:\n",
    "        if palStack.pop() == val:\n",
    "            continue\n",
    "        else:\n",
    "            return \"Not Palindrome\"\n",
    "        \n",
    "    return \"Palindrome\"\n",
    "    \n",
    "string = input(\"Enter a string: \")\n",
    "print(palindromeOrNot(string))"
   ]
  },
  {
   "cell_type": "markdown",
   "metadata": {},
   "source": [
    "2. Read lines from the file ‘1.txt’, sort the lines in natural sort order using the third letter of each line and finally write the sorted result to a file ‘1_out.txt’ (1 mark)."
   ]
  },
  {
   "cell_type": "code",
   "execution_count": 11,
   "metadata": {},
   "outputs": [
    {
     "name": "stdout",
     "output_type": "stream",
     "text": [
      "January\n",
      "February\n",
      "March\n",
      "April\n",
      "May\n",
      "June\n",
      "July\n",
      "August\n",
      "September\n",
      "October\n",
      "November\n",
      "December\n",
      "\n",
      "['January', 'February', 'March', 'April', 'May', 'June', 'July', 'August', 'September', 'October', 'November', 'December', '']\n",
      "February\n",
      "December\n",
      "August\n",
      "July\n",
      "January\n",
      "June\n",
      "September\n",
      "March\n",
      "April\n",
      "October\n",
      "November\n",
      "May\n"
     ]
    }
   ],
   "source": [
    "# reading file data\n",
    "with open(\"1.txt\",\"r\") as f:\n",
    "    file_data = f.read()\n",
    "print(file_data)\n",
    "\n",
    "# spiting by line seperator to form a list\n",
    "tokens = file_data.split(\"\\n\")\n",
    "print(tokens)\n",
    "#removing extra line added to list\n",
    "tokens.pop()\n",
    "\n",
    "#sorting by the third letter\n",
    "tokens.sort(key=lambda x: x[2])\n",
    "\n",
    "#forming a resulting string \n",
    "result = \"\\n\".join(tokens)\n",
    "print(result)\n",
    "#wrting result to 1_out.txt file \n",
    "with open(\"1_out.txt\",\"w\") as f:\n",
    "    f.write(result)"
   ]
  },
  {
   "cell_type": "markdown",
   "metadata": {},
   "source": [
    "3. Write a higher order function that has a formal parameter ‘mode’ of type int. If mode is ‘1’, this function should return a lambda function that converts a passed in temperature from Celsius to Fahrenheit and if mode is ‘2’ the higher order function should return a lambda function that converts a passed in temperature from Fahrenheit to Celsius. Call the higher order function for both modes and use the returned functions to convert 58 degrees Celsius to Fahrenheit and 58 degrees Fahrenheit to Celsius (1 mark)."
   ]
  },
  {
   "cell_type": "code",
   "execution_count": 8,
   "metadata": {},
   "outputs": [
    {
     "name": "stdout",
     "output_type": "stream",
     "text": [
      "136.4\n",
      "14.444444444444445\n"
     ]
    }
   ],
   "source": [
    "# temprature funtion is Higher Order Function which return lambda funtions to convert Celsius to Fahrenheit and vice versa\n",
    "def temprature(mode):\n",
    "    if mode == 1:\n",
    "        return lambda celsius:9/5*celsius+32\n",
    "    if mode == 2:\n",
    "        return lambda fahrenheit:(fahrenheit-32)* 5/9\n",
    "    \n",
    "mode1 = temprature(1)\n",
    "print(mode1(58))\n",
    "mode2 = temprature(2)\n",
    "print(mode2(58))"
   ]
  },
  {
   "cell_type": "markdown",
   "metadata": {},
   "source": [
    "4. Create a 4x4 matrix (list of lists) with random positive integer values using list comprehension. Use this matrix and list comprehension to create a new matrix such that even numbers remain unchanged, but odd numbers get incremented by 1 (1 mark)."
   ]
  },
  {
   "cell_type": "code",
   "execution_count": 9,
   "metadata": {},
   "outputs": [
    {
     "name": "stdout",
     "output_type": "stream",
     "text": [
      "[[34, 94, 35, 70], [34, 51, 5, 35], [62, 18, 64, 48], [10, 63, 54, 100]]\n",
      "[[34, 94, 36, 70], [34, 52, 6, 36], [62, 18, 64, 48], [10, 64, 54, 100]]\n"
     ]
    }
   ],
   "source": [
    "import random\n",
    "# using list comprehension and random module to create a 4x4 matrix\n",
    "matrix = [[random.randint(1,100) for i in range(4)] for j in range(4)]\n",
    "print(matrix)\n",
    "# using list comprehension with if else to increment odd numbers by 1 in matrix\n",
    "new_mat = [[matrix[j][i] if matrix[j][i]%2==0 else matrix[j][i]+1 for i in range(4)] for j in range(4)]\n",
    "print(new_mat)"
   ]
  },
  {
   "cell_type": "markdown",
   "metadata": {},
   "source": [
    "5. Read lines from files ‘5_1.txt’ and ‘5_2.txt’, find out the words that are present in file ‘5_2.txt’ but not in file ‘5_1.txt’ and finally write the result to a file named ‘5_out.txt’ (1 mark).\n"
   ]
  },
  {
   "cell_type": "code",
   "execution_count": 10,
   "metadata": {},
   "outputs": [
    {
     "name": "stdout",
     "output_type": "stream",
     "text": [
      "['Cat', 'Apple', 'Box', 'Tank', 'Jupyter', 'Institute', 'Random', 'Python', 'Common']\n",
      "['Python', 'India', 'Notebook', 'Box', 'Random', 'Common', 'Newline', 'Year', 'Apple', 'Orange']\n",
      "India\n",
      "Notebook\n",
      "Newline\n",
      "Year\n",
      "Orange\n"
     ]
    }
   ],
   "source": [
    "#Reading file 5_1.txt data\n",
    "with open(\"5_1.txt\",\"r\") as f:\n",
    "    file_data1 = f.read()\n",
    "list1 = file_data1.split(\"\\n\")\n",
    "#Removing extra line added to list\n",
    "list1.pop()\n",
    "print(list1)\n",
    "\n",
    "#Reading file 5_2.txt data\n",
    "with open(\"5_2.txt\",\"r\") as f:\n",
    "    file_data2 = f.read()\n",
    "list2 = file_data2.split(\"\\n\")\n",
    "#Removing extra line added to list\n",
    "list2.pop()\n",
    "print(list2)\n",
    "\n",
    "#To find words that are present in file 5_2.txt but not in 5_1.txt \n",
    "#we can remove the 5_1.txt words which are present in 5_2.txt\n",
    "for value in list1:\n",
    "    if value in list2:\n",
    "        list2.remove(value)\n",
    "        \n",
    "#forming a resulting string        \n",
    "result = \"\\n\".join(list2)\n",
    "print(result)\n",
    "\n",
    "#wrting result to 5_out.txt file \n",
    "with open(\"5_out.txt\",\"w\") as f:\n",
    "    f.write(result)"
   ]
  },
  {
   "cell_type": "code",
   "execution_count": null,
   "metadata": {},
   "outputs": [],
   "source": []
  }
 ],
 "metadata": {
  "kernelspec": {
   "display_name": "Python 3",
   "language": "python",
   "name": "python3"
  },
  "language_info": {
   "codemirror_mode": {
    "name": "ipython",
    "version": 3
   },
   "file_extension": ".py",
   "mimetype": "text/x-python",
   "name": "python",
   "nbconvert_exporter": "python",
   "pygments_lexer": "ipython3",
   "version": "3.7.6"
  }
 },
 "nbformat": 4,
 "nbformat_minor": 4
}
