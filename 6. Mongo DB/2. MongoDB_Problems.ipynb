{
 "cells": [
  {
   "cell_type": "code",
   "execution_count": 21,
   "metadata": {},
   "outputs": [],
   "source": [
    "# importing MongoClient\n",
    "from pymongo import MongoClient"
   ]
  },
  {
   "cell_type": "markdown",
   "metadata": {},
   "source": [
    "#### 1. Create a MongoDB database named ‘res_db’ and import data from ‘primer- dataset.json’ file into a collection named ‘restaurants’.\n",
    "\n",
    "Using following command in command prompt to import the database\n",
    "\n",
    "* mongoimport --db res_db --collection restaurants --file ./primer-dataset.json"
   ]
  },
  {
   "cell_type": "code",
   "execution_count": 22,
   "metadata": {},
   "outputs": [],
   "source": [
    "# Connect to a MongoDB instance running on localhost:\n",
    "client = MongoClient()# Can also specify the address and port of the server instead of default values"
   ]
  },
  {
   "cell_type": "code",
   "execution_count": 23,
   "metadata": {},
   "outputs": [
    {
     "data": {
      "text/plain": [
       "['admin', 'config', 'local', 'res_db']"
      ]
     },
     "execution_count": 23,
     "metadata": {},
     "output_type": "execute_result"
    }
   ],
   "source": [
    "#List databases\n",
    "client.list_database_names()"
   ]
  },
  {
   "cell_type": "markdown",
   "metadata": {},
   "source": [
    "#### 2. List all the attributes in the restaurants collection."
   ]
  },
  {
   "cell_type": "code",
   "execution_count": 24,
   "metadata": {},
   "outputs": [],
   "source": [
    "# Switching to res_db database\n",
    "res_db = client.res_db"
   ]
  },
  {
   "cell_type": "code",
   "execution_count": 25,
   "metadata": {},
   "outputs": [
    {
     "data": {
      "text/plain": [
       "['restaurants']"
      ]
     },
     "execution_count": 25,
     "metadata": {},
     "output_type": "execute_result"
    }
   ],
   "source": [
    "#Showing collections in res_db database\n",
    "res_db.list_collection_names()"
   ]
  },
  {
   "cell_type": "code",
   "execution_count": 26,
   "metadata": {},
   "outputs": [],
   "source": [
    "#Geting a reference to a collection\n",
    "restaurants = res_db.restaurants"
   ]
  },
  {
   "cell_type": "code",
   "execution_count": 27,
   "metadata": {},
   "outputs": [
    {
     "name": "stdout",
     "output_type": "stream",
     "text": [
      "_id\n",
      "address\n",
      "borough\n",
      "cuisine\n",
      "grades\n",
      "name\n",
      "restaurant_id\n"
     ]
    }
   ],
   "source": [
    "# Fetching document from a collection and listing its attributes\n",
    "restaurant = restaurants.find_one() # findone method that returns a single document\n",
    "#looping through the restaurant to list all the attributes\n",
    "for attribute in list(restaurant.keys()):\n",
    "    print(attribute)"
   ]
  },
  {
   "cell_type": "markdown",
   "metadata": {},
   "source": [
    "#### 3. Count the total number of restaurants."
   ]
  },
  {
   "cell_type": "code",
   "execution_count": 28,
   "metadata": {},
   "outputs": [
    {
     "data": {
      "text/plain": [
       "25359"
      ]
     },
     "execution_count": 28,
     "metadata": {},
     "output_type": "execute_result"
    }
   ],
   "source": [
    "# Using count_documents method to count total restaurants in the collection\n",
    "restaurants.count_documents({})"
   ]
  },
  {
   "cell_type": "markdown",
   "metadata": {},
   "source": [
    "#### 4. Count the number of restaurants with American cuisine."
   ]
  },
  {
   "cell_type": "code",
   "execution_count": 29,
   "metadata": {},
   "outputs": [
    {
     "data": {
      "text/plain": [
       "{'_id': ObjectId('61545c502e4dda96db6184f5'),\n",
       " 'address': {'building': '2780',\n",
       "  'coord': [-73.98241999999999, 40.579505],\n",
       "  'street': 'Stillwell Avenue',\n",
       "  'zipcode': '11224'},\n",
       " 'borough': 'Brooklyn',\n",
       " 'cuisine': 'American',\n",
       " 'grades': [{'date': datetime.datetime(2014, 6, 10, 0, 0),\n",
       "   'grade': 'A',\n",
       "   'score': 5},\n",
       "  {'date': datetime.datetime(2013, 6, 5, 0, 0), 'grade': 'A', 'score': 7},\n",
       "  {'date': datetime.datetime(2012, 4, 13, 0, 0), 'grade': 'A', 'score': 12},\n",
       "  {'date': datetime.datetime(2011, 10, 12, 0, 0), 'grade': 'A', 'score': 12}],\n",
       " 'name': 'Riviera Caterer',\n",
       " 'restaurant_id': '40356018'}"
      ]
     },
     "execution_count": 29,
     "metadata": {},
     "output_type": "execute_result"
    }
   ],
   "source": [
    "# showing the object structure\n",
    "restaurant = restaurants.find_one()\n",
    "restaurant"
   ]
  },
  {
   "cell_type": "code",
   "execution_count": 30,
   "metadata": {},
   "outputs": [
    {
     "data": {
      "text/plain": [
       "6183"
      ]
     },
     "execution_count": 30,
     "metadata": {},
     "output_type": "execute_result"
    }
   ],
   "source": [
    "#finding the count of restaurants with American cuisine \n",
    "restaurants.count_documents({'cuisine':'American'})"
   ]
  },
  {
   "cell_type": "markdown",
   "metadata": {},
   "source": [
    "#### 5. Show a cuisine-wise count of restaurants."
   ]
  },
  {
   "cell_type": "code",
   "execution_count": 31,
   "metadata": {},
   "outputs": [
    {
     "name": "stdout",
     "output_type": "stream",
     "text": [
      "Hotdogs/Pretzels Cuisine has 16 restaurants\n",
      "Southwestern Cuisine has 9 restaurants\n",
      "Barbecue Cuisine has 52 restaurants\n",
      "Chinese Cuisine has 2418 restaurants\n",
      "Peruvian Cuisine has 68 restaurants\n",
      "Filipino Cuisine has 26 restaurants\n",
      "English Cuisine has 16 restaurants\n",
      "Chicken Cuisine has 410 restaurants\n",
      "Pizza Cuisine has 1163 restaurants\n",
      "Italian Cuisine has 1069 restaurants\n",
      "Steak Cuisine has 86 restaurants\n",
      "Pizza/Italian Cuisine has 468 restaurants\n",
      "Afghan Cuisine has 14 restaurants\n",
      "Pakistani Cuisine has 31 restaurants\n",
      "Hotdogs Cuisine has 34 restaurants\n",
      "Soups Cuisine has 4 restaurants\n",
      "Turkish Cuisine has 70 restaurants\n",
      "Fruits/Vegetables Cuisine has 7 restaurants\n",
      "Cajun Cuisine has 7 restaurants\n",
      "Chilean Cuisine has 1 restaurants\n",
      "Scandinavian Cuisine has 7 restaurants\n",
      "Creole/Cajun Cuisine has 1 restaurants\n",
      "Ethiopian Cuisine has 18 restaurants\n",
      "Korean Cuisine has 262 restaurants\n",
      "Hamburgers Cuisine has 433 restaurants\n",
      "Eastern European Cuisine has 65 restaurants\n",
      "Soups & Sandwiches Cuisine has 51 restaurants\n",
      "Tapas Cuisine has 28 restaurants\n",
      "Tex-Mex Cuisine has 143 restaurants\n",
      "Portuguese Cuisine has 8 restaurants\n",
      "Other Cuisine has 1011 restaurants\n",
      "Delicatessen Cuisine has 321 restaurants\n",
      "Chinese/Cuban Cuisine has 16 restaurants\n",
      "Irish Cuisine has 190 restaurants\n",
      "Egyptian Cuisine has 14 restaurants\n",
      "Polynesian Cuisine has 1 restaurants\n",
      "Bagels/Pretzels Cuisine has 168 restaurants\n",
      "Moroccan Cuisine has 15 restaurants\n",
      "Brazilian Cuisine has 26 restaurants\n",
      "Sandwiches Cuisine has 459 restaurants\n",
      "Continental Cuisine has 58 restaurants\n",
      "Indonesian Cuisine has 8 restaurants\n",
      "Mediterranean Cuisine has 219 restaurants\n",
      "Armenian Cuisine has 40 restaurants\n",
      "African Cuisine has 68 restaurants\n",
      "Thai Cuisine has 285 restaurants\n",
      "Sandwiches/Salads/Mixed Buffet Cuisine has 255 restaurants\n",
      "Russian Cuisine has 88 restaurants\n",
      "Bottled beverages, including water, sodas, juices, etc. Cuisine has 72 restaurants\n",
      "Vietnamese/Cambodian/Malaysia Cuisine has 66 restaurants\n",
      "CafÃ©/Coffee/Tea Cuisine has 2 restaurants\n",
      "Californian Cuisine has 1 restaurants\n",
      "French Cuisine has 344 restaurants\n",
      "Nuts/Confectionary Cuisine has 6 restaurants\n",
      "Pancakes/Waffles Cuisine has 16 restaurants\n",
      "Middle Eastern Cuisine has 168 restaurants\n",
      "Creole Cuisine has 24 restaurants\n",
      "Caribbean Cuisine has 657 restaurants\n",
      "American Cuisine has 6183 restaurants\n",
      "Mexican Cuisine has 754 restaurants\n",
      "Iranian Cuisine has 2 restaurants\n",
      "Czech Cuisine has 6 restaurants\n",
      "Café/Coffee/Tea Cuisine has 1214 restaurants\n",
      "German Cuisine has 31 restaurants\n",
      "Not Listed/Not Applicable Cuisine has 19 restaurants\n",
      "Jewish/Kosher Cuisine has 316 restaurants\n",
      "Ice Cream, Gelato, Yogurt, Ices Cuisine has 348 restaurants\n",
      "Japanese Cuisine has 760 restaurants\n",
      "Vegetarian Cuisine has 102 restaurants\n",
      "Bangladeshi Cuisine has 36 restaurants\n",
      "Bakery Cuisine has 691 restaurants\n",
      "Australian Cuisine has 16 restaurants\n",
      "Hawaiian Cuisine has 3 restaurants\n",
      "Asian Cuisine has 309 restaurants\n",
      "Polish Cuisine has 25 restaurants\n",
      "Indian Cuisine has 316 restaurants\n",
      "Latin (Cuban, Dominican, Puerto Rican, South & Central American) Cuisine has 850 restaurants\n",
      "Seafood Cuisine has 147 restaurants\n",
      "Juice, Smoothies, Fruit Salads Cuisine has 273 restaurants\n",
      "Spanish Cuisine has 637 restaurants\n",
      "Donuts Cuisine has 479 restaurants\n",
      "Greek Cuisine has 111 restaurants\n",
      "Chinese/Japanese Cuisine has 59 restaurants\n",
      "Salads Cuisine has 45 restaurants\n",
      "Soul Food Cuisine has 44 restaurants\n"
     ]
    }
   ],
   "source": [
    "#passed a pipeline to aggregate for finding the cuisine-wise count of the restaurants\n",
    "cuisine_wise_cursor = restaurants.aggregate([{\"$group\" : { \"_id\" : '$cuisine', \"count\" : {\"$sum\" : 1}}}])\n",
    "for restaurant in cuisine_wise_cursor:\n",
    "    # formating the output\n",
    "    print(f\"{restaurant['_id']} Cuisine has {restaurant['count']} restaurants\")"
   ]
  },
  {
   "cell_type": "markdown",
   "metadata": {},
   "source": [
    "#### 6. Count the number of Hawaiian cuisine restaurants with grade=A."
   ]
  },
  {
   "cell_type": "code",
   "execution_count": 32,
   "metadata": {},
   "outputs": [
    {
     "name": "stdout",
     "output_type": "stream",
     "text": [
      "{'_id': ObjectId('61545c512e4dda96db61b387'), 'address': {'building': '2245', 'coord': [-73.93600099999999, 40.795675], 'street': '1 Avenue', 'zipcode': '10029'}, 'borough': 'Manhattan', 'cuisine': 'Hawaiian', 'grades': [{'date': datetime.datetime(2014, 9, 17, 0, 0), 'grade': 'C', 'score': 29}, {'date': datetime.datetime(2014, 4, 11, 0, 0), 'grade': 'C', 'score': 12}, {'date': datetime.datetime(2013, 10, 2, 0, 0), 'grade': 'A', 'score': 9}, {'date': datetime.datetime(2013, 4, 2, 0, 0), 'grade': 'C', 'score': 41}, {'date': datetime.datetime(2012, 1, 23, 0, 0), 'grade': 'A', 'score': 9}], 'name': 'Makana', 'restaurant_id': '41509012'}\n",
      "{'_id': ObjectId('61545c512e4dda96db61b40a'), 'address': {'building': '360', 'coord': [-73.9854351, 40.7419304], 'street': 'Park Avenue South', 'zipcode': '10010'}, 'borough': 'Manhattan', 'cuisine': 'Hawaiian', 'grades': [{'date': datetime.datetime(2014, 6, 25, 0, 0), 'grade': 'A', 'score': 11}, {'date': datetime.datetime(2013, 4, 24, 0, 0), 'grade': 'A', 'score': 10}, {'date': datetime.datetime(2012, 8, 13, 0, 0), 'grade': 'A', 'score': 13}, {'date': datetime.datetime(2011, 8, 18, 0, 0), 'grade': 'A', 'score': 13}], 'name': 'General Assembly', 'restaurant_id': '41515513'}\n",
      "{'_id': ObjectId('61545c512e4dda96db61d251'), 'address': {'building': '84', 'coord': [-73.9562856, 40.7139315], 'street': 'Havemeyer Street', 'zipcode': '11211'}, 'borough': 'Brooklyn', 'cuisine': 'Hawaiian', 'grades': [{'date': datetime.datetime(2014, 11, 18, 0, 0), 'grade': 'A', 'score': 12}, {'date': datetime.datetime(2014, 3, 14, 0, 0), 'grade': 'A', 'score': 12}], 'name': 'Onomea', 'restaurant_id': '50002079'}\n"
     ]
    }
   ],
   "source": [
    "#using find  to find the restaurants with cuisine as hawaiian\n",
    "Hawaiian =restaurants.find({'cuisine':'Hawaiian'})\n",
    "for rest in Hawaiian:\n",
    "    print(rest)"
   ]
  },
  {
   "cell_type": "code",
   "execution_count": 33,
   "metadata": {},
   "outputs": [
    {
     "data": {
      "text/plain": [
       "3"
      ]
     },
     "execution_count": 33,
     "metadata": {},
     "output_type": "execute_result"
    }
   ],
   "source": [
    "#counting the Hawaiian cuisine restaurants with grade=A\n",
    "restaurants.count_documents({'cuisine':'Hawaiian','grades':{'$elemMatch':{\"grade\":'A'}}})"
   ]
  },
  {
   "cell_type": "markdown",
   "metadata": {},
   "source": [
    "#### 7. Show cuisines having a restaurant count more than 100."
   ]
  },
  {
   "cell_type": "code",
   "execution_count": 34,
   "metadata": {},
   "outputs": [],
   "source": [
    "#Using match with $gt to find Cuisines having restaurant count more than 100.\n",
    "cuisine_wise_cursor = restaurants.aggregate([{\"$group\" : { \"_id\" : '$cuisine', \"count\" : {\"$sum\" : 1}}}, \n",
    "                                             {\"$match\": {\"count\": { \"$gt\": 100 }}}])"
   ]
  },
  {
   "cell_type": "code",
   "execution_count": 35,
   "metadata": {},
   "outputs": [
    {
     "name": "stdout",
     "output_type": "stream",
     "text": [
      "Cuisines having more than 100  restaurants\n",
      " \n",
      "Chinese Cuisine with 2418 restaurants\n",
      "Chicken Cuisine with 410 restaurants\n",
      "Pizza Cuisine with 1163 restaurants\n",
      "Italian Cuisine with 1069 restaurants\n",
      "Pizza/Italian Cuisine with 468 restaurants\n",
      "Korean Cuisine with 262 restaurants\n",
      "Hamburgers Cuisine with 433 restaurants\n",
      "Tex-Mex Cuisine with 143 restaurants\n",
      "Other Cuisine with 1011 restaurants\n",
      "Delicatessen Cuisine with 321 restaurants\n",
      "Irish Cuisine with 190 restaurants\n",
      "Bagels/Pretzels Cuisine with 168 restaurants\n",
      "Sandwiches Cuisine with 459 restaurants\n",
      "Mediterranean Cuisine with 219 restaurants\n",
      "Thai Cuisine with 285 restaurants\n",
      "Sandwiches/Salads/Mixed Buffet Cuisine with 255 restaurants\n",
      "French Cuisine with 344 restaurants\n",
      "Middle Eastern Cuisine with 168 restaurants\n",
      "Caribbean Cuisine with 657 restaurants\n",
      "American Cuisine with 6183 restaurants\n",
      "Mexican Cuisine with 754 restaurants\n",
      "Café/Coffee/Tea Cuisine with 1214 restaurants\n",
      "Jewish/Kosher Cuisine with 316 restaurants\n",
      "Ice Cream, Gelato, Yogurt, Ices Cuisine with 348 restaurants\n",
      "Japanese Cuisine with 760 restaurants\n",
      "Vegetarian Cuisine with 102 restaurants\n",
      "Bakery Cuisine with 691 restaurants\n",
      "Asian Cuisine with 309 restaurants\n",
      "Indian Cuisine with 316 restaurants\n",
      "Latin (Cuban, Dominican, Puerto Rican, South & Central American) Cuisine with 850 restaurants\n",
      "Seafood Cuisine with 147 restaurants\n",
      "Juice, Smoothies, Fruit Salads Cuisine with 273 restaurants\n",
      "Spanish Cuisine with 637 restaurants\n",
      "Donuts Cuisine with 479 restaurants\n",
      "Greek Cuisine with 111 restaurants\n"
     ]
    }
   ],
   "source": [
    "print(\"Cuisines having more than 100  restaurants\\n \")\n",
    "for restaurant in cuisine_wise_cursor:\n",
    "    # formating the output\n",
    "    print(f\"{restaurant['_id']} Cuisine with {restaurant['count']} restaurants\")"
   ]
  }
 ],
 "metadata": {
  "kernelspec": {
   "display_name": "Python 3 (ipykernel)",
   "language": "python",
   "name": "python3"
  },
  "language_info": {
   "codemirror_mode": {
    "name": "ipython",
    "version": 3
   },
   "file_extension": ".py",
   "mimetype": "text/x-python",
   "name": "python",
   "nbconvert_exporter": "python",
   "pygments_lexer": "ipython3",
   "version": "3.8.2"
  }
 },
 "nbformat": 4,
 "nbformat_minor": 4
}
