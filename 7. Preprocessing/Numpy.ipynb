{
 "cells": [
  {
   "cell_type": "markdown",
   "metadata": {},
   "source": [
    "# Numpy"
   ]
  },
  {
   "cell_type": "markdown",
   "metadata": {},
   "source": [
    "Numerical Python!<br>\n",
    "Numpy is used to create homogeneous multidimensional array<br>\n",
    "NumPy dimensions are called axes.<br>"
   ]
  },
  {
   "cell_type": "code",
   "execution_count": 2,
   "metadata": {},
   "outputs": [
    {
     "data": {
      "text/plain": [
       "array([0. , 0.3, 0.6, 0.9, 1.2, 1.5, 1.8])"
      ]
     },
     "execution_count": 2,
     "metadata": {},
     "output_type": "execute_result"
    }
   ],
   "source": [
    "import numpy as np\n",
    "#The arange function:\n",
    "\n",
    "#numpy.arange([start, ]stop, [step, ]dtype=None)\n",
    "np.arange( 0, 2, 0.3 )"
   ]
  },
  {
   "cell_type": "code",
   "execution_count": 5,
   "metadata": {
    "scrolled": true
   },
   "outputs": [
    {
     "name": "stdout",
     "output_type": "stream",
     "text": [
      "[[ 0.   0.5  1.   1.5  2.   2.5  3.   3.5]\n",
      " [ 4.   4.5  5.   5.5  6.   6.5  7.   7.5]\n",
      " [ 8.   8.5  9.   9.5 10.  10.5 11.  11.5]\n",
      " [12.  12.5 13.  13.5 14.  14.5 15.  15.5]\n",
      " [16.  16.5 17.  17.5 18.  18.5 19.  19.5]] \n",
      "\n",
      "ndim: 2 \n",
      "\n",
      "shape: (5, 8) \n",
      "\n",
      "dtype: float32 \n",
      "\n",
      "item size: 4 \n",
      "\n",
      "size: 40 \n",
      "\n",
      "type of a: <class 'numpy.ndarray'> \n",
      "\n"
     ]
    }
   ],
   "source": [
    "import numpy as np\n",
    "\n",
    "a = np.arange(0,20,0.5,dtype=np.float32).reshape(5, 8)\n",
    "\n",
    "print(a,\"\\n\")\n",
    "\n",
    "#Number of dimensions\n",
    "print(\"ndim:\", a.ndim,\"\\n\")\n",
    "\n",
    "#Shape or dimensions\n",
    "print(\"shape:\", a.shape,\"\\n\")\n",
    "\n",
    "#Data Type of elements\n",
    "print(\"dtype:\", a.dtype.name,\"\\n\")\n",
    "\n",
    "#No of bytes required for each element\n",
    "print(\"item size:\",a.itemsize,\"\\n\")\n",
    "\n",
    "#Number of elements\n",
    "print(\"size:\",a.size,\"\\n\")\n",
    "\n",
    "#Data type of the array\n",
    "print(\"type of a:\",type(a),\"\\n\")\n"
   ]
  },
  {
   "cell_type": "code",
   "execution_count": 6,
   "metadata": {},
   "outputs": [
    {
     "name": "stdout",
     "output_type": "stream",
     "text": [
      "\n",
      "Zeros:\n",
      " [[0. 0. 0. 0.]\n",
      " [0. 0. 0. 0.]\n",
      " [0. 0. 0. 0.]]\n",
      "\n",
      "Ones:\n",
      " [[1. 1. 1. 1.]\n",
      " [1. 1. 1. 1.]\n",
      " [1. 1. 1. 1.]]\n",
      "\n",
      "Ones_like:\n",
      " [[1. 1. 1. 1. 1. 1. 1. 1.]\n",
      " [1. 1. 1. 1. 1. 1. 1. 1.]\n",
      " [1. 1. 1. 1. 1. 1. 1. 1.]\n",
      " [1. 1. 1. 1. 1. 1. 1. 1.]\n",
      " [1. 1. 1. 1. 1. 1. 1. 1.]]\n",
      "\n",
      "Zeros_like:\n",
      " [[0. 0. 0. 0. 0. 0. 0. 0.]\n",
      " [0. 0. 0. 0. 0. 0. 0. 0.]\n",
      " [0. 0. 0. 0. 0. 0. 0. 0.]\n",
      " [0. 0. 0. 0. 0. 0. 0. 0.]\n",
      " [0. 0. 0. 0. 0. 0. 0. 0.]]\n"
     ]
    }
   ],
   "source": [
    "#Some Useful functions:\n",
    "\n",
    "print(\"\\nZeros:\\n\",np.zeros((3, 4)))\n",
    "print(\"\\nOnes:\\n\",np.ones((3, 4)))\n",
    "print(\"\\nOnes_like:\\n\",np.ones_like(a))\n",
    "print(\"\\nZeros_like:\\n\",np.zeros_like(a))"
   ]
  },
  {
   "cell_type": "code",
   "execution_count": 4,
   "metadata": {},
   "outputs": [
    {
     "name": "stdout",
     "output_type": "stream",
     "text": [
      "\n",
      " Array a: [0 1 2 3]\n",
      "\n",
      " Array b: [0 1 2 3]\n",
      "\n",
      " Array b+1: [1 2 3 4]\n",
      "\n",
      " Array b+1-1: [0 1 2 3]\n",
      "\n",
      " Array b^2(element-wise): [0 1 4 9]\n",
      "\n",
      " Elementwise equality check for List: [ True  True  True False]\n",
      "\n",
      " Elementwise equality check for List: False\n",
      "\n",
      " Elementwise equality check for Array: [ True False]\n"
     ]
    }
   ],
   "source": [
    "#Arithmetic Operators:\n",
    "\n",
    "a = np.array([0,1,2,3])\n",
    "b = np.arange(4)\n",
    "print(\"\\n Array a:\",a)\n",
    "print(\"\\n Array b:\",b)\n",
    "\n",
    "#Not inplace\n",
    "#BROADCASTING\n",
    "b = b+1\n",
    "print(\"\\n Array b+1:\",b)\n",
    "\n",
    "b -= 1\n",
    "print(\"\\n Array b+1-1:\",b)\n",
    "\n",
    "c = b**2\n",
    "print(\"\\n Array b^2(element-wise):\",c)\n",
    "\n",
    "print(\"\\n Elementwise equality check for List:\",a == [0,1,2,4])\n",
    "\n",
    "print(\"\\n Elementwise equality check for List:\",[0,1,2,3] == [0,1,2,4])\n",
    "\n",
    "print(\"\\n Elementwise equality check for Array:\",np.array([1,3])==np.array([1,2]))\n"
   ]
  },
  {
   "cell_type": "code",
   "execution_count": 5,
   "metadata": {},
   "outputs": [
    {
     "name": "stdout",
     "output_type": "stream",
     "text": [
      "\n",
      "The original matrix A:\n",
      "[[1 2]\n",
      " [3 4]]\n",
      "\n",
      "The original matrix B:\n",
      "[[2 4]\n",
      " [6 8]]\n",
      "\n",
      "Add two matrix (A+B)\n",
      "[[ 3  6]\n",
      " [ 9 12]]\n",
      "\n",
      "Hadamard product (element wise or Schur product): A*B:\n",
      "[[ 2  8]\n",
      " [18 32]]\n",
      "\n",
      "Usual matrix multiplication 1:\n",
      "[[14 20]\n",
      " [30 44]]\n",
      "\n",
      "Usual matrix multiplication 2:\n",
      "[[14 20]\n",
      " [30 44]]\n"
     ]
    }
   ],
   "source": [
    "#Matrix Operations:\n",
    "\n",
    "A = np.array([[1,2],[3,4]])\n",
    "\n",
    "B = A*2\n",
    "\n",
    "print(\"\\nThe original matrix A:\")\n",
    "print(A)\n",
    "\n",
    "print(\"\\nThe original matrix B:\")\n",
    "print(B)\n",
    "\n",
    "print(\"\\nAdd two matrix (A+B)\")\n",
    "print(np.add(A,B))\n",
    "\n",
    "print(\"\\nHadamard product (element wise or Schur product): A*B:\")\n",
    "print(A * B)                       # elementwise product\n",
    "\n",
    "print(\"\\nUsual matrix multiplication 1:\")\n",
    "print(A @ B)                       # matrix product.\n",
    "\n",
    "print(\"\\nUsual matrix multiplication 2:\")\n",
    "print(A.dot(B))                    # another matrix product"
   ]
  },
  {
   "cell_type": "code",
   "execution_count": 7,
   "metadata": {},
   "outputs": [
    {
     "name": "stdout",
     "output_type": "stream",
     "text": [
      "\n",
      "Original Array:\n",
      "[  0   1   8  27  64 125 216 343 512 729]\n",
      "\n",
      "Showig a slice Array from 2 to 4:\n",
      "[ 8 27 64]\n",
      "\n",
      "Showing elements in steps of 3 starting with 2:\n",
      "[  8 125 512]\n",
      "\n",
      "Set elements 0, 2 and 4 to '1000':\n",
      "[1000    1 1000   27 1000  125  216  343  512  729]\n",
      "\n",
      "Print entire array in reverse order:\n",
      "[ 729  512  343  216  125 1000   27 1000    1 1000]\n",
      "\n",
      "Print entire array to demonstrate use of '...':\n",
      "[1000    1 1000   27 1000  125  216  343  512  729]\n"
     ]
    }
   ],
   "source": [
    "#Slicing and creating views:\n",
    "\n",
    "a = np.arange(10)**3\n",
    "print(\"\\nOriginal Array:\")\n",
    "print(a)\n",
    "\n",
    "print(\"\\nShowig a slice Array from 2 to 4:\")\n",
    "print(a[2:5])\n",
    "\n",
    "print(\"\\nShowing elements in steps of 3 starting with 2:\")\n",
    "print(a[2:12:3])\n",
    "\n",
    "print(\"\\nSet elements 0, 2 and 4 to '1000':\")\n",
    "a[:6:2] = 1000\n",
    "print(a)\n",
    "\n",
    "print(\"\\nPrint entire array in reverse order:\")\n",
    "print(a[ : :-1])\n",
    "\n",
    "print(\"\\nPrint entire array to demonstrate use of '...':\")\n",
    "print(a[...])"
   ]
  },
  {
   "cell_type": "code",
   "execution_count": 7,
   "metadata": {},
   "outputs": [],
   "source": [
    "# Reshape\n",
    "# Returns an array containing the same data with a new shape.\n",
    "\n",
    "arr = np.arange(25)"
   ]
  },
  {
   "cell_type": "code",
   "execution_count": 8,
   "metadata": {},
   "outputs": [
    {
     "data": {
      "text/plain": [
       "array([[ 0,  1,  2,  3,  4],\n",
       "       [ 5,  6,  7,  8,  9],\n",
       "       [10, 11, 12, 13, 14],\n",
       "       [15, 16, 17, 18, 19],\n",
       "       [20, 21, 22, 23, 24]])"
      ]
     },
     "execution_count": 8,
     "metadata": {},
     "output_type": "execute_result"
    }
   ],
   "source": [
    "arr.reshape(5,5)"
   ]
  },
  {
   "cell_type": "code",
   "execution_count": 9,
   "metadata": {},
   "outputs": [],
   "source": [
    "ranarr = np.random.randint(0,50,10)"
   ]
  },
  {
   "cell_type": "code",
   "execution_count": 10,
   "metadata": {},
   "outputs": [
    {
     "data": {
      "text/plain": [
       "array([18, 42, 32, 10, 28, 35,  2, 21, 31, 47])"
      ]
     },
     "execution_count": 10,
     "metadata": {},
     "output_type": "execute_result"
    }
   ],
   "source": [
    "ranarr"
   ]
  },
  {
   "cell_type": "code",
   "execution_count": 11,
   "metadata": {},
   "outputs": [
    {
     "data": {
      "text/plain": [
       "47"
      ]
     },
     "execution_count": 11,
     "metadata": {},
     "output_type": "execute_result"
    }
   ],
   "source": [
    "# Min,Max,argmax,argmin\n",
    "ranarr.max()"
   ]
  },
  {
   "cell_type": "code",
   "execution_count": 12,
   "metadata": {},
   "outputs": [
    {
     "data": {
      "text/plain": [
       "9"
      ]
     },
     "execution_count": 12,
     "metadata": {},
     "output_type": "execute_result"
    }
   ],
   "source": [
    "ranarr.argmax()"
   ]
  },
  {
   "cell_type": "code",
   "execution_count": 13,
   "metadata": {},
   "outputs": [
    {
     "data": {
      "text/plain": [
       "2"
      ]
     },
     "execution_count": 13,
     "metadata": {},
     "output_type": "execute_result"
    }
   ],
   "source": [
    "ranarr.min()"
   ]
  },
  {
   "cell_type": "code",
   "execution_count": 14,
   "metadata": {},
   "outputs": [
    {
     "data": {
      "text/plain": [
       "6"
      ]
     },
     "execution_count": 14,
     "metadata": {},
     "output_type": "execute_result"
    }
   ],
   "source": [
    "ranarr.argmin()"
   ]
  },
  {
   "cell_type": "code",
   "execution_count": null,
   "metadata": {},
   "outputs": [],
   "source": []
  }
 ],
 "metadata": {
  "kernelspec": {
   "display_name": "Python 3",
   "language": "python",
   "name": "python3"
  },
  "language_info": {
   "codemirror_mode": {
    "name": "ipython",
    "version": 3
   },
   "file_extension": ".py",
   "mimetype": "text/x-python",
   "name": "python",
   "nbconvert_exporter": "python",
   "pygments_lexer": "ipython3",
   "version": "3.7.6"
  }
 },
 "nbformat": 4,
 "nbformat_minor": 5
}
